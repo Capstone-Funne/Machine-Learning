{
  "nbformat": 4,
  "nbformat_minor": 0,
  "metadata": {
    "colab": {
      "provenance": []
    },
    "kernelspec": {
      "name": "python3",
      "display_name": "Python 3"
    },
    "language_info": {
      "name": "python"
    }
  },
  "cells": [
    {
      "cell_type": "code",
      "execution_count": 1,
      "metadata": {
        "id": "N2uE2mhq6GDZ"
      },
      "outputs": [],
      "source": [
        "import tensorflow as tf\n",
        "import pandas as pd\n",
        "import numpy as np\n",
        "import matplotlib.pyplot as plt"
      ]
    },
    {
      "cell_type": "code",
      "source": [
        "from google.colab import drive\n",
        "drive.mount('/content/drive')"
      ],
      "metadata": {
        "colab": {
          "base_uri": "https://localhost:8080/"
        },
        "id": "qGqqTdsG2lXZ",
        "outputId": "9223225c-0729-47fd-e44e-5d907e7bed61"
      },
      "execution_count": 5,
      "outputs": [
        {
          "output_type": "stream",
          "name": "stdout",
          "text": [
            "Drive already mounted at /content/drive; to attempt to forcibly remount, call drive.mount(\"/content/drive\", force_remount=True).\n"
          ]
        }
      ]
    },
    {
      "cell_type": "code",
      "source": [
        "# Read the CSV file into a DataFrame\n",
        "df = pd.read_csv('/content/drive/MyDrive/CAPSTONE PROJECT BANGKIT/v0.1  intg clean data.csv')\n"
      ],
      "metadata": {
        "id": "gsaMU4Uh15Mf"
      },
      "execution_count": 7,
      "outputs": []
    },
    {
      "cell_type": "code",
      "source": [
        "# Display the first 10 rows of the DataFrame\n",
        "df.head(10)"
      ],
      "metadata": {
        "colab": {
          "base_uri": "https://localhost:8080/",
          "height": 363
        },
        "id": "5SrcWVJkDE3V",
        "outputId": "c00e2910-68cc-4b46-924b-22806f3fd59f"
      },
      "execution_count": 8,
      "outputs": [
        {
          "output_type": "execute_result",
          "data": {
            "text/plain": [
              "   Label                                        Ingredients\n",
              "0      1  Algae (Seaweed) Extract, Mineral Oil, Petrolat...\n",
              "1      1  Galactomyces Ferment Filtrate (Pitera), Butyle...\n",
              "2      1  Water, Dicaprylyl Carbonate, Glycerin, Ceteary...\n",
              "3      1  Algae (Seaweed) Extract, Cyclopentasiloxane, P...\n",
              "4      1  Water, Snail Secretion Filtrate, Phenyl Trimet...\n",
              "5      1  Water, Saccharomyces/Camellia Sinensis Leaf/Cl...\n",
              "6      1  Water, Glycerin, Caprylic/ Capric Triglyceride...\n",
              "7      1  100% Unrefined Sclerocraya Birrea (Marula) Ker...\n",
              "8      1  Water, Glycerin, Cyclohexasiloxane, Squalane, ...\n",
              "9      1  Algae (Seaweed) Extract, Mineral Oil, Petrolat..."
            ],
            "text/html": [
              "\n",
              "  <div id=\"df-1449feda-bb04-43dc-a1bd-2a2b29146952\">\n",
              "    <div class=\"colab-df-container\">\n",
              "      <div>\n",
              "<style scoped>\n",
              "    .dataframe tbody tr th:only-of-type {\n",
              "        vertical-align: middle;\n",
              "    }\n",
              "\n",
              "    .dataframe tbody tr th {\n",
              "        vertical-align: top;\n",
              "    }\n",
              "\n",
              "    .dataframe thead th {\n",
              "        text-align: right;\n",
              "    }\n",
              "</style>\n",
              "<table border=\"1\" class=\"dataframe\">\n",
              "  <thead>\n",
              "    <tr style=\"text-align: right;\">\n",
              "      <th></th>\n",
              "      <th>Label</th>\n",
              "      <th>Ingredients</th>\n",
              "    </tr>\n",
              "  </thead>\n",
              "  <tbody>\n",
              "    <tr>\n",
              "      <th>0</th>\n",
              "      <td>1</td>\n",
              "      <td>Algae (Seaweed) Extract, Mineral Oil, Petrolat...</td>\n",
              "    </tr>\n",
              "    <tr>\n",
              "      <th>1</th>\n",
              "      <td>1</td>\n",
              "      <td>Galactomyces Ferment Filtrate (Pitera), Butyle...</td>\n",
              "    </tr>\n",
              "    <tr>\n",
              "      <th>2</th>\n",
              "      <td>1</td>\n",
              "      <td>Water, Dicaprylyl Carbonate, Glycerin, Ceteary...</td>\n",
              "    </tr>\n",
              "    <tr>\n",
              "      <th>3</th>\n",
              "      <td>1</td>\n",
              "      <td>Algae (Seaweed) Extract, Cyclopentasiloxane, P...</td>\n",
              "    </tr>\n",
              "    <tr>\n",
              "      <th>4</th>\n",
              "      <td>1</td>\n",
              "      <td>Water, Snail Secretion Filtrate, Phenyl Trimet...</td>\n",
              "    </tr>\n",
              "    <tr>\n",
              "      <th>5</th>\n",
              "      <td>1</td>\n",
              "      <td>Water, Saccharomyces/Camellia Sinensis Leaf/Cl...</td>\n",
              "    </tr>\n",
              "    <tr>\n",
              "      <th>6</th>\n",
              "      <td>1</td>\n",
              "      <td>Water, Glycerin, Caprylic/ Capric Triglyceride...</td>\n",
              "    </tr>\n",
              "    <tr>\n",
              "      <th>7</th>\n",
              "      <td>1</td>\n",
              "      <td>100% Unrefined Sclerocraya Birrea (Marula) Ker...</td>\n",
              "    </tr>\n",
              "    <tr>\n",
              "      <th>8</th>\n",
              "      <td>1</td>\n",
              "      <td>Water, Glycerin, Cyclohexasiloxane, Squalane, ...</td>\n",
              "    </tr>\n",
              "    <tr>\n",
              "      <th>9</th>\n",
              "      <td>1</td>\n",
              "      <td>Algae (Seaweed) Extract, Mineral Oil, Petrolat...</td>\n",
              "    </tr>\n",
              "  </tbody>\n",
              "</table>\n",
              "</div>\n",
              "      <button class=\"colab-df-convert\" onclick=\"convertToInteractive('df-1449feda-bb04-43dc-a1bd-2a2b29146952')\"\n",
              "              title=\"Convert this dataframe to an interactive table.\"\n",
              "              style=\"display:none;\">\n",
              "        \n",
              "  <svg xmlns=\"http://www.w3.org/2000/svg\" height=\"24px\"viewBox=\"0 0 24 24\"\n",
              "       width=\"24px\">\n",
              "    <path d=\"M0 0h24v24H0V0z\" fill=\"none\"/>\n",
              "    <path d=\"M18.56 5.44l.94 2.06.94-2.06 2.06-.94-2.06-.94-.94-2.06-.94 2.06-2.06.94zm-11 1L8.5 8.5l.94-2.06 2.06-.94-2.06-.94L8.5 2.5l-.94 2.06-2.06.94zm10 10l.94 2.06.94-2.06 2.06-.94-2.06-.94-.94-2.06-.94 2.06-2.06.94z\"/><path d=\"M17.41 7.96l-1.37-1.37c-.4-.4-.92-.59-1.43-.59-.52 0-1.04.2-1.43.59L10.3 9.45l-7.72 7.72c-.78.78-.78 2.05 0 2.83L4 21.41c.39.39.9.59 1.41.59.51 0 1.02-.2 1.41-.59l7.78-7.78 2.81-2.81c.8-.78.8-2.07 0-2.86zM5.41 20L4 18.59l7.72-7.72 1.47 1.35L5.41 20z\"/>\n",
              "  </svg>\n",
              "      </button>\n",
              "      \n",
              "  <style>\n",
              "    .colab-df-container {\n",
              "      display:flex;\n",
              "      flex-wrap:wrap;\n",
              "      gap: 12px;\n",
              "    }\n",
              "\n",
              "    .colab-df-convert {\n",
              "      background-color: #E8F0FE;\n",
              "      border: none;\n",
              "      border-radius: 50%;\n",
              "      cursor: pointer;\n",
              "      display: none;\n",
              "      fill: #1967D2;\n",
              "      height: 32px;\n",
              "      padding: 0 0 0 0;\n",
              "      width: 32px;\n",
              "    }\n",
              "\n",
              "    .colab-df-convert:hover {\n",
              "      background-color: #E2EBFA;\n",
              "      box-shadow: 0px 1px 2px rgba(60, 64, 67, 0.3), 0px 1px 3px 1px rgba(60, 64, 67, 0.15);\n",
              "      fill: #174EA6;\n",
              "    }\n",
              "\n",
              "    [theme=dark] .colab-df-convert {\n",
              "      background-color: #3B4455;\n",
              "      fill: #D2E3FC;\n",
              "    }\n",
              "\n",
              "    [theme=dark] .colab-df-convert:hover {\n",
              "      background-color: #434B5C;\n",
              "      box-shadow: 0px 1px 3px 1px rgba(0, 0, 0, 0.15);\n",
              "      filter: drop-shadow(0px 1px 2px rgba(0, 0, 0, 0.3));\n",
              "      fill: #FFFFFF;\n",
              "    }\n",
              "  </style>\n",
              "\n",
              "      <script>\n",
              "        const buttonEl =\n",
              "          document.querySelector('#df-1449feda-bb04-43dc-a1bd-2a2b29146952 button.colab-df-convert');\n",
              "        buttonEl.style.display =\n",
              "          google.colab.kernel.accessAllowed ? 'block' : 'none';\n",
              "\n",
              "        async function convertToInteractive(key) {\n",
              "          const element = document.querySelector('#df-1449feda-bb04-43dc-a1bd-2a2b29146952');\n",
              "          const dataTable =\n",
              "            await google.colab.kernel.invokeFunction('convertToInteractive',\n",
              "                                                     [key], {});\n",
              "          if (!dataTable) return;\n",
              "\n",
              "          const docLinkHtml = 'Like what you see? Visit the ' +\n",
              "            '<a target=\"_blank\" href=https://colab.research.google.com/notebooks/data_table.ipynb>data table notebook</a>'\n",
              "            + ' to learn more about interactive tables.';\n",
              "          element.innerHTML = '';\n",
              "          dataTable['output_type'] = 'display_data';\n",
              "          await google.colab.output.renderOutput(dataTable, element);\n",
              "          const docLink = document.createElement('div');\n",
              "          docLink.innerHTML = docLinkHtml;\n",
              "          element.appendChild(docLink);\n",
              "        }\n",
              "      </script>\n",
              "    </div>\n",
              "  </div>\n",
              "  "
            ]
          },
          "metadata": {},
          "execution_count": 8
        }
      ]
    },
    {
      "cell_type": "code",
      "source": [
        "import re\n",
        "\n",
        "def text_cleaning(text):\n",
        "  text = re.sub(r'@[A-Za-z0-9]+', '', text)     \n",
        "  text = re.sub(r'@[A-Za-zA-Z0-9]+', '', text)  \n",
        "  text = re.sub(r'@[A-Za-z]+', '', text)        \n",
        "  text = re.sub(r'@[-)]+', '', text)            \n",
        "  text = re.sub(r'#', '', text )                \n",
        "  text = re.sub(r'RT[\\s]+', '', text)           \n",
        "  text = re.sub(r'https?\\/\\/\\S+', '', text)     \n",
        "  text = re.sub(r'&[a-z;]+', '', text)          \n",
        "\n",
        "  return text"
      ],
      "metadata": {
        "id": "7hchUX03DKTk"
      },
      "execution_count": 9,
      "outputs": []
    },
    {
      "cell_type": "code",
      "source": [
        "# Apply text cleaning function to the 'Ingredients' column\n",
        "df['Ingredients'] = df['Ingredients'].apply(text_cleaning)\n",
        "\n",
        "# Display the first 10 rows of the DataFrame\n",
        "df.head(10)"
      ],
      "metadata": {
        "colab": {
          "base_uri": "https://localhost:8080/",
          "height": 363
        },
        "id": "1LUVXPLvDsv-",
        "outputId": "8dde69f6-f091-4e4d-b16b-1ca26a73e2f6"
      },
      "execution_count": 10,
      "outputs": [
        {
          "output_type": "execute_result",
          "data": {
            "text/plain": [
              "   Label                                        Ingredients\n",
              "0      1  Algae (Seaweed) Extract, Mineral Oil, Petrolat...\n",
              "1      1  Galactomyces Ferment Filtrate (Pitera), Butyle...\n",
              "2      1  Water, Dicaprylyl Carbonate, Glycerin, Ceteary...\n",
              "3      1  Algae (Seaweed) Extract, Cyclopentasiloxane, P...\n",
              "4      1  Water, Snail Secretion Filtrate, Phenyl Trimet...\n",
              "5      1  Water, Saccharomyces/Camellia Sinensis Leaf/Cl...\n",
              "6      1  Water, Glycerin, Caprylic/ Capric Triglyceride...\n",
              "7      1  100% Unrefined Sclerocraya Birrea (Marula) Ker...\n",
              "8      1  Water, Glycerin, Cyclohexasiloxane, Squalane, ...\n",
              "9      1  Algae (Seaweed) Extract, Mineral Oil, Petrolat..."
            ],
            "text/html": [
              "\n",
              "  <div id=\"df-7c791789-dd2a-429a-9ef3-ee9f315c0336\">\n",
              "    <div class=\"colab-df-container\">\n",
              "      <div>\n",
              "<style scoped>\n",
              "    .dataframe tbody tr th:only-of-type {\n",
              "        vertical-align: middle;\n",
              "    }\n",
              "\n",
              "    .dataframe tbody tr th {\n",
              "        vertical-align: top;\n",
              "    }\n",
              "\n",
              "    .dataframe thead th {\n",
              "        text-align: right;\n",
              "    }\n",
              "</style>\n",
              "<table border=\"1\" class=\"dataframe\">\n",
              "  <thead>\n",
              "    <tr style=\"text-align: right;\">\n",
              "      <th></th>\n",
              "      <th>Label</th>\n",
              "      <th>Ingredients</th>\n",
              "    </tr>\n",
              "  </thead>\n",
              "  <tbody>\n",
              "    <tr>\n",
              "      <th>0</th>\n",
              "      <td>1</td>\n",
              "      <td>Algae (Seaweed) Extract, Mineral Oil, Petrolat...</td>\n",
              "    </tr>\n",
              "    <tr>\n",
              "      <th>1</th>\n",
              "      <td>1</td>\n",
              "      <td>Galactomyces Ferment Filtrate (Pitera), Butyle...</td>\n",
              "    </tr>\n",
              "    <tr>\n",
              "      <th>2</th>\n",
              "      <td>1</td>\n",
              "      <td>Water, Dicaprylyl Carbonate, Glycerin, Ceteary...</td>\n",
              "    </tr>\n",
              "    <tr>\n",
              "      <th>3</th>\n",
              "      <td>1</td>\n",
              "      <td>Algae (Seaweed) Extract, Cyclopentasiloxane, P...</td>\n",
              "    </tr>\n",
              "    <tr>\n",
              "      <th>4</th>\n",
              "      <td>1</td>\n",
              "      <td>Water, Snail Secretion Filtrate, Phenyl Trimet...</td>\n",
              "    </tr>\n",
              "    <tr>\n",
              "      <th>5</th>\n",
              "      <td>1</td>\n",
              "      <td>Water, Saccharomyces/Camellia Sinensis Leaf/Cl...</td>\n",
              "    </tr>\n",
              "    <tr>\n",
              "      <th>6</th>\n",
              "      <td>1</td>\n",
              "      <td>Water, Glycerin, Caprylic/ Capric Triglyceride...</td>\n",
              "    </tr>\n",
              "    <tr>\n",
              "      <th>7</th>\n",
              "      <td>1</td>\n",
              "      <td>100% Unrefined Sclerocraya Birrea (Marula) Ker...</td>\n",
              "    </tr>\n",
              "    <tr>\n",
              "      <th>8</th>\n",
              "      <td>1</td>\n",
              "      <td>Water, Glycerin, Cyclohexasiloxane, Squalane, ...</td>\n",
              "    </tr>\n",
              "    <tr>\n",
              "      <th>9</th>\n",
              "      <td>1</td>\n",
              "      <td>Algae (Seaweed) Extract, Mineral Oil, Petrolat...</td>\n",
              "    </tr>\n",
              "  </tbody>\n",
              "</table>\n",
              "</div>\n",
              "      <button class=\"colab-df-convert\" onclick=\"convertToInteractive('df-7c791789-dd2a-429a-9ef3-ee9f315c0336')\"\n",
              "              title=\"Convert this dataframe to an interactive table.\"\n",
              "              style=\"display:none;\">\n",
              "        \n",
              "  <svg xmlns=\"http://www.w3.org/2000/svg\" height=\"24px\"viewBox=\"0 0 24 24\"\n",
              "       width=\"24px\">\n",
              "    <path d=\"M0 0h24v24H0V0z\" fill=\"none\"/>\n",
              "    <path d=\"M18.56 5.44l.94 2.06.94-2.06 2.06-.94-2.06-.94-.94-2.06-.94 2.06-2.06.94zm-11 1L8.5 8.5l.94-2.06 2.06-.94-2.06-.94L8.5 2.5l-.94 2.06-2.06.94zm10 10l.94 2.06.94-2.06 2.06-.94-2.06-.94-.94-2.06-.94 2.06-2.06.94z\"/><path d=\"M17.41 7.96l-1.37-1.37c-.4-.4-.92-.59-1.43-.59-.52 0-1.04.2-1.43.59L10.3 9.45l-7.72 7.72c-.78.78-.78 2.05 0 2.83L4 21.41c.39.39.9.59 1.41.59.51 0 1.02-.2 1.41-.59l7.78-7.78 2.81-2.81c.8-.78.8-2.07 0-2.86zM5.41 20L4 18.59l7.72-7.72 1.47 1.35L5.41 20z\"/>\n",
              "  </svg>\n",
              "      </button>\n",
              "      \n",
              "  <style>\n",
              "    .colab-df-container {\n",
              "      display:flex;\n",
              "      flex-wrap:wrap;\n",
              "      gap: 12px;\n",
              "    }\n",
              "\n",
              "    .colab-df-convert {\n",
              "      background-color: #E8F0FE;\n",
              "      border: none;\n",
              "      border-radius: 50%;\n",
              "      cursor: pointer;\n",
              "      display: none;\n",
              "      fill: #1967D2;\n",
              "      height: 32px;\n",
              "      padding: 0 0 0 0;\n",
              "      width: 32px;\n",
              "    }\n",
              "\n",
              "    .colab-df-convert:hover {\n",
              "      background-color: #E2EBFA;\n",
              "      box-shadow: 0px 1px 2px rgba(60, 64, 67, 0.3), 0px 1px 3px 1px rgba(60, 64, 67, 0.15);\n",
              "      fill: #174EA6;\n",
              "    }\n",
              "\n",
              "    [theme=dark] .colab-df-convert {\n",
              "      background-color: #3B4455;\n",
              "      fill: #D2E3FC;\n",
              "    }\n",
              "\n",
              "    [theme=dark] .colab-df-convert:hover {\n",
              "      background-color: #434B5C;\n",
              "      box-shadow: 0px 1px 3px 1px rgba(0, 0, 0, 0.15);\n",
              "      filter: drop-shadow(0px 1px 2px rgba(0, 0, 0, 0.3));\n",
              "      fill: #FFFFFF;\n",
              "    }\n",
              "  </style>\n",
              "\n",
              "      <script>\n",
              "        const buttonEl =\n",
              "          document.querySelector('#df-7c791789-dd2a-429a-9ef3-ee9f315c0336 button.colab-df-convert');\n",
              "        buttonEl.style.display =\n",
              "          google.colab.kernel.accessAllowed ? 'block' : 'none';\n",
              "\n",
              "        async function convertToInteractive(key) {\n",
              "          const element = document.querySelector('#df-7c791789-dd2a-429a-9ef3-ee9f315c0336');\n",
              "          const dataTable =\n",
              "            await google.colab.kernel.invokeFunction('convertToInteractive',\n",
              "                                                     [key], {});\n",
              "          if (!dataTable) return;\n",
              "\n",
              "          const docLinkHtml = 'Like what you see? Visit the ' +\n",
              "            '<a target=\"_blank\" href=https://colab.research.google.com/notebooks/data_table.ipynb>data table notebook</a>'\n",
              "            + ' to learn more about interactive tables.';\n",
              "          element.innerHTML = '';\n",
              "          dataTable['output_type'] = 'display_data';\n",
              "          await google.colab.output.renderOutput(dataTable, element);\n",
              "          const docLink = document.createElement('div');\n",
              "          docLink.innerHTML = docLinkHtml;\n",
              "          element.appendChild(docLink);\n",
              "        }\n",
              "      </script>\n",
              "    </div>\n",
              "  </div>\n",
              "  "
            ]
          },
          "metadata": {},
          "execution_count": 10
        }
      ]
    },
    {
      "cell_type": "markdown",
      "source": [
        "**Training Data**"
      ],
      "metadata": {
        "id": "LrBYVDUhDLrl"
      }
    },
    {
      "cell_type": "code",
      "source": [
        "from sklearn.model_selection import train_test_split\n",
        "\n",
        "# Split the 'Ingredients' column and 'Label' column into training and testing sets\n",
        "x_train, x_test, y_train, y_test = train_test_split(df['Ingredients'].values, df['Label'].values, test_size=0.30)\n"
      ],
      "metadata": {
        "id": "SFZ3ySnAD4Ij"
      },
      "execution_count": 11,
      "outputs": []
    },
    {
      "cell_type": "code",
      "source": [
        "# Print the 'Ingredients' value of the first training example\n",
        "print('Ingredients:', x_train[0])\n",
        "\n",
        "# Print the 'Label' value of the first training example\n",
        "print('sentiment:', y_train[0])"
      ],
      "metadata": {
        "colab": {
          "base_uri": "https://localhost:8080/"
        },
        "id": "FPQwABj7EIvL",
        "outputId": "b55b71ee-3f27-4896-e641-03c513a6e23b"
      },
      "execution_count": 12,
      "outputs": [
        {
          "output_type": "stream",
          "name": "stdout",
          "text": [
            "Ingredients: Raspberry Oil\n",
            "sentiment: 1\n"
          ]
        }
      ]
    },
    {
      "cell_type": "code",
      "source": [
        "from tensorflow.keras.preprocessing.text import Tokenizer\n",
        "from tensorflow.keras.preprocessing.sequence import pad_sequences "
      ],
      "metadata": {
        "id": "K8Sb8SUEEalh"
      },
      "execution_count": 13,
      "outputs": []
    },
    {
      "cell_type": "code",
      "source": [
        "# Set the maximum vocabulary size\n",
        "max_vocab = 20000000\n",
        "\n",
        "# Initialize a tokenizer object\n",
        "tokenizer = Tokenizer(num_words=max_vocab)\n",
        "\n",
        "# Fit the tokenizer on the training data\n",
        "tokenizer.fit_on_texts(x_train)"
      ],
      "metadata": {
        "id": "DYSiJfBQEfO2"
      },
      "execution_count": 14,
      "outputs": []
    },
    {
      "cell_type": "code",
      "source": [
        "# Retrieve the word index from the tokenizer\n",
        "wordidx = tokenizer.word_index\n",
        "\n",
        "# Determine the size of the dataset's vocabulary\n",
        "V = len(wordidx)\n",
        "\n",
        "print('The size of the dataset vocabulary is:', V)\n"
      ],
      "metadata": {
        "colab": {
          "base_uri": "https://localhost:8080/"
        },
        "id": "qd1gHC2jEi14",
        "outputId": "14ed3be8-249e-44d2-ef5f-e47451af7e98"
      },
      "execution_count": 15,
      "outputs": [
        {
          "output_type": "stream",
          "name": "stdout",
          "text": [
            "The size of the dataset vocabulary is: 2016\n"
          ]
        }
      ]
    },
    {
      "cell_type": "code",
      "source": [
        "# Convert text data in x_train to sequences\n",
        "train_seq = tokenizer.texts_to_sequences(x_train)\n",
        "\n",
        "# Convert text data in x_test to sequences\n",
        "test_seq = tokenizer.texts_to_sequences(x_test)\n",
        "\n",
        "print('Training sequence:', train_seq[0])\n",
        "print('Testing sequence:', test_seq[0])\n"
      ],
      "metadata": {
        "colab": {
          "base_uri": "https://localhost:8080/"
        },
        "id": "JK0qo0E1EnTl",
        "outputId": "31722480-9c56-43df-edbe-678eeb5296c8"
      },
      "execution_count": 16,
      "outputs": [
        {
          "output_type": "stream",
          "name": "stdout",
          "text": [
            "Training sequence: [225, 2]\n",
            "Testing sequence: [13, 158]\n"
          ]
        }
      ]
    },
    {
      "cell_type": "code",
      "source": [
        "# Pad the training sequences\n",
        "pad_train = pad_sequences(train_seq)\n",
        "\n",
        "# Determine the length of the padded training sequences\n",
        "T = pad_train.shape[1]\n",
        "\n",
        "print('The length of the training sequence is:', T)"
      ],
      "metadata": {
        "colab": {
          "base_uri": "https://localhost:8080/"
        },
        "id": "aJKugjKvErm8",
        "outputId": "a95e49e5-2f12-4085-9d43-47762de6241b"
      },
      "execution_count": 17,
      "outputs": [
        {
          "output_type": "stream",
          "name": "stdout",
          "text": [
            "The length of the training sequence is: 611\n"
          ]
        }
      ]
    },
    {
      "cell_type": "code",
      "source": [
        "# Pad the testing squences\n",
        "pad_test = pad_sequences(test_seq, maxlen=T)\n",
        "print('The length of testing sequence is: ', pad_test.shape[1])"
      ],
      "metadata": {
        "colab": {
          "base_uri": "https://localhost:8080/"
        },
        "id": "IkWbHkoyEwAw",
        "outputId": "37d4e600-a906-4176-a091-388df05aed08"
      },
      "execution_count": 18,
      "outputs": [
        {
          "output_type": "stream",
          "name": "stdout",
          "text": [
            "The length of testing sequence is:  611\n"
          ]
        }
      ]
    },
    {
      "cell_type": "markdown",
      "source": [
        "**Building Model**"
      ],
      "metadata": {
        "id": "TRH7NXMJBrn2"
      }
    },
    {
      "cell_type": "code",
      "source": [
        "from tensorflow.keras.layers import Input, Dense, Embedding, LSTM, GlobalMaxPooling1D\n",
        "from tensorflow.keras.models import Model"
      ],
      "metadata": {
        "id": "g43Sl572E1sc"
      },
      "execution_count": 19,
      "outputs": []
    },
    {
      "cell_type": "code",
      "source": [
        "D = 20 \n",
        "M = 15"
      ],
      "metadata": {
        "id": "hiS9P6WaE41N"
      },
      "execution_count": 20,
      "outputs": []
    },
    {
      "cell_type": "code",
      "source": [
        "# Define the input layer with shape (T,)\n",
        "i = Input(shape=(T,))\n",
        "\n",
        "# Embedding layer: maps each word index to a dense vector representation\n",
        "x = Embedding(V+1, D)(i)  \n",
        "x = LSTM(M, return_sequences=True)(x)\n",
        "x = GlobalMaxPooling1D()(x)\n",
        "x = Dense(32, activation='relu')(x)\n",
        "x = Dense(1, activation='sigmoid')(x)\n"
      ],
      "metadata": {
        "id": "266tUn5LE7yd"
      },
      "execution_count": 21,
      "outputs": []
    },
    {
      "cell_type": "code",
      "source": [
        "model = Model(i,x)\n"
      ],
      "metadata": {
        "id": "fxPEvjmEFE7z"
      },
      "execution_count": 22,
      "outputs": []
    },
    {
      "cell_type": "code",
      "source": [
        "model.summary()"
      ],
      "metadata": {
        "colab": {
          "base_uri": "https://localhost:8080/"
        },
        "id": "VpfsW42bVF6_",
        "outputId": "5bedb7f1-4429-4ecb-c287-e37fe45dc741"
      },
      "execution_count": 23,
      "outputs": [
        {
          "output_type": "stream",
          "name": "stdout",
          "text": [
            "Model: \"model\"\n",
            "_________________________________________________________________\n",
            " Layer (type)                Output Shape              Param #   \n",
            "=================================================================\n",
            " input_1 (InputLayer)        [(None, 611)]             0         \n",
            "                                                                 \n",
            " embedding (Embedding)       (None, 611, 20)           40340     \n",
            "                                                                 \n",
            " lstm (LSTM)                 (None, 611, 15)           2160      \n",
            "                                                                 \n",
            " global_max_pooling1d (Globa  (None, 15)               0         \n",
            " lMaxPooling1D)                                                  \n",
            "                                                                 \n",
            " dense (Dense)               (None, 32)                512       \n",
            "                                                                 \n",
            " dense_1 (Dense)             (None, 1)                 33        \n",
            "                                                                 \n",
            "=================================================================\n",
            "Total params: 43,045\n",
            "Trainable params: 43,045\n",
            "Non-trainable params: 0\n",
            "_________________________________________________________________\n"
          ]
        }
      ]
    },
    {
      "cell_type": "code",
      "source": [
        "model.compile(optimizer='adam', \n",
        "              loss='binary_crossentropy', \n",
        "              metrics=['accuracy'])\n"
      ],
      "metadata": {
        "id": "7NstTMI3FJkK"
      },
      "execution_count": 24,
      "outputs": []
    },
    {
      "cell_type": "code",
      "source": [
        "r = model.fit(pad_train, y_train, validation_data=(pad_test, y_test), epochs=10)"
      ],
      "metadata": {
        "colab": {
          "base_uri": "https://localhost:8080/"
        },
        "id": "V9sGL40LFLM3",
        "outputId": "44170368-b2e6-457a-ca22-8a96429d7746"
      },
      "execution_count": 25,
      "outputs": [
        {
          "output_type": "stream",
          "name": "stdout",
          "text": [
            "Epoch 1/10\n",
            "17/17 [==============================] - 10s 436ms/step - loss: 0.6929 - accuracy: 0.5360 - val_loss: 0.6918 - val_accuracy: 0.5733\n",
            "Epoch 2/10\n",
            "17/17 [==============================] - 5s 290ms/step - loss: 0.6899 - accuracy: 0.6969 - val_loss: 0.6882 - val_accuracy: 0.8060\n",
            "Epoch 3/10\n",
            "17/17 [==============================] - 5s 286ms/step - loss: 0.6838 - accuracy: 0.8928 - val_loss: 0.6802 - val_accuracy: 0.8319\n",
            "Epoch 4/10\n",
            "17/17 [==============================] - 6s 373ms/step - loss: 0.6690 - accuracy: 0.8965 - val_loss: 0.6643 - val_accuracy: 0.7974\n",
            "Epoch 5/10\n",
            "17/17 [==============================] - 5s 296ms/step - loss: 0.6326 - accuracy: 0.8725 - val_loss: 0.5998 - val_accuracy: 0.8362\n",
            "Epoch 6/10\n",
            "17/17 [==============================] - 6s 352ms/step - loss: 0.5485 - accuracy: 0.8244 - val_loss: 0.5316 - val_accuracy: 0.8664\n",
            "Epoch 7/10\n",
            "17/17 [==============================] - 5s 310ms/step - loss: 0.4694 - accuracy: 0.8669 - val_loss: 0.4996 - val_accuracy: 0.9181\n",
            "Epoch 8/10\n",
            "17/17 [==============================] - 5s 286ms/step - loss: 0.3957 - accuracy: 0.9224 - val_loss: 0.4331 - val_accuracy: 0.9181\n",
            "Epoch 9/10\n",
            "17/17 [==============================] - 6s 383ms/step - loss: 0.3105 - accuracy: 0.9686 - val_loss: 0.3932 - val_accuracy: 0.8707\n",
            "Epoch 10/10\n",
            "17/17 [==============================] - 5s 294ms/step - loss: 0.2201 - accuracy: 0.9889 - val_loss: 0.3296 - val_accuracy: 0.8836\n"
          ]
        }
      ]
    },
    {
      "cell_type": "code",
      "source": [
        "plt.plot(r.history['loss'], label='loss')\n",
        "plt.plot(r.history['val_loss'], label = 'val_loss')\n",
        "plt.legend()"
      ],
      "metadata": {
        "colab": {
          "base_uri": "https://localhost:8080/",
          "height": 447
        },
        "id": "9S_XceSDFYfC",
        "outputId": "8936f5bb-6e8c-4737-a189-ce986b73ce6a"
      },
      "execution_count": 26,
      "outputs": [
        {
          "output_type": "execute_result",
          "data": {
            "text/plain": [
              "<matplotlib.legend.Legend at 0x7f567a497e50>"
            ]
          },
          "metadata": {},
          "execution_count": 26
        },
        {
          "output_type": "display_data",
          "data": {
            "text/plain": [
              "<Figure size 640x480 with 1 Axes>"
            ],
            "image/png": "[encoded data removed]"
          },
          "metadata": {}
        }
      ]
    },
    {
      "cell_type": "code",
      "source": [
        "plt.plot(r.history['accuracy'], label= 'accuracy')\n",
        "plt.plot(r.history['val_accuracy'], label='val_accuracy')\n",
        "plt.legend()"
      ],
      "metadata": {
        "colab": {
          "base_uri": "https://localhost:8080/",
          "height": 447
        },
        "id": "ZMjbDzylFbsj",
        "outputId": "35899750-2d40-433a-85c1-dd496023e6b7"
      },
      "execution_count": 27,
      "outputs": [
        {
          "output_type": "execute_result",
          "data": {
            "text/plain": [
              "<matplotlib.legend.Legend at 0x7f567efbbd60>"
            ]
          },
          "metadata": {},
          "execution_count": 27
        },
        {
          "output_type": "display_data",
          "data": {
            "text/plain": [
              "<Figure size 640x480 with 1 Axes>"
            ],
            "image/png": "[encoded data removed]"
          },
          "metadata": {}
        }
      ]
    },
    {
      "cell_type": "markdown",
      "source": [
        "**Predict Sentiment**"
      ],
      "metadata": {
        "id": "wFfHTrTnDTqc"
      }
    },
    {
      "cell_type": "code",
      "source": [
        "def predict_sentiment(text):\n",
        "  # Convert the text to sequences using the tokenizer\n",
        "  text_seq = tokenizer.texts_to_sequences(text)\n",
        "  \n",
        "  # Pad the sequences\n",
        "  text_pad = pad_sequences(text_seq, maxlen=T)\n",
        "\n",
        "  # Predict the sentiment using the trained model\n",
        "  predicted_sentiment = model.predict(text_pad).round()\n",
        "\n",
        "  # Check the predicted sentiment and return the corresponding label\n",
        "  if predicted_sentiment == 1.0:\n",
        "    return print('It is a positive sentiment')\n",
        "  else:\n",
        "    return print('It is a negative sentiment')\n",
        "\n",
        "# Example text\n",
        "text = ['KOMPOSISI: Water, Triethanolamine, Myristic Acid, Lauric\\nAcid, Glycerin, Lauryl Phosphate, Hydroxypropyl\\nMethylcellulose, Cocamidopropyl Betaine, Phenoxyethanol,\\nFragrance, Methylparaben, BHT, Propylparaben,\\no-Cymen-5-ol, Ethylparaben, Benzophenone-4.']\n",
        "predict_sentiment(text)"
      ],
      "metadata": {
        "colab": {
          "base_uri": "https://localhost:8080/"
        },
        "id": "Ux_8XDz8Fm12",
        "outputId": "e68a2ac6-c919-4f61-f89c-ea1962af0544"
      },
      "execution_count": 28,
      "outputs": [
        {
          "output_type": "stream",
          "name": "stdout",
          "text": [
            "1/1 [==============================] - 1s 874ms/step\n",
            "It is a positive sentiment\n"
          ]
        }
      ]
    },
    {
      "cell_type": "code",
      "source": [
        "model.save('funne_sentiment_analysis.v.01')"
      ],
      "metadata": {
        "colab": {
          "base_uri": "https://localhost:8080/"
        },
        "id": "Ol_MuIyG5J2m",
        "outputId": "4a6802e8-7123-466e-e9c4-91781e430490"
      },
      "execution_count": 30,
      "outputs": [
        {
          "output_type": "stream",
          "name": "stderr",
          "text": [
            "WARNING:absl:Found untraced functions such as _update_step_xla, lstm_cell_layer_call_fn, lstm_cell_layer_call_and_return_conditional_losses while saving (showing 3 of 3). These functions will not be directly callable after loading.\n"
          ]
        }
      ]
    },
    {
      "cell_type": "code",
      "source": [
        "model.save('funne_sentiment_analysis.v.01.h5')"
      ],
      "metadata": {
        "id": "YJMfoZln9ru9"
      },
      "execution_count": 32,
      "outputs": []
    }
  ]
}