{
  "nbformat": 4,
  "nbformat_minor": 0,
  "metadata": {
    "colab": {
      "provenance": []
    },
    "kernelspec": {
      "name": "python3",
      "display_name": "Python 3"
    },
    "language_info": {
      "name": "python"
    }
  },
  "cells": [
    {
      "cell_type": "code",
      "execution_count": null,
      "metadata": {
        "id": "N2uE2mhq6GDZ"
      },
      "outputs": [],
      "source": [
        "import tensorflow as tf\n",
        "import pandas as pd\n",
        "import numpy as np\n",
        "import matplotlib.pyplot as plt"
      ]
    },
    {
      "cell_type": "code",
      "source": [
        "# Read the CSV file into a DataFrame\n",
        "df = pd.read_csv('/content/v0.1  intg clean data.csv')\n"
      ],
      "metadata": {
        "id": "w7Zmph8LC6TE"
      },
      "execution_count": null,
      "outputs": []
    },
    {
      "cell_type": "code",
      "source": [
        "# Display the first 10 rows of the DataFrame\n",
        "df.head(10)"
      ],
      "metadata": {
        "colab": {
          "base_uri": "https://localhost:8080/",
          "height": 363
        },
        "id": "5SrcWVJkDE3V",
        "outputId": "fc4333f5-51ba-47a1-8de3-5751361ebfbb"
      },
      "execution_count": null,
      "outputs": [
        {
          "output_type": "execute_result",
          "data": {
            "text/plain": [
              "   Label                                        Ingredients\n",
              "0      1  Algae (Seaweed) Extract, Mineral Oil, Petrolat...\n",
              "1      1  Galactomyces Ferment Filtrate (Pitera), Butyle...\n",
              "2      1  Water, Dicaprylyl Carbonate, Glycerin, Ceteary...\n",
              "3      1  Algae (Seaweed) Extract, Cyclopentasiloxane, P...\n",
              "4      1  Water, Snail Secretion Filtrate, Phenyl Trimet...\n",
              "5      1  Water, Saccharomyces/Camellia Sinensis Leaf/Cl...\n",
              "6      1  Water, Glycerin, Caprylic/ Capric Triglyceride...\n",
              "7      1  100% Unrefined Sclerocraya Birrea (Marula) Ker...\n",
              "8      1  Water, Glycerin, Cyclohexasiloxane, Squalane, ...\n",
              "9      1  Algae (Seaweed) Extract, Mineral Oil, Petrolat..."
            ],
            "text/html": [
              "\n",
              "  <div id=\"df-b952ea6f-d606-4291-9bb9-05dd3e8cb454\">\n",
              "    <div class=\"colab-df-container\">\n",
              "      <div>\n",
              "<style scoped>\n",
              "    .dataframe tbody tr th:only-of-type {\n",
              "        vertical-align: middle;\n",
              "    }\n",
              "\n",
              "    .dataframe tbody tr th {\n",
              "        vertical-align: top;\n",
              "    }\n",
              "\n",
              "    .dataframe thead th {\n",
              "        text-align: right;\n",
              "    }\n",
              "</style>\n",
              "<table border=\"1\" class=\"dataframe\">\n",
              "  <thead>\n",
              "    <tr style=\"text-align: right;\">\n",
              "      <th></th>\n",
              "      <th>Label</th>\n",
              "      <th>Ingredients</th>\n",
              "    </tr>\n",
              "  </thead>\n",
              "  <tbody>\n",
              "    <tr>\n",
              "      <th>0</th>\n",
              "      <td>1</td>\n",
              "      <td>Algae (Seaweed) Extract, Mineral Oil, Petrolat...</td>\n",
              "    </tr>\n",
              "    <tr>\n",
              "      <th>1</th>\n",
              "      <td>1</td>\n",
              "      <td>Galactomyces Ferment Filtrate (Pitera), Butyle...</td>\n",
              "    </tr>\n",
              "    <tr>\n",
              "      <th>2</th>\n",
              "      <td>1</td>\n",
              "      <td>Water, Dicaprylyl Carbonate, Glycerin, Ceteary...</td>\n",
              "    </tr>\n",
              "    <tr>\n",
              "      <th>3</th>\n",
              "      <td>1</td>\n",
              "      <td>Algae (Seaweed) Extract, Cyclopentasiloxane, P...</td>\n",
              "    </tr>\n",
              "    <tr>\n",
              "      <th>4</th>\n",
              "      <td>1</td>\n",
              "      <td>Water, Snail Secretion Filtrate, Phenyl Trimet...</td>\n",
              "    </tr>\n",
              "    <tr>\n",
              "      <th>5</th>\n",
              "      <td>1</td>\n",
              "      <td>Water, Saccharomyces/Camellia Sinensis Leaf/Cl...</td>\n",
              "    </tr>\n",
              "    <tr>\n",
              "      <th>6</th>\n",
              "      <td>1</td>\n",
              "      <td>Water, Glycerin, Caprylic/ Capric Triglyceride...</td>\n",
              "    </tr>\n",
              "    <tr>\n",
              "      <th>7</th>\n",
              "      <td>1</td>\n",
              "      <td>100% Unrefined Sclerocraya Birrea (Marula) Ker...</td>\n",
              "    </tr>\n",
              "    <tr>\n",
              "      <th>8</th>\n",
              "      <td>1</td>\n",
              "      <td>Water, Glycerin, Cyclohexasiloxane, Squalane, ...</td>\n",
              "    </tr>\n",
              "    <tr>\n",
              "      <th>9</th>\n",
              "      <td>1</td>\n",
              "      <td>Algae (Seaweed) Extract, Mineral Oil, Petrolat...</td>\n",
              "    </tr>\n",
              "  </tbody>\n",
              "</table>\n",
              "</div>\n",
              "      <button class=\"colab-df-convert\" onclick=\"convertToInteractive('df-b952ea6f-d606-4291-9bb9-05dd3e8cb454')\"\n",
              "              title=\"Convert this dataframe to an interactive table.\"\n",
              "              style=\"display:none;\">\n",
              "        \n",
              "  <svg xmlns=\"http://www.w3.org/2000/svg\" height=\"24px\"viewBox=\"0 0 24 24\"\n",
              "       width=\"24px\">\n",
              "    <path d=\"M0 0h24v24H0V0z\" fill=\"none\"/>\n",
              "    <path d=\"M18.56 5.44l.94 2.06.94-2.06 2.06-.94-2.06-.94-.94-2.06-.94 2.06-2.06.94zm-11 1L8.5 8.5l.94-2.06 2.06-.94-2.06-.94L8.5 2.5l-.94 2.06-2.06.94zm10 10l.94 2.06.94-2.06 2.06-.94-2.06-.94-.94-2.06-.94 2.06-2.06.94z\"/><path d=\"M17.41 7.96l-1.37-1.37c-.4-.4-.92-.59-1.43-.59-.52 0-1.04.2-1.43.59L10.3 9.45l-7.72 7.72c-.78.78-.78 2.05 0 2.83L4 21.41c.39.39.9.59 1.41.59.51 0 1.02-.2 1.41-.59l7.78-7.78 2.81-2.81c.8-.78.8-2.07 0-2.86zM5.41 20L4 18.59l7.72-7.72 1.47 1.35L5.41 20z\"/>\n",
              "  </svg>\n",
              "      </button>\n",
              "      \n",
              "  <style>\n",
              "    .colab-df-container {\n",
              "      display:flex;\n",
              "      flex-wrap:wrap;\n",
              "      gap: 12px;\n",
              "    }\n",
              "\n",
              "    .colab-df-convert {\n",
              "      background-color: #E8F0FE;\n",
              "      border: none;\n",
              "      border-radius: 50%;\n",
              "      cursor: pointer;\n",
              "      display: none;\n",
              "      fill: #1967D2;\n",
              "      height: 32px;\n",
              "      padding: 0 0 0 0;\n",
              "      width: 32px;\n",
              "    }\n",
              "\n",
              "    .colab-df-convert:hover {\n",
              "      background-color: #E2EBFA;\n",
              "      box-shadow: 0px 1px 2px rgba(60, 64, 67, 0.3), 0px 1px 3px 1px rgba(60, 64, 67, 0.15);\n",
              "      fill: #174EA6;\n",
              "    }\n",
              "\n",
              "    [theme=dark] .colab-df-convert {\n",
              "      background-color: #3B4455;\n",
              "      fill: #D2E3FC;\n",
              "    }\n",
              "\n",
              "    [theme=dark] .colab-df-convert:hover {\n",
              "      background-color: #434B5C;\n",
              "      box-shadow: 0px 1px 3px 1px rgba(0, 0, 0, 0.15);\n",
              "      filter: drop-shadow(0px 1px 2px rgba(0, 0, 0, 0.3));\n",
              "      fill: #FFFFFF;\n",
              "    }\n",
              "  </style>\n",
              "\n",
              "      <script>\n",
              "        const buttonEl =\n",
              "          document.querySelector('#df-b952ea6f-d606-4291-9bb9-05dd3e8cb454 button.colab-df-convert');\n",
              "        buttonEl.style.display =\n",
              "          google.colab.kernel.accessAllowed ? 'block' : 'none';\n",
              "\n",
              "        async function convertToInteractive(key) {\n",
              "          const element = document.querySelector('#df-b952ea6f-d606-4291-9bb9-05dd3e8cb454');\n",
              "          const dataTable =\n",
              "            await google.colab.kernel.invokeFunction('convertToInteractive',\n",
              "                                                     [key], {});\n",
              "          if (!dataTable) return;\n",
              "\n",
              "          const docLinkHtml = 'Like what you see? Visit the ' +\n",
              "            '<a target=\"_blank\" href=https://colab.research.google.com/notebooks/data_table.ipynb>data table notebook</a>'\n",
              "            + ' to learn more about interactive tables.';\n",
              "          element.innerHTML = '';\n",
              "          dataTable['output_type'] = 'display_data';\n",
              "          await google.colab.output.renderOutput(dataTable, element);\n",
              "          const docLink = document.createElement('div');\n",
              "          docLink.innerHTML = docLinkHtml;\n",
              "          element.appendChild(docLink);\n",
              "        }\n",
              "      </script>\n",
              "    </div>\n",
              "  </div>\n",
              "  "
            ]
          },
          "metadata": {},
          "execution_count": 44
        }
      ]
    },
    {
      "cell_type": "code",
      "source": [
        "import re\n",
        "\n",
        "def text_cleaning(text):\n",
        "  text = re.sub(r'@[A-Za-z0-9]+', '', text)     \n",
        "  text = re.sub(r'@[A-Za-zA-Z0-9]+', '', text)  \n",
        "  text = re.sub(r'@[A-Za-z]+', '', text)        \n",
        "  text = re.sub(r'@[-)]+', '', text)            \n",
        "  text = re.sub(r'#', '', text )                \n",
        "  text = re.sub(r'RT[\\s]+', '', text)           \n",
        "  text = re.sub(r'https?\\/\\/\\S+', '', text)     \n",
        "  text = re.sub(r'&[a-z;]+', '', text)          \n",
        "\n",
        "  return text"
      ],
      "metadata": {
        "id": "7hchUX03DKTk"
      },
      "execution_count": null,
      "outputs": []
    },
    {
      "cell_type": "code",
      "source": [
        "# Apply text cleaning function to the 'Ingredients' column\n",
        "df['Ingredients'] = df['Ingredients'].apply(text_cleaning)\n",
        "\n",
        "# Display the first 10 rows of the DataFrame\n",
        "df.head(10)"
      ],
      "metadata": {
        "colab": {
          "base_uri": "https://localhost:8080/",
          "height": 363
        },
        "id": "1LUVXPLvDsv-",
        "outputId": "84cbced6-1d15-4110-c9c0-6975714524a6"
      },
      "execution_count": null,
      "outputs": [
        {
          "output_type": "execute_result",
          "data": {
            "text/plain": [
              "   Label                                        Ingredients\n",
              "0      1  Algae (Seaweed) Extract, Mineral Oil, Petrolat...\n",
              "1      1  Galactomyces Ferment Filtrate (Pitera), Butyle...\n",
              "2      1  Water, Dicaprylyl Carbonate, Glycerin, Ceteary...\n",
              "3      1  Algae (Seaweed) Extract, Cyclopentasiloxane, P...\n",
              "4      1  Water, Snail Secretion Filtrate, Phenyl Trimet...\n",
              "5      1  Water, Saccharomyces/Camellia Sinensis Leaf/Cl...\n",
              "6      1  Water, Glycerin, Caprylic/ Capric Triglyceride...\n",
              "7      1  100% Unrefined Sclerocraya Birrea (Marula) Ker...\n",
              "8      1  Water, Glycerin, Cyclohexasiloxane, Squalane, ...\n",
              "9      1  Algae (Seaweed) Extract, Mineral Oil, Petrolat..."
            ],
            "text/html": [
              "\n",
              "  <div id=\"df-c9c09fcc-c6af-41bf-a729-5cd92d0ee9ac\">\n",
              "    <div class=\"colab-df-container\">\n",
              "      <div>\n",
              "<style scoped>\n",
              "    .dataframe tbody tr th:only-of-type {\n",
              "        vertical-align: middle;\n",
              "    }\n",
              "\n",
              "    .dataframe tbody tr th {\n",
              "        vertical-align: top;\n",
              "    }\n",
              "\n",
              "    .dataframe thead th {\n",
              "        text-align: right;\n",
              "    }\n",
              "</style>\n",
              "<table border=\"1\" class=\"dataframe\">\n",
              "  <thead>\n",
              "    <tr style=\"text-align: right;\">\n",
              "      <th></th>\n",
              "      <th>Label</th>\n",
              "      <th>Ingredients</th>\n",
              "    </tr>\n",
              "  </thead>\n",
              "  <tbody>\n",
              "    <tr>\n",
              "      <th>0</th>\n",
              "      <td>1</td>\n",
              "      <td>Algae (Seaweed) Extract, Mineral Oil, Petrolat...</td>\n",
              "    </tr>\n",
              "    <tr>\n",
              "      <th>1</th>\n",
              "      <td>1</td>\n",
              "      <td>Galactomyces Ferment Filtrate (Pitera), Butyle...</td>\n",
              "    </tr>\n",
              "    <tr>\n",
              "      <th>2</th>\n",
              "      <td>1</td>\n",
              "      <td>Water, Dicaprylyl Carbonate, Glycerin, Ceteary...</td>\n",
              "    </tr>\n",
              "    <tr>\n",
              "      <th>3</th>\n",
              "      <td>1</td>\n",
              "      <td>Algae (Seaweed) Extract, Cyclopentasiloxane, P...</td>\n",
              "    </tr>\n",
              "    <tr>\n",
              "      <th>4</th>\n",
              "      <td>1</td>\n",
              "      <td>Water, Snail Secretion Filtrate, Phenyl Trimet...</td>\n",
              "    </tr>\n",
              "    <tr>\n",
              "      <th>5</th>\n",
              "      <td>1</td>\n",
              "      <td>Water, Saccharomyces/Camellia Sinensis Leaf/Cl...</td>\n",
              "    </tr>\n",
              "    <tr>\n",
              "      <th>6</th>\n",
              "      <td>1</td>\n",
              "      <td>Water, Glycerin, Caprylic/ Capric Triglyceride...</td>\n",
              "    </tr>\n",
              "    <tr>\n",
              "      <th>7</th>\n",
              "      <td>1</td>\n",
              "      <td>100% Unrefined Sclerocraya Birrea (Marula) Ker...</td>\n",
              "    </tr>\n",
              "    <tr>\n",
              "      <th>8</th>\n",
              "      <td>1</td>\n",
              "      <td>Water, Glycerin, Cyclohexasiloxane, Squalane, ...</td>\n",
              "    </tr>\n",
              "    <tr>\n",
              "      <th>9</th>\n",
              "      <td>1</td>\n",
              "      <td>Algae (Seaweed) Extract, Mineral Oil, Petrolat...</td>\n",
              "    </tr>\n",
              "  </tbody>\n",
              "</table>\n",
              "</div>\n",
              "      <button class=\"colab-df-convert\" onclick=\"convertToInteractive('df-c9c09fcc-c6af-41bf-a729-5cd92d0ee9ac')\"\n",
              "              title=\"Convert this dataframe to an interactive table.\"\n",
              "              style=\"display:none;\">\n",
              "        \n",
              "  <svg xmlns=\"http://www.w3.org/2000/svg\" height=\"24px\"viewBox=\"0 0 24 24\"\n",
              "       width=\"24px\">\n",
              "    <path d=\"M0 0h24v24H0V0z\" fill=\"none\"/>\n",
              "    <path d=\"M18.56 5.44l.94 2.06.94-2.06 2.06-.94-2.06-.94-.94-2.06-.94 2.06-2.06.94zm-11 1L8.5 8.5l.94-2.06 2.06-.94-2.06-.94L8.5 2.5l-.94 2.06-2.06.94zm10 10l.94 2.06.94-2.06 2.06-.94-2.06-.94-.94-2.06-.94 2.06-2.06.94z\"/><path d=\"M17.41 7.96l-1.37-1.37c-.4-.4-.92-.59-1.43-.59-.52 0-1.04.2-1.43.59L10.3 9.45l-7.72 7.72c-.78.78-.78 2.05 0 2.83L4 21.41c.39.39.9.59 1.41.59.51 0 1.02-.2 1.41-.59l7.78-7.78 2.81-2.81c.8-.78.8-2.07 0-2.86zM5.41 20L4 18.59l7.72-7.72 1.47 1.35L5.41 20z\"/>\n",
              "  </svg>\n",
              "      </button>\n",
              "      \n",
              "  <style>\n",
              "    .colab-df-container {\n",
              "      display:flex;\n",
              "      flex-wrap:wrap;\n",
              "      gap: 12px;\n",
              "    }\n",
              "\n",
              "    .colab-df-convert {\n",
              "      background-color: #E8F0FE;\n",
              "      border: none;\n",
              "      border-radius: 50%;\n",
              "      cursor: pointer;\n",
              "      display: none;\n",
              "      fill: #1967D2;\n",
              "      height: 32px;\n",
              "      padding: 0 0 0 0;\n",
              "      width: 32px;\n",
              "    }\n",
              "\n",
              "    .colab-df-convert:hover {\n",
              "      background-color: #E2EBFA;\n",
              "      box-shadow: 0px 1px 2px rgba(60, 64, 67, 0.3), 0px 1px 3px 1px rgba(60, 64, 67, 0.15);\n",
              "      fill: #174EA6;\n",
              "    }\n",
              "\n",
              "    [theme=dark] .colab-df-convert {\n",
              "      background-color: #3B4455;\n",
              "      fill: #D2E3FC;\n",
              "    }\n",
              "\n",
              "    [theme=dark] .colab-df-convert:hover {\n",
              "      background-color: #434B5C;\n",
              "      box-shadow: 0px 1px 3px 1px rgba(0, 0, 0, 0.15);\n",
              "      filter: drop-shadow(0px 1px 2px rgba(0, 0, 0, 0.3));\n",
              "      fill: #FFFFFF;\n",
              "    }\n",
              "  </style>\n",
              "\n",
              "      <script>\n",
              "        const buttonEl =\n",
              "          document.querySelector('#df-c9c09fcc-c6af-41bf-a729-5cd92d0ee9ac button.colab-df-convert');\n",
              "        buttonEl.style.display =\n",
              "          google.colab.kernel.accessAllowed ? 'block' : 'none';\n",
              "\n",
              "        async function convertToInteractive(key) {\n",
              "          const element = document.querySelector('#df-c9c09fcc-c6af-41bf-a729-5cd92d0ee9ac');\n",
              "          const dataTable =\n",
              "            await google.colab.kernel.invokeFunction('convertToInteractive',\n",
              "                                                     [key], {});\n",
              "          if (!dataTable) return;\n",
              "\n",
              "          const docLinkHtml = 'Like what you see? Visit the ' +\n",
              "            '<a target=\"_blank\" href=https://colab.research.google.com/notebooks/data_table.ipynb>data table notebook</a>'\n",
              "            + ' to learn more about interactive tables.';\n",
              "          element.innerHTML = '';\n",
              "          dataTable['output_type'] = 'display_data';\n",
              "          await google.colab.output.renderOutput(dataTable, element);\n",
              "          const docLink = document.createElement('div');\n",
              "          docLink.innerHTML = docLinkHtml;\n",
              "          element.appendChild(docLink);\n",
              "        }\n",
              "      </script>\n",
              "    </div>\n",
              "  </div>\n",
              "  "
            ]
          },
          "metadata": {},
          "execution_count": 46
        }
      ]
    },
    {
      "cell_type": "markdown",
      "source": [
        "**Training Data**"
      ],
      "metadata": {
        "id": "LrBYVDUhDLrl"
      }
    },
    {
      "cell_type": "code",
      "source": [
        "from sklearn.model_selection import train_test_split\n",
        "\n",
        "# Split the 'Ingredients' column and 'Label' column into training and testing sets\n",
        "x_train, x_test, y_train, y_test = train_test_split(df['Ingredients'].values, df['Label'].values, test_size=0.30)\n"
      ],
      "metadata": {
        "id": "SFZ3ySnAD4Ij"
      },
      "execution_count": null,
      "outputs": []
    },
    {
      "cell_type": "code",
      "source": [
        "# Print the 'Ingredients' value of the first training example\n",
        "print('Ingredients:', x_train[0])\n",
        "\n",
        "# Print the 'Label' value of the first training example\n",
        "print('sentiment:', y_train[0])"
      ],
      "metadata": {
        "colab": {
          "base_uri": "https://localhost:8080/"
        },
        "id": "FPQwABj7EIvL",
        "outputId": "7cb0b6b9-f8b3-4e99-b210-0d65ac7004e7"
      },
      "execution_count": null,
      "outputs": [
        {
          "output_type": "stream",
          "name": "stdout",
          "text": [
            "Ingredients:  Declustered Water (-)/Aqua/Eau De-Structuree (-), Methyl Gluceth-20, Glycereth-26, Laminaria Saccharina Extract, Algae (Seaweed) Extract, Sesamum Indicum (Sesame) Seed Oil, Medicago Sativa (Alfalfa) Seed Powder, Helianthus Annuus (Sunflower) Seedcake, Prunus Amygdalus Dulcis (Sweet Almond) Seed Meal, Eucalyptus Globulus (Eucalyptus) Leaf Oil, Sodium Gluconate, Copper Gluconate, Calcium Gluconate, Magnesium Gluconate, Zinc Gluconate, Tocopheryl Succinate, Niacin, Sesamum Indicum (Sesame) Seed Powder, Butylene Glycol, Ppg-28-Buteth-35, Ppg-5-Ceteth-20, Sodium Hyaluronate, Citric Acid, Sodium Citrate, Polysorbate 20, Sucrose, Caffeine, Disodium Edta, Benzophenone-4, Phenoxyethanol, Potassium Sorbate, Fragrance, Linalool, Yellow 5 (Ci 19140), Red 33 (Ci 17200)\n",
            "sentiment:  1\n"
          ]
        }
      ]
    },
    {
      "cell_type": "code",
      "source": [
        "from tensorflow.keras.preprocessing.text import Tokenizer\n",
        "from tensorflow.keras.preprocessing.sequence import pad_sequences "
      ],
      "metadata": {
        "id": "K8Sb8SUEEalh"
      },
      "execution_count": null,
      "outputs": []
    },
    {
      "cell_type": "code",
      "source": [
        "# Set the maximum vocabulary size\n",
        "max_vocab = 20000000\n",
        "\n",
        "# Initialize a tokenizer object\n",
        "tokenizer = Tokenizer(num_words=max_vocab)\n",
        "\n",
        "# Fit the tokenizer on the training data\n",
        "tokenizer.fit_on_texts(x_train)"
      ],
      "metadata": {
        "id": "DYSiJfBQEfO2"
      },
      "execution_count": null,
      "outputs": []
    },
    {
      "cell_type": "code",
      "source": [
        "# Retrieve the word index from the tokenizer\n",
        "wordidx = tokenizer.word_index\n",
        "\n",
        "# Determine the size of the dataset's vocabulary\n",
        "V = len(wordidx)\n",
        "\n",
        "print('The size of the dataset vocabulary is:', V)\n"
      ],
      "metadata": {
        "colab": {
          "base_uri": "https://localhost:8080/"
        },
        "id": "qd1gHC2jEi14",
        "outputId": "7f6bb70e-675c-499a-a301-5587484d85d8"
      },
      "execution_count": null,
      "outputs": [
        {
          "output_type": "stream",
          "name": "stdout",
          "text": [
            "The size of datatset vocab is:  1982\n"
          ]
        }
      ]
    },
    {
      "cell_type": "code",
      "source": [
        "# Convert text data in x_train to sequences\n",
        "train_seq = tokenizer.texts_to_sequences(x_train)\n",
        "\n",
        "# Convert text data in x_test to sequences\n",
        "test_seq = tokenizer.texts_to_sequences(x_test)\n",
        "\n",
        "print('Training sequence:', train_seq[0])\n",
        "print('Testing sequence:', test_seq[0])\n"
      ],
      "metadata": {
        "colab": {
          "base_uri": "https://localhost:8080/"
        },
        "id": "JK0qo0E1EnTl",
        "outputId": "a17249ad-4f65-4779-ace5-43a7003b3312"
      },
      "execution_count": null,
      "outputs": [
        {
          "output_type": "stream",
          "name": "stdout",
          "text": [
            "Training sequence:  [797, 7, 107, 429, 348, 798, 51, 320, 42, 430, 276, 219, 431, 1, 189, 385, 1, 220, 190, 203, 8, 2, 386, 82, 387, 8, 68, 114, 115, 100, 321, 108, 221, 89, 204, 191, 8, 349, 161, 249, 161, 6, 2, 3, 48, 137, 48, 116, 48, 61, 48, 109, 48, 52, 222, 350, 220, 190, 203, 8, 68, 16, 5, 117, 1105, 480, 1106, 117, 118, 550, 42, 3, 18, 27, 4, 3, 73, 77, 42, 150, 176, 19, 24, 799, 78, 15, 30, 62, 35, 74, 177, 118, 20, 296, 223, 481, 20, 647]\n",
            "Testing sequence:  [622, 2]\n"
          ]
        }
      ]
    },
    {
      "cell_type": "code",
      "source": [
        "# Pad the training sequences\n",
        "pad_train = pad_sequences(train_seq)\n",
        "\n",
        "# Determine the length of the padded training sequences\n",
        "T = pad_train.shape[1]\n",
        "\n",
        "print('The length of the training sequence is:', T)"
      ],
      "metadata": {
        "colab": {
          "base_uri": "https://localhost:8080/"
        },
        "id": "aJKugjKvErm8",
        "outputId": "3dd34890-0d9b-42ae-ecd9-d1e81f43214f"
      },
      "execution_count": null,
      "outputs": [
        {
          "output_type": "stream",
          "name": "stdout",
          "text": [
            "The length of training sequence is:  611\n"
          ]
        }
      ]
    },
    {
      "cell_type": "code",
      "source": [
        "# Pad the testing squences\n",
        "pad_test = pad_sequences(test_seq, maxlen=T)\n",
        "print('The length of testing sequence is: ', pad_test.shape[1])"
      ],
      "metadata": {
        "colab": {
          "base_uri": "https://localhost:8080/"
        },
        "id": "IkWbHkoyEwAw",
        "outputId": "520ea89c-23aa-48e0-99db-232337e3e2c5"
      },
      "execution_count": null,
      "outputs": [
        {
          "output_type": "stream",
          "name": "stdout",
          "text": [
            "The length of testing sequence is:  611\n"
          ]
        }
      ]
    },
    {
      "cell_type": "markdown",
      "source": [
        "**Building Model**"
      ],
      "metadata": {
        "id": "TRH7NXMJBrn2"
      }
    },
    {
      "cell_type": "code",
      "source": [
        "from tensorflow.keras.layers import Input, Dense, Embedding, LSTM, GlobalMaxPooling1D\n",
        "from tensorflow.keras.models import Model"
      ],
      "metadata": {
        "id": "g43Sl572E1sc"
      },
      "execution_count": null,
      "outputs": []
    },
    {
      "cell_type": "code",
      "source": [
        "D = 20 \n",
        "M = 15"
      ],
      "metadata": {
        "id": "hiS9P6WaE41N"
      },
      "execution_count": null,
      "outputs": []
    },
    {
      "cell_type": "code",
      "source": [
        "# Define the input layer with shape (T,)\n",
        "i = Input(shape=(T,))\n",
        "\n",
        "# Embedding layer: maps each word index to a dense vector representation\n",
        "x = Embedding(V+1, D)(i)  \n",
        "x = LSTM(M, return_sequences=True)(x)\n",
        "x = GlobalMaxPooling1D()(x)\n",
        "x = Dense(32, activation='relu')(x)\n",
        "x = Dense(1, activation='sigmoid')(x)\n"
      ],
      "metadata": {
        "id": "266tUn5LE7yd"
      },
      "execution_count": null,
      "outputs": []
    },
    {
      "cell_type": "code",
      "source": [
        "model = Model(i,x)\n"
      ],
      "metadata": {
        "id": "fxPEvjmEFE7z"
      },
      "execution_count": null,
      "outputs": []
    },
    {
      "cell_type": "code",
      "source": [
        "model.summary()"
      ],
      "metadata": {
        "colab": {
          "base_uri": "https://localhost:8080/"
        },
        "id": "VpfsW42bVF6_",
        "outputId": "76c6c795-3c39-4a34-ff50-1faed6054462"
      },
      "execution_count": null,
      "outputs": [
        {
          "output_type": "stream",
          "name": "stdout",
          "text": [
            "Model: \"model_1\"\n",
            "_________________________________________________________________\n",
            " Layer (type)                Output Shape              Param #   \n",
            "=================================================================\n",
            " input_2 (InputLayer)        [(None, 611)]             0         \n",
            "                                                                 \n",
            " embedding_1 (Embedding)     (None, 611, 20)           39660     \n",
            "                                                                 \n",
            " lstm_1 (LSTM)               (None, 611, 15)           2160      \n",
            "                                                                 \n",
            " global_max_pooling1d_1 (Glo  (None, 15)               0         \n",
            " balMaxPooling1D)                                                \n",
            "                                                                 \n",
            " dense_2 (Dense)             (None, 32)                512       \n",
            "                                                                 \n",
            " dense_3 (Dense)             (None, 1)                 33        \n",
            "                                                                 \n",
            "=================================================================\n",
            "Total params: 42,365\n",
            "Trainable params: 42,365\n",
            "Non-trainable params: 0\n",
            "_________________________________________________________________\n"
          ]
        }
      ]
    },
    {
      "cell_type": "code",
      "source": [
        "model.compile(optimizer='adam', \n",
        "              loss='binary_crossentropy', \n",
        "              metrics=['accuracy'])\n"
      ],
      "metadata": {
        "id": "7NstTMI3FJkK"
      },
      "execution_count": null,
      "outputs": []
    },
    {
      "cell_type": "code",
      "source": [
        "r = model.fit(pad_train, y_train, validation_data=(pad_test, y_test), epochs=10)"
      ],
      "metadata": {
        "colab": {
          "base_uri": "https://localhost:8080/"
        },
        "id": "V9sGL40LFLM3",
        "outputId": "dfaf1625-c5b5-4da8-e2fc-55b9ae137520"
      },
      "execution_count": null,
      "outputs": [
        {
          "output_type": "stream",
          "name": "stdout",
          "text": [
            "Epoch 1/10\n",
            "17/17 [==============================] - 10s 422ms/step - loss: 0.6936 - accuracy: 0.4880 - val_loss: 0.6919 - val_accuracy: 0.5431\n",
            "Epoch 2/10\n",
            "17/17 [==============================] - 7s 390ms/step - loss: 0.6900 - accuracy: 0.6285 - val_loss: 0.6881 - val_accuracy: 0.5819\n",
            "Epoch 3/10\n",
            "17/17 [==============================] - 7s 398ms/step - loss: 0.6830 - accuracy: 0.7726 - val_loss: 0.6785 - val_accuracy: 0.7586\n",
            "Epoch 4/10\n",
            "17/17 [==============================] - 7s 402ms/step - loss: 0.6634 - accuracy: 0.8521 - val_loss: 0.6522 - val_accuracy: 0.8147\n",
            "Epoch 5/10\n",
            "17/17 [==============================] - 5s 318ms/step - loss: 0.6076 - accuracy: 0.8835 - val_loss: 0.5817 - val_accuracy: 0.8319\n",
            "Epoch 6/10\n",
            "17/17 [==============================] - 7s 406ms/step - loss: 0.5069 - accuracy: 0.8965 - val_loss: 0.5169 - val_accuracy: 0.8491\n",
            "Epoch 7/10\n",
            "17/17 [==============================] - 6s 333ms/step - loss: 0.4112 - accuracy: 0.9187 - val_loss: 0.4651 - val_accuracy: 0.8664\n",
            "Epoch 8/10\n",
            "17/17 [==============================] - 5s 317ms/step - loss: 0.3105 - accuracy: 0.9464 - val_loss: 0.4189 - val_accuracy: 0.8793\n",
            "Epoch 9/10\n",
            "17/17 [==============================] - 7s 443ms/step - loss: 0.2083 - accuracy: 0.9741 - val_loss: 0.3602 - val_accuracy: 0.8750\n",
            "Epoch 10/10\n",
            "17/17 [==============================] - 5s 319ms/step - loss: 0.1262 - accuracy: 0.9926 - val_loss: 0.3341 - val_accuracy: 0.8750\n"
          ]
        }
      ]
    },
    {
      "cell_type": "code",
      "source": [
        "plt.plot(r.history['loss'], label='loss')\n",
        "plt.plot(r.history['val_loss'], label = 'val_loss')\n",
        "plt.legend()"
      ],
      "metadata": {
        "colab": {
          "base_uri": "https://localhost:8080/",
          "height": 447
        },
        "id": "9S_XceSDFYfC",
        "outputId": "a2dfeb01-58a2-4707-d0c2-e9b0af7308fa"
      },
      "execution_count": null,
      "outputs": [
        {
          "output_type": "execute_result",
          "data": {
            "text/plain": [
              "<matplotlib.legend.Legend at 0x7f8fe80268c0>"
            ]
          },
          "metadata": {},
          "execution_count": 66
        },
        {
          "output_type": "display_data",
          "data": {
            "text/plain": [
              "<Figure size 640x480 with 1 Axes>"
            ],
            "image/png": "[encoded data removed]"
          },
          "metadata": {}
        }
      ]
    },
    {
      "cell_type": "code",
      "source": [
        "plt.plot(r.history['accuracy'], label= 'accuracy')\n",
        "plt.plot(r.history['val_accuracy'], label='val_accuracy')\n",
        "plt.legend()"
      ],
      "metadata": {
        "colab": {
          "base_uri": "https://localhost:8080/",
          "height": 447
        },
        "id": "ZMjbDzylFbsj",
        "outputId": "92df2738-24f4-4462-c083-cb5539530ae0"
      },
      "execution_count": null,
      "outputs": [
        {
          "output_type": "execute_result",
          "data": {
            "text/plain": [
              "<matplotlib.legend.Legend at 0x7f8fe8093760>"
            ]
          },
          "metadata": {},
          "execution_count": 67
        },
        {
          "output_type": "display_data",
          "data": {
            "text/plain": [
              "<Figure size 640x480 with 1 Axes>"
            ],
            "image/png": "[encoded data removed]"
          },
          "metadata": {}
        }
      ]
    },
    {
      "cell_type": "markdown",
      "source": [
        "**Predict Sentiment**"
      ],
      "metadata": {
        "id": "wFfHTrTnDTqc"
      }
    },
    {
      "cell_type": "code",
      "source": [
        "def predict_sentiment(text):\n",
        "  # Convert the text to sequences using the tokenizer\n",
        "  text_seq = tokenizer.texts_to_sequences(text)\n",
        "  \n",
        "  # Pad the sequences\n",
        "  text_pad = pad_sequences(text_seq, maxlen=T)\n",
        "\n",
        "  # Predict the sentiment using the trained model\n",
        "  predicted_sentiment = model.predict(text_pad).round()\n",
        "\n",
        "  # Check the predicted sentiment and return the corresponding label\n",
        "  if predicted_sentiment == 1.0:\n",
        "    return print('It is a positive sentiment')\n",
        "  else:\n",
        "    return print('It is a negative sentiment')\n",
        "\n",
        "# Example text\n",
        "text = ['KOMPOSISI: Water, Triethanolamine, Myristic Acid, Lauric\\nAcid, Glycerin, Lauryl Phosphate, Hydroxypropyl\\nMethylcellulose, Cocamidopropyl Betaine, Phenoxyethanol,\\nFragrance, Methylparaben, BHT, Propylparaben,\\no-Cymen-5-ol, Ethylparaben, Benzophenone-4.']\n",
        "predict_sentiment(text)"
      ],
      "metadata": {
        "colab": {
          "base_uri": "https://localhost:8080/"
        },
        "id": "Ux_8XDz8Fm12",
        "outputId": "2754740e-14d8-4843-c852-aa9aa67421ad"
      },
      "execution_count": null,
      "outputs": [
        {
          "output_type": "stream",
          "name": "stdout",
          "text": [
            "1/1 [==============================] - 0s 47ms/step\n",
            "It is a positive sentiment\n"
          ]
        }
      ]
    },
    {
      "cell_type": "code",
      "source": [
        "model.save('sentiment analysis dipta v.0.h5')   "
      ],
      "metadata": {
        "id": "g_TMWTkZVm0w"
      },
      "execution_count": null,
      "outputs": []
    },
    {
      "cell_type": "code",
      "source": [
        "model.save_weights(\"sentiment analysis dipta v.0. weight.h5\")"
      ],
      "metadata": {
        "id": "9GGI3RVCXIko"
      },
      "execution_count": null,
      "outputs": []
    },
    {
      "cell_type": "code",
      "source": [
        "from google.colab import files\n",
        "files.download('sentiment analysis dipta v.0.h5')"
      ],
      "metadata": {
        "colab": {
          "base_uri": "https://localhost:8080/",
          "height": 17
        },
        "id": "TkY6RNnxWVOB",
        "outputId": "fe35be00-1bf9-4aab-ba9a-e7c5181e293a"
      },
      "execution_count": null,
      "outputs": [
        {
          "output_type": "display_data",
          "data": {
            "text/plain": [
              "<IPython.core.display.Javascript object>"
            ],
            "application/javascript": [
              "\n",
              "    async function download(id, filename, size) {\n",
              "      if (!google.colab.kernel.accessAllowed) {\n",
              "        return;\n",
              "      }\n",
              "      const div = document.createElement('div');\n",
              "      const label = document.createElement('label');\n",
              "      label.textContent = `Downloading \"${filename}\": `;\n",
              "      div.appendChild(label);\n",
              "      const progress = document.createElement('progress');\n",
              "      progress.max = size;\n",
              "      div.appendChild(progress);\n",
              "      document.body.appendChild(div);\n",
              "\n",
              "      const buffers = [];\n",
              "      let downloaded = 0;\n",
              "\n",
              "      const channel = await google.colab.kernel.comms.open(id);\n",
              "      // Send a message to notify the kernel that we're ready.\n",
              "      channel.send({})\n",
              "\n",
              "      for await (const message of channel.messages) {\n",
              "        // Send a message to notify the kernel that we're ready.\n",
              "        channel.send({})\n",
              "        if (message.buffers) {\n",
              "          for (const buffer of message.buffers) {\n",
              "            buffers.push(buffer);\n",
              "            downloaded += buffer.byteLength;\n",
              "            progress.value = downloaded;\n",
              "          }\n",
              "        }\n",
              "      }\n",
              "      const blob = new Blob(buffers, {type: 'application/binary'});\n",
              "      const a = document.createElement('a');\n",
              "      a.href = window.URL.createObjectURL(blob);\n",
              "      a.download = filename;\n",
              "      div.appendChild(a);\n",
              "      a.click();\n",
              "      div.remove();\n",
              "    }\n",
              "  "
            ]
          },
          "metadata": {}
        },
        {
          "output_type": "display_data",
          "data": {
            "text/plain": [
              "<IPython.core.display.Javascript object>"
            ],
            "application/javascript": [
              "download(\"download_2ec44f64-b72b-4906-94df-5b0f855d99a4\", \"sentiment analysis dipta v.0.h5\", 554272)"
            ]
          },
          "metadata": {}
        }
      ]
    },
    {
      "cell_type": "code",
      "source": [
        "files.download('sentiment analysis dipta v.0. weight.h5')"
      ],
      "metadata": {
        "colab": {
          "base_uri": "https://localhost:8080/",
          "height": 17
        },
        "id": "OIlheHGaX3pM",
        "outputId": "bd8f382c-354e-4fd8-afef-1c0cf9c8f794"
      },
      "execution_count": null,
      "outputs": [
        {
          "output_type": "display_data",
          "data": {
            "text/plain": [
              "<IPython.core.display.Javascript object>"
            ],
            "application/javascript": [
              "\n",
              "    async function download(id, filename, size) {\n",
              "      if (!google.colab.kernel.accessAllowed) {\n",
              "        return;\n",
              "      }\n",
              "      const div = document.createElement('div');\n",
              "      const label = document.createElement('label');\n",
              "      label.textContent = `Downloading \"${filename}\": `;\n",
              "      div.appendChild(label);\n",
              "      const progress = document.createElement('progress');\n",
              "      progress.max = size;\n",
              "      div.appendChild(progress);\n",
              "      document.body.appendChild(div);\n",
              "\n",
              "      const buffers = [];\n",
              "      let downloaded = 0;\n",
              "\n",
              "      const channel = await google.colab.kernel.comms.open(id);\n",
              "      // Send a message to notify the kernel that we're ready.\n",
              "      channel.send({})\n",
              "\n",
              "      for await (const message of channel.messages) {\n",
              "        // Send a message to notify the kernel that we're ready.\n",
              "        channel.send({})\n",
              "        if (message.buffers) {\n",
              "          for (const buffer of message.buffers) {\n",
              "            buffers.push(buffer);\n",
              "            downloaded += buffer.byteLength;\n",
              "            progress.value = downloaded;\n",
              "          }\n",
              "        }\n",
              "      }\n",
              "      const blob = new Blob(buffers, {type: 'application/binary'});\n",
              "      const a = document.createElement('a');\n",
              "      a.href = window.URL.createObjectURL(blob);\n",
              "      a.download = filename;\n",
              "      div.appendChild(a);\n",
              "      a.click();\n",
              "      div.remove();\n",
              "    }\n",
              "  "
            ]
          },
          "metadata": {}
        },
        {
          "output_type": "display_data",
          "data": {
            "text/plain": [
              "<IPython.core.display.Javascript object>"
            ],
            "application/javascript": [
              "download(\"download_4b16ef84-881b-4994-bd53-7a71f519c18d\", \"sentiment analysis dipta v.0. weight.h5\", 191960)"
            ]
          },
          "metadata": {}
        }
      ]
    }
  ]
}