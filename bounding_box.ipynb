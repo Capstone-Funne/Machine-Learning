{
  "nbformat": 4,
  "nbformat_minor": 0,
  "metadata": {
    "colab": {
      "provenance": [],
      "gpuType": "T4"
    },
    "kernelspec": {
      "name": "python3",
      "display_name": "Python 3"
    },
    "language_info": {
      "name": "python"
    },
    "accelerator": "GPU",
    "gpuClass": "standard"
  },
  "cells": [
    {
      "cell_type": "code",
      "execution_count": 1,
      "metadata": {
        "id": "-DO2WYEjrgrY"
      },
      "outputs": [],
      "source": [
        "import numpy as np\n",
        "import matplotlib.pyplot as plt\n",
        "import cv2\n",
        "import os\n",
        "from tensorflow.keras.layers import *\n",
        "from tensorflow.keras.models import *\n",
        "from tensorflow.keras.optimizers import Adam\n",
        "from sklearn.model_selection import train_test_split\n",
        "from google.colab import drive\n",
        "     "
      ]
    },
    {
      "cell_type": "code",
      "source": [
        "from google.colab import drive\n",
        "drive.mount('/content/drive')"
      ],
      "metadata": {
        "id": "LTatr5cMv2-_",
        "colab": {
          "base_uri": "https://localhost:8080/"
        },
        "outputId": "7eedf355-f75a-4528-a349-eb618c201861"
      },
      "execution_count": 4,
      "outputs": [
        {
          "output_type": "stream",
          "name": "stdout",
          "text": [
            "Drive already mounted at /content/drive; to attempt to forcibly remount, call drive.mount(\"/content/drive\", force_remount=True).\n"
          ]
        }
      ]
    },
    {
      "cell_type": "code",
      "source": [
        "!pip install pytesseract"
      ],
      "metadata": {
        "colab": {
          "base_uri": "https://localhost:8080/"
        },
        "id": "T8e2YDlyvym6",
        "outputId": "3a95ba8f-3df8-444d-ec6c-09f78bb6f3fa"
      },
      "execution_count": 5,
      "outputs": [
        {
          "output_type": "stream",
          "name": "stdout",
          "text": [
            "Looking in indexes: https://pypi.org/simple, https://us-python.pkg.dev/colab-wheels/public/simple/\n",
            "Collecting pytesseract\n",
            "  Downloading pytesseract-0.3.10-py3-none-any.whl (14 kB)\n",
            "Requirement already satisfied: packaging>=21.3 in /usr/local/lib/python3.10/dist-packages (from pytesseract) (23.1)\n",
            "Requirement already satisfied: Pillow>=8.0.0 in /usr/local/lib/python3.10/dist-packages (from pytesseract) (8.4.0)\n",
            "Installing collected packages: pytesseract\n",
            "Successfully installed pytesseract-0.3.10\n"
          ]
        }
      ]
    },
    {
      "cell_type": "code",
      "source": [
        "!sudo apt install tesseract-ocr"
      ],
      "metadata": {
        "colab": {
          "base_uri": "https://localhost:8080/"
        },
        "id": "Cueyt1iTv35N",
        "outputId": "ea6d49e9-7248-405a-9335-db0ce984f144"
      },
      "execution_count": 6,
      "outputs": [
        {
          "output_type": "stream",
          "name": "stdout",
          "text": [
            "Reading package lists... Done\n",
            "Building dependency tree       \n",
            "Reading state information... Done\n",
            "The following additional packages will be installed:\n",
            "  tesseract-ocr-eng tesseract-ocr-osd\n",
            "The following NEW packages will be installed:\n",
            "  tesseract-ocr tesseract-ocr-eng tesseract-ocr-osd\n",
            "0 upgraded, 3 newly installed, 0 to remove and 34 not upgraded.\n",
            "Need to get 4,850 kB of archives.\n",
            "After this operation, 16.3 MB of additional disk space will be used.\n",
            "Get:1 http://archive.ubuntu.com/ubuntu focal/universe amd64 tesseract-ocr-eng all 1:4.00~git30-7274cfa-1 [1,598 kB]\n",
            "Get:2 http://archive.ubuntu.com/ubuntu focal/universe amd64 tesseract-ocr-osd all 1:4.00~git30-7274cfa-1 [2,990 kB]\n",
            "Get:3 http://archive.ubuntu.com/ubuntu focal/universe amd64 tesseract-ocr amd64 4.1.1-2build2 [262 kB]\n",
            "Fetched 4,850 kB in 0s (29.9 MB/s)\n",
            "debconf: unable to initialize frontend: Dialog\n",
            "debconf: (No usable dialog-like program is installed, so the dialog based frontend cannot be used. at /usr/share/perl5/Debconf/FrontEnd/Dialog.pm line 76, <> line 3.)\n",
            "debconf: falling back to frontend: Readline\n",
            "debconf: unable to initialize frontend: Readline\n",
            "debconf: (This frontend requires a controlling tty.)\n",
            "debconf: falling back to frontend: Teletype\n",
            "dpkg-preconfigure: unable to re-open stdin: \n",
            "Selecting previously unselected package tesseract-ocr-eng.\n",
            "(Reading database ... 122545 files and directories currently installed.)\n",
            "Preparing to unpack .../tesseract-ocr-eng_1%3a4.00~git30-7274cfa-1_all.deb ...\n",
            "Unpacking tesseract-ocr-eng (1:4.00~git30-7274cfa-1) ...\n",
            "Selecting previously unselected package tesseract-ocr-osd.\n",
            "Preparing to unpack .../tesseract-ocr-osd_1%3a4.00~git30-7274cfa-1_all.deb ...\n",
            "Unpacking tesseract-ocr-osd (1:4.00~git30-7274cfa-1) ...\n",
            "Selecting previously unselected package tesseract-ocr.\n",
            "Preparing to unpack .../tesseract-ocr_4.1.1-2build2_amd64.deb ...\n",
            "Unpacking tesseract-ocr (4.1.1-2build2) ...\n",
            "Setting up tesseract-ocr-eng (1:4.00~git30-7274cfa-1) ...\n",
            "Setting up tesseract-ocr-osd (1:4.00~git30-7274cfa-1) ...\n",
            "Setting up tesseract-ocr (4.1.1-2build2) ...\n",
            "Processing triggers for man-db (2.9.1-1) ...\n"
          ]
        }
      ]
    },
    {
      "cell_type": "code",
      "source": [
        "import numpy as np\n",
        "import matplotlib.pyplot as plt\n",
        "import cv2\n",
        "import os\n",
        "from sklearn.model_selection import train_test_split\n",
        "from google.colab import drive"
      ],
      "metadata": {
        "id": "seKa48957iwa"
      },
      "execution_count": 19,
      "outputs": []
    },
    {
      "cell_type": "code",
      "source": [
        "source = '/content/drive/MyDrive/CAPSTONE PROJECT BANGKIT/dataset product'\n",
        "#path into train and test images\n",
        "train_images = os.path.join(source, 'images')\n",
        "train_annotations = os.path.join(source, 'mask')"
      ],
      "metadata": {
        "id": "bKRaSWRq7k83"
      },
      "execution_count": 20,
      "outputs": []
    },
    {
      "cell_type": "code",
      "source": [
        "print(\"Contents of base directory:\")\n",
        "print(os.listdir(source))\n",
        "\n",
        "print(\"\\nContents of train directory:\")\n",
        "print(os.listdir(f'{source}/train_images'))\n",
        "\n",
        "print(\"\\nContents of validation directory:\")\n",
        "print(os.listdir(f'{source}/train_annotations'))"
      ],
      "metadata": {
        "colab": {
          "base_uri": "https://localhost:8080/"
        },
        "id": "3dpu9g4ZIHPW",
        "outputId": "3c88dc1e-02a5-4ae7-ca8f-15052e76b847"
      },
      "execution_count": 21,
      "outputs": [
        {
          "output_type": "stream",
          "name": "stdout",
          "text": [
            "Contents of base directory:\n",
            "['train_images', 'train_annotations', '.ipynb_checkpoints', 'images', 'mask']\n",
            "\n",
            "Contents of train directory:\n",
            "['clear.jpeg', 'photo1684971609.jpeg', 'photo1684971618.jpeg', 'photo1684971633.jpeg', 'photo1684971642.jpeg', 'photo1684971652.jpeg', 'photo1684971668.jpeg', 'photo1684971800.jpeg']\n",
            "\n",
            "Contents of validation directory:\n",
            "['clear.jpeg', 'photo1684971609 - Copy.jpeg', 'photo1684971618 - Copy.jpeg', 'photo1684971633 - Copy.jpeg', 'photo1684971642 - Copy.jpeg', 'photo1684971668 - Copy.jpeg', 'photo1684971800 - Copy.jpeg']\n"
          ]
        }
      ]
    },
    {
      "cell_type": "code",
      "source": [
        "sorted_image = sorted(os.listdir(train_images))\n",
        "sorted_mask = sorted(os.listdir(train_annotations))"
      ],
      "metadata": {
        "id": "3aGLR1GOI-d2"
      },
      "execution_count": 22,
      "outputs": []
    },
    {
      "cell_type": "code",
      "source": [
        "img_size = 128"
      ],
      "metadata": {
        "id": "lH-hBD-eKJC_"
      },
      "execution_count": 23,
      "outputs": []
    },
    {
      "cell_type": "code",
      "source": [
        "def get_segmented_img(img):\n",
        "  \n",
        "    labels=np.zeros((img_size,img_size,1))\n",
        "    img=cv2.resize(img,(img_size,img_size))\n",
        "    img=img[:,:,0]\n",
        "    labels[:,:,0]=(img!=0).astype(int)\n",
        "\n",
        "\n",
        "    return labels"
      ],
      "metadata": {
        "id": "bAnB3CtUVy99"
      },
      "execution_count": 24,
      "outputs": []
    },
    {
      "cell_type": "code",
      "source": [
        "x = []\n",
        "y = []\n",
        "\n",
        "for index in range (len(os.listdir(train_images))):\n",
        "    img = cv2.imread(os.path.join(train_images, sorted_image[index]))\n",
        "    img = cv2.cvtColor(img, cv2.COLOR_BGR2GRAY)\n",
        "    ret,img=cv2.threshold(img,150,255,cv2.THRESH_BINARY_INV)\n",
        "    img=cv2.resize(img,(img_size,img_size))\n",
        "    img=np.expand_dims(img,axis=-1)\n",
        "    img=img/255\n",
        "    \n",
        "    annotation = cv2.imread(os.path.join(train_annotations, sorted_mask[index]))\n",
        "    annotation = cv2.cvtColor(annotation, cv2.COLOR_BGR2GRAY)\n",
        "    annotation=cv2.resize(annotation,(img_size,img_size))\n",
        "    annotation = np.stack((annotation,)*3, axis=-1)\n",
        "    annotation =get_segmented_img(annotation)\n",
        "    \n",
        "    x.append(img)\n",
        "    y.append(annotation)"
      ],
      "metadata": {
        "id": "O_RVc0WQW-PW"
      },
      "execution_count": 25,
      "outputs": []
    },
    {
      "cell_type": "code",
      "source": [
        "# Split Dataset\n",
        "x_train, x_test, y_train, y_test = train_test_split(x, y, train_size = 0.8, random_state = 1)\n",
        "\n",
        "x_train = np.array(x_train)\n",
        "x_test = np.array(x_test)\n",
        "\n",
        "y_train = np.array(y_train)\n",
        "y_test = np.array(y_test)"
      ],
      "metadata": {
        "id": "2vDLG2_ZK7Z3"
      },
      "execution_count": 26,
      "outputs": []
    },
    {
      "cell_type": "code",
      "source": [
        "print(x_train.shape)\n",
        "print(x_test.shape)"
      ],
      "metadata": {
        "colab": {
          "base_uri": "https://localhost:8080/"
        },
        "id": "GZU9MX-aK-tO",
        "outputId": "26020df5-6a01-4b44-f800-c9ad4c52e18b"
      },
      "execution_count": 27,
      "outputs": [
        {
          "output_type": "stream",
          "name": "stdout",
          "text": [
            "(17, 128, 128, 1)\n",
            "(5, 128, 128, 1)\n"
          ]
        }
      ]
    },
    {
      "cell_type": "code",
      "source": [
        "from tensorflow.keras.models import Model\n",
        "from tensorflow.keras.layers import Input, Conv2D, MaxPooling2D, Dropout, UpSampling2D, concatenate\n",
        "from tensorflow.keras.optimizers import Adam\n",
        "\n",
        "inputs = Input((img_size, img_size, 1))\n",
        "\n",
        "conv1 = Conv2D(64, 3, activation= 'relu', kernel_initializer='he_normal',padding = 'same')(inputs)\n",
        "conv1 = Conv2D(64, 3, activation= 'relu',kernel_initializer='he_normal', padding = 'same')(conv1)\n",
        "pool1 = MaxPooling2D(2,2)(conv1)\n",
        "\n",
        "conv2 = Conv2D(128, 3, activation= 'relu', kernel_initializer='he_normal', padding = 'same')(pool1)\n",
        "conv2 = Conv2D(128, 3, activation= 'relu', kernel_initializer='he_normal',padding = 'same')(conv2)\n",
        "pool2 = MaxPooling2D(2,2)(conv2)\n",
        "\n",
        "conv3 = Conv2D(256, 3, activation= 'relu', kernel_initializer='he_normal',padding = 'same')(pool2)\n",
        "conv3 = Conv2D(256, 3, activation= 'relu',kernel_initializer='he_normal', padding = 'same')(conv3)\n",
        "pool3 = MaxPooling2D(2,2)(conv3)\n",
        "\n",
        "conv4 = Conv2D(512, 3, activation= 'relu', kernel_initializer='he_normal',padding = 'same')(pool3)\n",
        "conv4 = Conv2D(512, 3, activation= 'relu',kernel_initializer='he_normal', padding = 'same')(conv4)\n",
        "pool4 = MaxPooling2D(2,2)(conv4)\n",
        "\n",
        "conv5 = Conv2D(1024, 3, activation= 'relu',kernel_initializer='he_normal', padding = 'same')(pool4)\n",
        "conv5 = Conv2D(1024, 3, activation= 'relu', kernel_initializer='he_normal',padding = 'same')(conv5)\n",
        "dropout5 = Dropout(0.5)(conv5)\n",
        "\n",
        "up6 = Conv2D(512, 2, activation = 'relu', kernel_initializer='he_normal',padding = 'same')(UpSampling2D(size = (2,2))(dropout5))\n",
        "merge6 = concatenate([conv4,up6], axis = 3)\n",
        "conv6 = Conv2D(512, 3, activation = 'relu', kernel_initializer='he_normal',padding = 'same')(merge6)\n",
        "conv6 = Conv2D(512, 3, activation = 'relu', kernel_initializer='he_normal',padding = 'same')(conv6)\n",
        "\n",
        "up7 = Conv2D(256, 2, activation = 'relu', kernel_initializer='he_normal',padding = 'same')(UpSampling2D(size = (2,2))(conv6))\n",
        "merge7 = concatenate([conv3,up7], axis = 3)\n",
        "conv7 = Conv2D(256, 3, activation = 'relu', kernel_initializer='he_normal', padding = 'same')(merge7)\n",
        "conv7 = Conv2D(256, 3, activation = 'relu',kernel_initializer='he_normal', padding = 'same')(conv7)\n",
        "\n",
        "up8 = Conv2D(128, 2, activation = 'relu', kernel_initializer='he_normal',padding = 'same')(UpSampling2D(size = (2,2))(conv7))\n",
        "merge8 = concatenate([conv2,up8], axis = 3)\n",
        "conv8 = Conv2D(128, 3, activation = 'relu', kernel_initializer='he_normal',padding = 'same')(merge8)\n",
        "conv8 = Conv2D(128, 3, activation = 'relu', padding = 'same')(conv8)\n",
        ",\n",
        "up9 = Conv2D(64, 2, activation = 'relu', kernel_initializer='he_normal', padding = 'same')(UpSampling2D(size = (2,2))(conv8))\n",
        "merge9 = concatenate([conv1,up9], axis = 3)\n",
        "conv9 = Conv2D(64, 3, activation = 'relu',kernel_initializer='he_normal', padding = 'same')(merge9)\n",
        "conv9 = Conv2D(64, 3, activation = 'relu',kernel_initializer='he_normal', padding = 'same')(conv9)\n",
        "\n",
        "conv9 = Conv2D(2, 3, activation = 'relu', kernel_initializer='he_normal',padding = 'same')(conv9)\n",
        "conv10 = Conv2D(1, 1, activation = 'sigmoid')(conv9)\n",
        "     \n",
        "model = Model(inputs=inputs, outputs=conv9)\n",
        "\n",
        "model.compile(optimizer = Adam(learning_rate = 1e-4),\n",
        "              loss = 'binary_crossentropy',\n",
        "              metrics = ['accuracy'])\n",
        "    \n",
        "model.summary()\n",
        "     "
      ],
      "metadata": {
        "colab": {
          "base_uri": "https://localhost:8080/"
        },
        "id": "syuZMp5BG2V_",
        "outputId": "9ec739b5-03bd-4dda-b8e7-0af720b8eb5b"
      },
      "execution_count": 28,
      "outputs": [
        {
          "output_type": "stream",
          "name": "stdout",
          "text": [
            "Model: \"model_1\"\n",
            "__________________________________________________________________________________________________\n",
            " Layer (type)                   Output Shape         Param #     Connected to                     \n",
            "==================================================================================================\n",
            " input_2 (InputLayer)           [(None, 128, 128, 1  0           []                               \n",
            "                                )]                                                                \n",
            "                                                                                                  \n",
            " conv2d_24 (Conv2D)             (None, 128, 128, 64  640         ['input_2[0][0]']                \n",
            "                                )                                                                 \n",
            "                                                                                                  \n",
            " conv2d_25 (Conv2D)             (None, 128, 128, 64  36928       ['conv2d_24[0][0]']              \n",
            "                                )                                                                 \n",
            "                                                                                                  \n",
            " max_pooling2d_4 (MaxPooling2D)  (None, 64, 64, 64)  0           ['conv2d_25[0][0]']              \n",
            "                                                                                                  \n",
            " conv2d_26 (Conv2D)             (None, 64, 64, 128)  73856       ['max_pooling2d_4[0][0]']        \n",
            "                                                                                                  \n",
            " conv2d_27 (Conv2D)             (None, 64, 64, 128)  147584      ['conv2d_26[0][0]']              \n",
            "                                                                                                  \n",
            " max_pooling2d_5 (MaxPooling2D)  (None, 32, 32, 128)  0          ['conv2d_27[0][0]']              \n",
            "                                                                                                  \n",
            " conv2d_28 (Conv2D)             (None, 32, 32, 256)  295168      ['max_pooling2d_5[0][0]']        \n",
            "                                                                                                  \n",
            " conv2d_29 (Conv2D)             (None, 32, 32, 256)  590080      ['conv2d_28[0][0]']              \n",
            "                                                                                                  \n",
            " max_pooling2d_6 (MaxPooling2D)  (None, 16, 16, 256)  0          ['conv2d_29[0][0]']              \n",
            "                                                                                                  \n",
            " conv2d_30 (Conv2D)             (None, 16, 16, 512)  1180160     ['max_pooling2d_6[0][0]']        \n",
            "                                                                                                  \n",
            " conv2d_31 (Conv2D)             (None, 16, 16, 512)  2359808     ['conv2d_30[0][0]']              \n",
            "                                                                                                  \n",
            " max_pooling2d_7 (MaxPooling2D)  (None, 8, 8, 512)   0           ['conv2d_31[0][0]']              \n",
            "                                                                                                  \n",
            " conv2d_32 (Conv2D)             (None, 8, 8, 1024)   4719616     ['max_pooling2d_7[0][0]']        \n",
            "                                                                                                  \n",
            " conv2d_33 (Conv2D)             (None, 8, 8, 1024)   9438208     ['conv2d_32[0][0]']              \n",
            "                                                                                                  \n",
            " dropout_1 (Dropout)            (None, 8, 8, 1024)   0           ['conv2d_33[0][0]']              \n",
            "                                                                                                  \n",
            " up_sampling2d_4 (UpSampling2D)  (None, 16, 16, 1024  0          ['dropout_1[0][0]']              \n",
            "                                )                                                                 \n",
            "                                                                                                  \n",
            " conv2d_34 (Conv2D)             (None, 16, 16, 512)  2097664     ['up_sampling2d_4[0][0]']        \n",
            "                                                                                                  \n",
            " concatenate_4 (Concatenate)    (None, 16, 16, 1024  0           ['conv2d_31[0][0]',              \n",
            "                                )                                 'conv2d_34[0][0]']              \n",
            "                                                                                                  \n",
            " conv2d_35 (Conv2D)             (None, 16, 16, 512)  4719104     ['concatenate_4[0][0]']          \n",
            "                                                                                                  \n",
            " conv2d_36 (Conv2D)             (None, 16, 16, 512)  2359808     ['conv2d_35[0][0]']              \n",
            "                                                                                                  \n",
            " up_sampling2d_5 (UpSampling2D)  (None, 32, 32, 512)  0          ['conv2d_36[0][0]']              \n",
            "                                                                                                  \n",
            " conv2d_37 (Conv2D)             (None, 32, 32, 256)  524544      ['up_sampling2d_5[0][0]']        \n",
            "                                                                                                  \n",
            " concatenate_5 (Concatenate)    (None, 32, 32, 512)  0           ['conv2d_29[0][0]',              \n",
            "                                                                  'conv2d_37[0][0]']              \n",
            "                                                                                                  \n",
            " conv2d_38 (Conv2D)             (None, 32, 32, 256)  1179904     ['concatenate_5[0][0]']          \n",
            "                                                                                                  \n",
            " conv2d_39 (Conv2D)             (None, 32, 32, 256)  590080      ['conv2d_38[0][0]']              \n",
            "                                                                                                  \n",
            " up_sampling2d_6 (UpSampling2D)  (None, 64, 64, 256)  0          ['conv2d_39[0][0]']              \n",
            "                                                                                                  \n",
            " conv2d_40 (Conv2D)             (None, 64, 64, 128)  131200      ['up_sampling2d_6[0][0]']        \n",
            "                                                                                                  \n",
            " concatenate_6 (Concatenate)    (None, 64, 64, 256)  0           ['conv2d_27[0][0]',              \n",
            "                                                                  'conv2d_40[0][0]']              \n",
            "                                                                                                  \n",
            " conv2d_41 (Conv2D)             (None, 64, 64, 128)  295040      ['concatenate_6[0][0]']          \n",
            "                                                                                                  \n",
            " conv2d_42 (Conv2D)             (None, 64, 64, 128)  147584      ['conv2d_41[0][0]']              \n",
            "                                                                                                  \n",
            " up_sampling2d_7 (UpSampling2D)  (None, 128, 128, 12  0          ['conv2d_42[0][0]']              \n",
            "                                8)                                                                \n",
            "                                                                                                  \n",
            " conv2d_43 (Conv2D)             (None, 128, 128, 64  32832       ['up_sampling2d_7[0][0]']        \n",
            "                                )                                                                 \n",
            "                                                                                                  \n",
            " concatenate_7 (Concatenate)    (None, 128, 128, 12  0           ['conv2d_25[0][0]',              \n",
            "                                8)                                'conv2d_43[0][0]']              \n",
            "                                                                                                  \n",
            " conv2d_44 (Conv2D)             (None, 128, 128, 64  73792       ['concatenate_7[0][0]']          \n",
            "                                )                                                                 \n",
            "                                                                                                  \n",
            " conv2d_45 (Conv2D)             (None, 128, 128, 64  36928       ['conv2d_44[0][0]']              \n",
            "                                )                                                                 \n",
            "                                                                                                  \n",
            " conv2d_46 (Conv2D)             (None, 128, 128, 2)  1154        ['conv2d_45[0][0]']              \n",
            "                                                                                                  \n",
            "==================================================================================================\n",
            "Total params: 31,031,682\n",
            "Trainable params: 31,031,682\n",
            "Non-trainable params: 0\n",
            "__________________________________________________________________________________________________\n"
          ]
        }
      ]
    },
    {
      "cell_type": "code",
      "source": [
        "model.fit(x_train, y_train,\n",
        "          epochs=10,\n",
        "          steps_per_epoch=500,\n",
        "          validation_data=(x_test, y_test),\n",
        "          validation_steps=300,\n",
        "          shuffle=True)"
      ],
      "metadata": {
        "colab": {
          "base_uri": "https://localhost:8080/"
        },
        "id": "9D42veQdKEJ_",
        "outputId": "96c4a6ad-5980-4643-db02-4c7275c0febd"
      },
      "execution_count": 29,
      "outputs": [
        {
          "output_type": "stream",
          "name": "stdout",
          "text": [
            "Epoch 1/10\n",
            "169/500 [=========>....................] - ETA: 15s - loss: 0.0813 - accuracy: 0.9665"
          ]
        },
        {
          "output_type": "stream",
          "name": "stderr",
          "text": [
            "WARNING:tensorflow:Your input ran out of data; interrupting training. Make sure that your dataset or generator can generate at least `steps_per_epoch * epochs` batches (in this case, 5000 batches). You may need to use the repeat() function when building your dataset.\n",
            "WARNING:tensorflow:Your input ran out of data; interrupting training. Make sure that your dataset or generator can generate at least `steps_per_epoch * epochs` batches (in this case, 300 batches). You may need to use the repeat() function when building your dataset.\n"
          ]
        },
        {
          "output_type": "stream",
          "name": "stdout",
          "text": [
            "\b\b\b\b\b\b\b\b\b\b\b\b\b\b\b\b\b\b\b\b\b\b\b\b\b\b\b\b\b\b\b\b\b\b\b\b\b\b\b\b\b\b\b\b\b\b\b\b\b\b\b\b\b\b\b\b\b\b\b\b\b\b\b\b\b\b\b\b\b\b\b\b\b\b\b\b\b\b\b\b\b\b\b\b\b\r500/500 [==============================] - 21s 17ms/step - loss: 0.0808 - accuracy: 0.9666 - val_loss: 2.0289e-08 - val_accuracy: 0.9828\n"
          ]
        },
        {
          "output_type": "execute_result",
          "data": {
            "text/plain": [
              "<keras.callbacks.History at 0x7f1c39604a60>"
            ]
          },
          "metadata": {},
          "execution_count": 29
        }
      ]
    },
    {
      "cell_type": "code",
      "source": [
        "model.save('bounding_box.h5')"
      ],
      "metadata": {
        "id": "lckv4EKcMmDV"
      },
      "execution_count": 30,
      "outputs": []
    }
  ]
}