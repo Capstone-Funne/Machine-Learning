{
  "nbformat": 4,
  "nbformat_minor": 0,
  "metadata": {
    "colab": {
      "provenance": []
    },
    "kernelspec": {
      "name": "python3",
      "display_name": "Python 3"
    },
    "language_info": {
      "name": "python"
    }
  },
  "cells": [
    {
      "cell_type": "code",
      "execution_count": 49,
      "metadata": {
        "id": "dORwXXmaDAxd"
      },
      "outputs": [],
      "source": [
        "import pandas as pd\n",
        "import re\n",
        "import numpy as np\n",
        "import os\n",
        "import tensorflow as tf"
      ]
    },
    {
      "cell_type": "code",
      "source": [
        "from google.colab import drive\n",
        "drive.mount('/content/drive')"
      ],
      "metadata": {
        "colab": {
          "base_uri": "https://localhost:8080/"
        },
        "id": "m776RtWtDGlv",
        "outputId": "c0c0d1d8-54bb-4f42-d2d8-80e88c25f960"
      },
      "execution_count": 50,
      "outputs": [
        {
          "output_type": "stream",
          "name": "stdout",
          "text": [
            "Drive already mounted at /content/drive; to attempt to forcibly remount, call drive.mount(\"/content/drive\", force_remount=True).\n"
          ]
        }
      ]
    },
    {
      "cell_type": "code",
      "execution_count": 51,
      "metadata": {
        "colab": {
          "base_uri": "https://localhost:8080/"
        },
        "id": "DUqbjnQQndkA",
        "outputId": "a0ff9345-ce0d-4a53-caed-bf7aa1b9b5ff"
      },
      "outputs": [
        {
          "output_type": "stream",
          "name": "stdout",
          "text": [
            "Looking in indexes: https://pypi.org/simple, https://us-python.pkg.dev/colab-wheels/public/simple/\n",
            "Requirement already satisfied: tensorflow in /usr/local/lib/python3.10/dist-packages (2.12.0)\n",
            "Requirement already satisfied: absl-py>=1.0.0 in /usr/local/lib/python3.10/dist-packages (from tensorflow) (1.4.0)\n",
            "Requirement already satisfied: astunparse>=1.6.0 in /usr/local/lib/python3.10/dist-packages (from tensorflow) (1.6.3)\n",
            "Requirement already satisfied: flatbuffers>=2.0 in /usr/local/lib/python3.10/dist-packages (from tensorflow) (23.3.3)\n",
            "Requirement already satisfied: gast<=0.4.0,>=0.2.1 in /usr/local/lib/python3.10/dist-packages (from tensorflow) (0.4.0)\n",
            "Requirement already satisfied: google-pasta>=0.1.1 in /usr/local/lib/python3.10/dist-packages (from tensorflow) (0.2.0)\n",
            "Requirement already satisfied: grpcio<2.0,>=1.24.3 in /usr/local/lib/python3.10/dist-packages (from tensorflow) (1.54.0)\n",
            "Requirement already satisfied: h5py>=2.9.0 in /usr/local/lib/python3.10/dist-packages (from tensorflow) (3.8.0)\n",
            "Requirement already satisfied: jax>=0.3.15 in /usr/local/lib/python3.10/dist-packages (from tensorflow) (0.4.10)\n",
            "Requirement already satisfied: keras<2.13,>=2.12.0 in /usr/local/lib/python3.10/dist-packages (from tensorflow) (2.12.0)\n",
            "Requirement already satisfied: libclang>=13.0.0 in /usr/local/lib/python3.10/dist-packages (from tensorflow) (16.0.0)\n",
            "Requirement already satisfied: numpy<1.24,>=1.22 in /usr/local/lib/python3.10/dist-packages (from tensorflow) (1.22.4)\n",
            "Requirement already satisfied: opt-einsum>=2.3.2 in /usr/local/lib/python3.10/dist-packages (from tensorflow) (3.3.0)\n",
            "Requirement already satisfied: packaging in /usr/local/lib/python3.10/dist-packages (from tensorflow) (23.1)\n",
            "Requirement already satisfied: protobuf!=4.21.0,!=4.21.1,!=4.21.2,!=4.21.3,!=4.21.4,!=4.21.5,<5.0.0dev,>=3.20.3 in /usr/local/lib/python3.10/dist-packages (from tensorflow) (3.20.3)\n",
            "Requirement already satisfied: setuptools in /usr/local/lib/python3.10/dist-packages (from tensorflow) (67.7.2)\n",
            "Requirement already satisfied: six>=1.12.0 in /usr/local/lib/python3.10/dist-packages (from tensorflow) (1.16.0)\n",
            "Requirement already satisfied: tensorboard<2.13,>=2.12 in /usr/local/lib/python3.10/dist-packages (from tensorflow) (2.12.2)\n",
            "Requirement already satisfied: tensorflow-estimator<2.13,>=2.12.0 in /usr/local/lib/python3.10/dist-packages (from tensorflow) (2.12.0)\n",
            "Requirement already satisfied: termcolor>=1.1.0 in /usr/local/lib/python3.10/dist-packages (from tensorflow) (2.3.0)\n",
            "Requirement already satisfied: typing-extensions>=3.6.6 in /usr/local/lib/python3.10/dist-packages (from tensorflow) (4.5.0)\n",
            "Requirement already satisfied: wrapt<1.15,>=1.11.0 in /usr/local/lib/python3.10/dist-packages (from tensorflow) (1.14.1)\n",
            "Requirement already satisfied: tensorflow-io-gcs-filesystem>=0.23.1 in /usr/local/lib/python3.10/dist-packages (from tensorflow) (0.32.0)\n",
            "Requirement already satisfied: wheel<1.0,>=0.23.0 in /usr/local/lib/python3.10/dist-packages (from astunparse>=1.6.0->tensorflow) (0.40.0)\n",
            "Requirement already satisfied: ml-dtypes>=0.1.0 in /usr/local/lib/python3.10/dist-packages (from jax>=0.3.15->tensorflow) (0.1.0)\n",
            "Requirement already satisfied: scipy>=1.7 in /usr/local/lib/python3.10/dist-packages (from jax>=0.3.15->tensorflow) (1.10.1)\n",
            "Requirement already satisfied: google-auth<3,>=1.6.3 in /usr/local/lib/python3.10/dist-packages (from tensorboard<2.13,>=2.12->tensorflow) (2.17.3)\n",
            "Requirement already satisfied: google-auth-oauthlib<1.1,>=0.5 in /usr/local/lib/python3.10/dist-packages (from tensorboard<2.13,>=2.12->tensorflow) (1.0.0)\n",
            "Requirement already satisfied: markdown>=2.6.8 in /usr/local/lib/python3.10/dist-packages (from tensorboard<2.13,>=2.12->tensorflow) (3.4.3)\n",
            "Requirement already satisfied: requests<3,>=2.21.0 in /usr/local/lib/python3.10/dist-packages (from tensorboard<2.13,>=2.12->tensorflow) (2.27.1)\n",
            "Requirement already satisfied: tensorboard-data-server<0.8.0,>=0.7.0 in /usr/local/lib/python3.10/dist-packages (from tensorboard<2.13,>=2.12->tensorflow) (0.7.0)\n",
            "Requirement already satisfied: tensorboard-plugin-wit>=1.6.0 in /usr/local/lib/python3.10/dist-packages (from tensorboard<2.13,>=2.12->tensorflow) (1.8.1)\n",
            "Requirement already satisfied: werkzeug>=1.0.1 in /usr/local/lib/python3.10/dist-packages (from tensorboard<2.13,>=2.12->tensorflow) (2.3.0)\n",
            "Requirement already satisfied: cachetools<6.0,>=2.0.0 in /usr/local/lib/python3.10/dist-packages (from google-auth<3,>=1.6.3->tensorboard<2.13,>=2.12->tensorflow) (5.3.0)\n",
            "Requirement already satisfied: pyasn1-modules>=0.2.1 in /usr/local/lib/python3.10/dist-packages (from google-auth<3,>=1.6.3->tensorboard<2.13,>=2.12->tensorflow) (0.3.0)\n",
            "Requirement already satisfied: rsa<5,>=3.1.4 in /usr/local/lib/python3.10/dist-packages (from google-auth<3,>=1.6.3->tensorboard<2.13,>=2.12->tensorflow) (4.9)\n",
            "Requirement already satisfied: requests-oauthlib>=0.7.0 in /usr/local/lib/python3.10/dist-packages (from google-auth-oauthlib<1.1,>=0.5->tensorboard<2.13,>=2.12->tensorflow) (1.3.1)\n",
            "Requirement already satisfied: urllib3<1.27,>=1.21.1 in /usr/local/lib/python3.10/dist-packages (from requests<3,>=2.21.0->tensorboard<2.13,>=2.12->tensorflow) (1.26.15)\n",
            "Requirement already satisfied: certifi>=2017.4.17 in /usr/local/lib/python3.10/dist-packages (from requests<3,>=2.21.0->tensorboard<2.13,>=2.12->tensorflow) (2022.12.7)\n",
            "Requirement already satisfied: charset-normalizer~=2.0.0 in /usr/local/lib/python3.10/dist-packages (from requests<3,>=2.21.0->tensorboard<2.13,>=2.12->tensorflow) (2.0.12)\n",
            "Requirement already satisfied: idna<4,>=2.5 in /usr/local/lib/python3.10/dist-packages (from requests<3,>=2.21.0->tensorboard<2.13,>=2.12->tensorflow) (3.4)\n",
            "Requirement already satisfied: MarkupSafe>=2.1.1 in /usr/local/lib/python3.10/dist-packages (from werkzeug>=1.0.1->tensorboard<2.13,>=2.12->tensorflow) (2.1.2)\n",
            "Requirement already satisfied: pyasn1<0.6.0,>=0.4.6 in /usr/local/lib/python3.10/dist-packages (from pyasn1-modules>=0.2.1->google-auth<3,>=1.6.3->tensorboard<2.13,>=2.12->tensorflow) (0.5.0)\n",
            "Requirement already satisfied: oauthlib>=3.0.0 in /usr/local/lib/python3.10/dist-packages (from requests-oauthlib>=0.7.0->google-auth-oauthlib<1.1,>=0.5->tensorboard<2.13,>=2.12->tensorflow) (3.2.2)\n"
          ]
        }
      ],
      "source": [
        "!pip install tensorflow"
      ]
    },
    {
      "cell_type": "code",
      "source": [
        "# Read the CSV file v0.1 intg clean data.csv \n",
        "df = pd.read_csv('/content/drive/MyDrive/CAPSTONE PROJECT BANGKIT/Dataset Sentiment Analysis.csv')\n",
        "df.head()"
      ],
      "metadata": {
        "colab": {
          "base_uri": "https://localhost:8080/",
          "height": 206
        },
        "id": "EWhLFb6iDUEN",
        "outputId": "6b76585d-70db-40fa-bdc4-31ef9d275aec"
      },
      "execution_count": 52,
      "outputs": [
        {
          "output_type": "execute_result",
          "data": {
            "text/plain": [
              "   Label              Ingredients\n",
              "0      0  Algae (Seaweed) Extract\n",
              "1      0              Mineral Oil\n",
              "2      0               Petrolatum\n",
              "3      0                 Glycerin\n",
              "4      0            Isohexadecane"
            ],
            "text/html": [
              "\n",
              "  <div id=\"df-653f9746-6d01-4399-8efc-7f4fdf0fda50\">\n",
              "    <div class=\"colab-df-container\">\n",
              "      <div>\n",
              "<style scoped>\n",
              "    .dataframe tbody tr th:only-of-type {\n",
              "        vertical-align: middle;\n",
              "    }\n",
              "\n",
              "    .dataframe tbody tr th {\n",
              "        vertical-align: top;\n",
              "    }\n",
              "\n",
              "    .dataframe thead th {\n",
              "        text-align: right;\n",
              "    }\n",
              "</style>\n",
              "<table border=\"1\" class=\"dataframe\">\n",
              "  <thead>\n",
              "    <tr style=\"text-align: right;\">\n",
              "      <th></th>\n",
              "      <th>Label</th>\n",
              "      <th>Ingredients</th>\n",
              "    </tr>\n",
              "  </thead>\n",
              "  <tbody>\n",
              "    <tr>\n",
              "      <th>0</th>\n",
              "      <td>0</td>\n",
              "      <td>Algae (Seaweed) Extract</td>\n",
              "    </tr>\n",
              "    <tr>\n",
              "      <th>1</th>\n",
              "      <td>0</td>\n",
              "      <td>Mineral Oil</td>\n",
              "    </tr>\n",
              "    <tr>\n",
              "      <th>2</th>\n",
              "      <td>0</td>\n",
              "      <td>Petrolatum</td>\n",
              "    </tr>\n",
              "    <tr>\n",
              "      <th>3</th>\n",
              "      <td>0</td>\n",
              "      <td>Glycerin</td>\n",
              "    </tr>\n",
              "    <tr>\n",
              "      <th>4</th>\n",
              "      <td>0</td>\n",
              "      <td>Isohexadecane</td>\n",
              "    </tr>\n",
              "  </tbody>\n",
              "</table>\n",
              "</div>\n",
              "      <button class=\"colab-df-convert\" onclick=\"convertToInteractive('df-653f9746-6d01-4399-8efc-7f4fdf0fda50')\"\n",
              "              title=\"Convert this dataframe to an interactive table.\"\n",
              "              style=\"display:none;\">\n",
              "        \n",
              "  <svg xmlns=\"http://www.w3.org/2000/svg\" height=\"24px\"viewBox=\"0 0 24 24\"\n",
              "       width=\"24px\">\n",
              "    <path d=\"M0 0h24v24H0V0z\" fill=\"none\"/>\n",
              "    <path d=\"M18.56 5.44l.94 2.06.94-2.06 2.06-.94-2.06-.94-.94-2.06-.94 2.06-2.06.94zm-11 1L8.5 8.5l.94-2.06 2.06-.94-2.06-.94L8.5 2.5l-.94 2.06-2.06.94zm10 10l.94 2.06.94-2.06 2.06-.94-2.06-.94-.94-2.06-.94 2.06-2.06.94z\"/><path d=\"M17.41 7.96l-1.37-1.37c-.4-.4-.92-.59-1.43-.59-.52 0-1.04.2-1.43.59L10.3 9.45l-7.72 7.72c-.78.78-.78 2.05 0 2.83L4 21.41c.39.39.9.59 1.41.59.51 0 1.02-.2 1.41-.59l7.78-7.78 2.81-2.81c.8-.78.8-2.07 0-2.86zM5.41 20L4 18.59l7.72-7.72 1.47 1.35L5.41 20z\"/>\n",
              "  </svg>\n",
              "      </button>\n",
              "      \n",
              "  <style>\n",
              "    .colab-df-container {\n",
              "      display:flex;\n",
              "      flex-wrap:wrap;\n",
              "      gap: 12px;\n",
              "    }\n",
              "\n",
              "    .colab-df-convert {\n",
              "      background-color: #E8F0FE;\n",
              "      border: none;\n",
              "      border-radius: 50%;\n",
              "      cursor: pointer;\n",
              "      display: none;\n",
              "      fill: #1967D2;\n",
              "      height: 32px;\n",
              "      padding: 0 0 0 0;\n",
              "      width: 32px;\n",
              "    }\n",
              "\n",
              "    .colab-df-convert:hover {\n",
              "      background-color: #E2EBFA;\n",
              "      box-shadow: 0px 1px 2px rgba(60, 64, 67, 0.3), 0px 1px 3px 1px rgba(60, 64, 67, 0.15);\n",
              "      fill: #174EA6;\n",
              "    }\n",
              "\n",
              "    [theme=dark] .colab-df-convert {\n",
              "      background-color: #3B4455;\n",
              "      fill: #D2E3FC;\n",
              "    }\n",
              "\n",
              "    [theme=dark] .colab-df-convert:hover {\n",
              "      background-color: #434B5C;\n",
              "      box-shadow: 0px 1px 3px 1px rgba(0, 0, 0, 0.15);\n",
              "      filter: drop-shadow(0px 1px 2px rgba(0, 0, 0, 0.3));\n",
              "      fill: #FFFFFF;\n",
              "    }\n",
              "  </style>\n",
              "\n",
              "      <script>\n",
              "        const buttonEl =\n",
              "          document.querySelector('#df-653f9746-6d01-4399-8efc-7f4fdf0fda50 button.colab-df-convert');\n",
              "        buttonEl.style.display =\n",
              "          google.colab.kernel.accessAllowed ? 'block' : 'none';\n",
              "\n",
              "        async function convertToInteractive(key) {\n",
              "          const element = document.querySelector('#df-653f9746-6d01-4399-8efc-7f4fdf0fda50');\n",
              "          const dataTable =\n",
              "            await google.colab.kernel.invokeFunction('convertToInteractive',\n",
              "                                                     [key], {});\n",
              "          if (!dataTable) return;\n",
              "\n",
              "          const docLinkHtml = 'Like what you see? Visit the ' +\n",
              "            '<a target=\"_blank\" href=https://colab.research.google.com/notebooks/data_table.ipynb>data table notebook</a>'\n",
              "            + ' to learn more about interactive tables.';\n",
              "          element.innerHTML = '';\n",
              "          dataTable['output_type'] = 'display_data';\n",
              "          await google.colab.output.renderOutput(dataTable, element);\n",
              "          const docLink = document.createElement('div');\n",
              "          docLink.innerHTML = docLinkHtml;\n",
              "          element.appendChild(docLink);\n",
              "        }\n",
              "      </script>\n",
              "    </div>\n",
              "  </div>\n",
              "  "
            ]
          },
          "metadata": {},
          "execution_count": 52
        }
      ]
    },
    {
      "cell_type": "code",
      "execution_count": 53,
      "metadata": {
        "colab": {
          "base_uri": "https://localhost:8080/",
          "height": 81
        },
        "id": "wZ0q6vhopXgL",
        "outputId": "be300617-899b-4359-a8e5-cc0ac149f496"
      },
      "outputs": [
        {
          "output_type": "execute_result",
          "data": {
            "text/plain": [
              "   Label              Ingredients\n",
              "0      0  Algae (Seaweed) Extract"
            ],
            "text/html": [
              "\n",
              "  <div id=\"df-435d9bb6-8a68-4e1f-86c9-041a5bfd46a0\">\n",
              "    <div class=\"colab-df-container\">\n",
              "      <div>\n",
              "<style scoped>\n",
              "    .dataframe tbody tr th:only-of-type {\n",
              "        vertical-align: middle;\n",
              "    }\n",
              "\n",
              "    .dataframe tbody tr th {\n",
              "        vertical-align: top;\n",
              "    }\n",
              "\n",
              "    .dataframe thead th {\n",
              "        text-align: right;\n",
              "    }\n",
              "</style>\n",
              "<table border=\"1\" class=\"dataframe\">\n",
              "  <thead>\n",
              "    <tr style=\"text-align: right;\">\n",
              "      <th></th>\n",
              "      <th>Label</th>\n",
              "      <th>Ingredients</th>\n",
              "    </tr>\n",
              "  </thead>\n",
              "  <tbody>\n",
              "    <tr>\n",
              "      <th>0</th>\n",
              "      <td>0</td>\n",
              "      <td>Algae (Seaweed) Extract</td>\n",
              "    </tr>\n",
              "  </tbody>\n",
              "</table>\n",
              "</div>\n",
              "      <button class=\"colab-df-convert\" onclick=\"convertToInteractive('df-435d9bb6-8a68-4e1f-86c9-041a5bfd46a0')\"\n",
              "              title=\"Convert this dataframe to an interactive table.\"\n",
              "              style=\"display:none;\">\n",
              "        \n",
              "  <svg xmlns=\"http://www.w3.org/2000/svg\" height=\"24px\"viewBox=\"0 0 24 24\"\n",
              "       width=\"24px\">\n",
              "    <path d=\"M0 0h24v24H0V0z\" fill=\"none\"/>\n",
              "    <path d=\"M18.56 5.44l.94 2.06.94-2.06 2.06-.94-2.06-.94-.94-2.06-.94 2.06-2.06.94zm-11 1L8.5 8.5l.94-2.06 2.06-.94-2.06-.94L8.5 2.5l-.94 2.06-2.06.94zm10 10l.94 2.06.94-2.06 2.06-.94-2.06-.94-.94-2.06-.94 2.06-2.06.94z\"/><path d=\"M17.41 7.96l-1.37-1.37c-.4-.4-.92-.59-1.43-.59-.52 0-1.04.2-1.43.59L10.3 9.45l-7.72 7.72c-.78.78-.78 2.05 0 2.83L4 21.41c.39.39.9.59 1.41.59.51 0 1.02-.2 1.41-.59l7.78-7.78 2.81-2.81c.8-.78.8-2.07 0-2.86zM5.41 20L4 18.59l7.72-7.72 1.47 1.35L5.41 20z\"/>\n",
              "  </svg>\n",
              "      </button>\n",
              "      \n",
              "  <style>\n",
              "    .colab-df-container {\n",
              "      display:flex;\n",
              "      flex-wrap:wrap;\n",
              "      gap: 12px;\n",
              "    }\n",
              "\n",
              "    .colab-df-convert {\n",
              "      background-color: #E8F0FE;\n",
              "      border: none;\n",
              "      border-radius: 50%;\n",
              "      cursor: pointer;\n",
              "      display: none;\n",
              "      fill: #1967D2;\n",
              "      height: 32px;\n",
              "      padding: 0 0 0 0;\n",
              "      width: 32px;\n",
              "    }\n",
              "\n",
              "    .colab-df-convert:hover {\n",
              "      background-color: #E2EBFA;\n",
              "      box-shadow: 0px 1px 2px rgba(60, 64, 67, 0.3), 0px 1px 3px 1px rgba(60, 64, 67, 0.15);\n",
              "      fill: #174EA6;\n",
              "    }\n",
              "\n",
              "    [theme=dark] .colab-df-convert {\n",
              "      background-color: #3B4455;\n",
              "      fill: #D2E3FC;\n",
              "    }\n",
              "\n",
              "    [theme=dark] .colab-df-convert:hover {\n",
              "      background-color: #434B5C;\n",
              "      box-shadow: 0px 1px 3px 1px rgba(0, 0, 0, 0.15);\n",
              "      filter: drop-shadow(0px 1px 2px rgba(0, 0, 0, 0.3));\n",
              "      fill: #FFFFFF;\n",
              "    }\n",
              "  </style>\n",
              "\n",
              "      <script>\n",
              "        const buttonEl =\n",
              "          document.querySelector('#df-435d9bb6-8a68-4e1f-86c9-041a5bfd46a0 button.colab-df-convert');\n",
              "        buttonEl.style.display =\n",
              "          google.colab.kernel.accessAllowed ? 'block' : 'none';\n",
              "\n",
              "        async function convertToInteractive(key) {\n",
              "          const element = document.querySelector('#df-435d9bb6-8a68-4e1f-86c9-041a5bfd46a0');\n",
              "          const dataTable =\n",
              "            await google.colab.kernel.invokeFunction('convertToInteractive',\n",
              "                                                     [key], {});\n",
              "          if (!dataTable) return;\n",
              "\n",
              "          const docLinkHtml = 'Like what you see? Visit the ' +\n",
              "            '<a target=\"_blank\" href=https://colab.research.google.com/notebooks/data_table.ipynb>data table notebook</a>'\n",
              "            + ' to learn more about interactive tables.';\n",
              "          element.innerHTML = '';\n",
              "          dataTable['output_type'] = 'display_data';\n",
              "          await google.colab.output.renderOutput(dataTable, element);\n",
              "          const docLink = document.createElement('div');\n",
              "          docLink.innerHTML = docLinkHtml;\n",
              "          element.appendChild(docLink);\n",
              "        }\n",
              "      </script>\n",
              "    </div>\n",
              "  </div>\n",
              "  "
            ]
          },
          "metadata": {},
          "execution_count": 53
        }
      ],
      "source": [
        "# Select the first row of the DataFrame using iloc\n",
        "df.iloc[0:1,]"
      ]
    },
    {
      "cell_type": "code",
      "execution_count": 54,
      "metadata": {
        "colab": {
          "base_uri": "https://localhost:8080/",
          "height": 35
        },
        "id": "mzx9JZ8xp8AK",
        "outputId": "253356cb-6da9-4b64-cac0-dcf755731f66"
      },
      "outputs": [
        {
          "output_type": "execute_result",
          "data": {
            "text/plain": [
              "'Algae (Seaweed) Extract'"
            ],
            "application/vnd.google.colaboratory.intrinsic+json": {
              "type": "string"
            }
          },
          "metadata": {},
          "execution_count": 54
        }
      ],
      "source": [
        "# Retrieve the value in the 'Ingredients' column of the first row using iloc\n",
        "df.iloc[0]['Ingredients']"
      ]
    },
    {
      "cell_type": "code",
      "execution_count": 55,
      "metadata": {
        "colab": {
          "base_uri": "https://localhost:8080/",
          "height": 143
        },
        "id": "A-wjQZtcp8Hn",
        "outputId": "8a8da013-d640-4a4d-cdda-7d70416460e6"
      },
      "outputs": [
        {
          "output_type": "execute_result",
          "data": {
            "text/plain": [
              "   Label\n",
              "0      0\n",
              "1      0\n",
              "2      0"
            ],
            "text/html": [
              "\n",
              "  <div id=\"df-317f49f3-4af5-452e-b6b8-834fedb14603\">\n",
              "    <div class=\"colab-df-container\">\n",
              "      <div>\n",
              "<style scoped>\n",
              "    .dataframe tbody tr th:only-of-type {\n",
              "        vertical-align: middle;\n",
              "    }\n",
              "\n",
              "    .dataframe tbody tr th {\n",
              "        vertical-align: top;\n",
              "    }\n",
              "\n",
              "    .dataframe thead th {\n",
              "        text-align: right;\n",
              "    }\n",
              "</style>\n",
              "<table border=\"1\" class=\"dataframe\">\n",
              "  <thead>\n",
              "    <tr style=\"text-align: right;\">\n",
              "      <th></th>\n",
              "      <th>Label</th>\n",
              "    </tr>\n",
              "  </thead>\n",
              "  <tbody>\n",
              "    <tr>\n",
              "      <th>0</th>\n",
              "      <td>0</td>\n",
              "    </tr>\n",
              "    <tr>\n",
              "      <th>1</th>\n",
              "      <td>0</td>\n",
              "    </tr>\n",
              "    <tr>\n",
              "      <th>2</th>\n",
              "      <td>0</td>\n",
              "    </tr>\n",
              "  </tbody>\n",
              "</table>\n",
              "</div>\n",
              "      <button class=\"colab-df-convert\" onclick=\"convertToInteractive('df-317f49f3-4af5-452e-b6b8-834fedb14603')\"\n",
              "              title=\"Convert this dataframe to an interactive table.\"\n",
              "              style=\"display:none;\">\n",
              "        \n",
              "  <svg xmlns=\"http://www.w3.org/2000/svg\" height=\"24px\"viewBox=\"0 0 24 24\"\n",
              "       width=\"24px\">\n",
              "    <path d=\"M0 0h24v24H0V0z\" fill=\"none\"/>\n",
              "    <path d=\"M18.56 5.44l.94 2.06.94-2.06 2.06-.94-2.06-.94-.94-2.06-.94 2.06-2.06.94zm-11 1L8.5 8.5l.94-2.06 2.06-.94-2.06-.94L8.5 2.5l-.94 2.06-2.06.94zm10 10l.94 2.06.94-2.06 2.06-.94-2.06-.94-.94-2.06-.94 2.06-2.06.94z\"/><path d=\"M17.41 7.96l-1.37-1.37c-.4-.4-.92-.59-1.43-.59-.52 0-1.04.2-1.43.59L10.3 9.45l-7.72 7.72c-.78.78-.78 2.05 0 2.83L4 21.41c.39.39.9.59 1.41.59.51 0 1.02-.2 1.41-.59l7.78-7.78 2.81-2.81c.8-.78.8-2.07 0-2.86zM5.41 20L4 18.59l7.72-7.72 1.47 1.35L5.41 20z\"/>\n",
              "  </svg>\n",
              "      </button>\n",
              "      \n",
              "  <style>\n",
              "    .colab-df-container {\n",
              "      display:flex;\n",
              "      flex-wrap:wrap;\n",
              "      gap: 12px;\n",
              "    }\n",
              "\n",
              "    .colab-df-convert {\n",
              "      background-color: #E8F0FE;\n",
              "      border: none;\n",
              "      border-radius: 50%;\n",
              "      cursor: pointer;\n",
              "      display: none;\n",
              "      fill: #1967D2;\n",
              "      height: 32px;\n",
              "      padding: 0 0 0 0;\n",
              "      width: 32px;\n",
              "    }\n",
              "\n",
              "    .colab-df-convert:hover {\n",
              "      background-color: #E2EBFA;\n",
              "      box-shadow: 0px 1px 2px rgba(60, 64, 67, 0.3), 0px 1px 3px 1px rgba(60, 64, 67, 0.15);\n",
              "      fill: #174EA6;\n",
              "    }\n",
              "\n",
              "    [theme=dark] .colab-df-convert {\n",
              "      background-color: #3B4455;\n",
              "      fill: #D2E3FC;\n",
              "    }\n",
              "\n",
              "    [theme=dark] .colab-df-convert:hover {\n",
              "      background-color: #434B5C;\n",
              "      box-shadow: 0px 1px 3px 1px rgba(0, 0, 0, 0.15);\n",
              "      filter: drop-shadow(0px 1px 2px rgba(0, 0, 0, 0.3));\n",
              "      fill: #FFFFFF;\n",
              "    }\n",
              "  </style>\n",
              "\n",
              "      <script>\n",
              "        const buttonEl =\n",
              "          document.querySelector('#df-317f49f3-4af5-452e-b6b8-834fedb14603 button.colab-df-convert');\n",
              "        buttonEl.style.display =\n",
              "          google.colab.kernel.accessAllowed ? 'block' : 'none';\n",
              "\n",
              "        async function convertToInteractive(key) {\n",
              "          const element = document.querySelector('#df-317f49f3-4af5-452e-b6b8-834fedb14603');\n",
              "          const dataTable =\n",
              "            await google.colab.kernel.invokeFunction('convertToInteractive',\n",
              "                                                     [key], {});\n",
              "          if (!dataTable) return;\n",
              "\n",
              "          const docLinkHtml = 'Like what you see? Visit the ' +\n",
              "            '<a target=\"_blank\" href=https://colab.research.google.com/notebooks/data_table.ipynb>data table notebook</a>'\n",
              "            + ' to learn more about interactive tables.';\n",
              "          element.innerHTML = '';\n",
              "          dataTable['output_type'] = 'display_data';\n",
              "          await google.colab.output.renderOutput(dataTable, element);\n",
              "          const docLink = document.createElement('div');\n",
              "          docLink.innerHTML = docLinkHtml;\n",
              "          element.appendChild(docLink);\n",
              "        }\n",
              "      </script>\n",
              "    </div>\n",
              "  </div>\n",
              "  "
            ]
          },
          "metadata": {},
          "execution_count": 55
        }
      ],
      "source": [
        "# Select the first three rows from the first column of the DataFrame using iloc\n",
        "df[df.columns[:1]].iloc[0:3]"
      ]
    },
    {
      "cell_type": "code",
      "execution_count": 56,
      "metadata": {
        "id": "Dq_tusNErBMl",
        "colab": {
          "base_uri": "https://localhost:8080/"
        },
        "outputId": "8d02f2e3-80db-43a7-c2d2-4a5e0afdc2fe"
      },
      "outputs": [
        {
          "output_type": "execute_result",
          "data": {
            "text/plain": [
              "0              Algae (Seaweed) Extract\n",
              "1                          Mineral Oil\n",
              "2                           Petrolatum\n",
              "3                             Glycerin\n",
              "4                        Isohexadecane\n",
              "                    ...               \n",
              "709                      Succinoglycan\n",
              "710        Salicornia Herbacea Extract\n",
              "711    Disodium Adenosine Triphosphate\n",
              "712           Sodium Hexametaphosphate\n",
              "713             Octyl Methoxycinnamate\n",
              "Name: Ingredients, Length: 714, dtype: object"
            ]
          },
          "metadata": {},
          "execution_count": 56
        }
      ],
      "source": [
        "# from tensorflow.keras.layers import TextVectorization\n",
        "a = df['Ingredients']\n",
        "b = df[df.columns[:1]].values\n",
        "\n",
        "a\n"
      ]
    },
    {
      "cell_type": "code",
      "execution_count": 57,
      "metadata": {
        "colab": {
          "base_uri": "https://localhost:8080/"
        },
        "id": "rxyFhcoFsUau",
        "outputId": "214133fd-4235-496d-f009-3f6cfb52d990"
      },
      "outputs": [
        {
          "output_type": "execute_result",
          "data": {
            "text/plain": [
              "Index(['Label', 'Ingredients'], dtype='object')"
            ]
          },
          "metadata": {},
          "execution_count": 57
        }
      ],
      "source": [
        "df.columns"
      ]
    },
    {
      "cell_type": "code",
      "execution_count": 58,
      "metadata": {
        "colab": {
          "base_uri": "https://localhost:8080/"
        },
        "id": "LMaSP3T3lnlW",
        "outputId": "10b6949a-07aa-4b01-f6ad-d8a8273517a2"
      },
      "outputs": [
        {
          "output_type": "execute_result",
          "data": {
            "text/plain": [
              "Label           int64\n",
              "Ingredients    object\n",
              "dtype: object"
            ]
          },
          "metadata": {},
          "execution_count": 58
        }
      ],
      "source": [
        "df.dtypes"
      ]
    },
    {
      "cell_type": "code",
      "execution_count": 59,
      "metadata": {
        "colab": {
          "base_uri": "https://localhost:8080/"
        },
        "id": "iy9U7wunv4mm",
        "outputId": "5708905a-9441-4386-8790-cd58db8979f8"
      },
      "outputs": [
        {
          "output_type": "execute_result",
          "data": {
            "text/plain": [
              "0    algae (seaweed) extract\n",
              "1                mineral oil\n",
              "2                 petrolatum\n",
              "3                   glycerin\n",
              "4              isohexadecane\n",
              "Name: Ingredients, dtype: object"
            ]
          },
          "metadata": {},
          "execution_count": 59
        }
      ],
      "source": [
        "def proses_data(text):\n",
        "    newText = text.lower() # Convert the text to lowercase\n",
        "    return newText\n",
        "\n",
        "data = df['Ingredients']\n",
        "data = data.apply(lambda x: proses_data(x)) # Apply the 'proses_data' function to each element in the 'Ingredients' column using lambda\n",
        "data.head()"
      ]
    },
    {
      "cell_type": "code",
      "execution_count": 60,
      "metadata": {
        "colab": {
          "base_uri": "https://localhost:8080/"
        },
        "id": "XfmUJYzOwV4u",
        "outputId": "a25de4fe-c222-4a87-8cb8-372fc7051738"
      },
      "outputs": [
        {
          "output_type": "execute_result",
          "data": {
            "text/plain": [
              "614                    faex  yeast extract \n",
              "615                hydrolyzed yeast extract\n",
              "616    yeast extract faex extrait de levure\n",
              "617                              isoleucine\n",
              "618                               threonine\n",
              "                       ...                 \n",
              "709                           succinoglycan\n",
              "710             salicornia herbacea extract\n",
              "711         disodium adenosine triphosphate\n",
              "712                sodium hexametaphosphate\n",
              "713                  octyl methoxycinnamate\n",
              "Name: Ingredients, Length: 100, dtype: object"
            ]
          },
          "metadata": {},
          "execution_count": 60
        }
      ],
      "source": [
        "def link_remover(text):\n",
        "    url_regex = re.compile(r'(http|ftp|https)://([\\w_-]+(?:(?:\\.[\\w_-]+)+))([\\w.,@?^=%&:/~+#-]*[\\w@?^=%&/~+#-])?')\n",
        "    return url_regex.sub('', text)\n",
        "data = data.apply(lambda x: link_remover(x))\n",
        "\n",
        "# Replace special characters (non-alphanumeric and non-whitespace) with a space\n",
        "def karakter_spesial(text):\n",
        "    newText = re.sub('[^\\w\\s]', ' ', text)\n",
        "    return newText\n",
        "data = data.apply(lambda x: karakter_spesial(x))\n",
        "\n",
        "# Remove excessive whitespaces\n",
        "def Spasi_berlebihan(text):  \n",
        "    newText = re.sub('\\s+', '', text)\n",
        "    newText = re.sub('^\\s+', '', text)\n",
        "    return newText\n",
        "data = data.apply(lambda x: Spasi_berlebihan(x))\n",
        "\n",
        "\n",
        "# Display the last 100 rows of the processed 'data' column\n",
        "data.tail(100)"
      ]
    },
    {
      "cell_type": "code",
      "execution_count": 61,
      "metadata": {
        "id": "up3VC08bsqw2"
      },
      "outputs": [],
      "source": [
        "# Maximum number of unique words to consider in the text data\n",
        "MAX_WORD = 20000\n",
        "\n",
        "# Maximum length of a sequence or sentence to be used in analysis or modeling\n",
        "MAX_SEQ = 1000"
      ]
    },
    {
      "cell_type": "code",
      "execution_count": 62,
      "metadata": {
        "id": "ggRxEsjMtYOQ",
        "colab": {
          "base_uri": "https://localhost:8080/"
        },
        "outputId": "3d7bebb2-3009-4213-8629-ad3d54bc639e"
      },
      "outputs": [
        {
          "output_type": "execute_result",
          "data": {
            "text/plain": [
              "<keras.layers.preprocessing.text_vectorization.TextVectorization at 0x7f9337723fa0>"
            ]
          },
          "metadata": {},
          "execution_count": 62
        }
      ],
      "source": [
        "from tensorflow.keras.layers import TextVectorization\n",
        "\n",
        "# Create a TextVectorization layer with specified parameters\n",
        "data = TextVectorization(max_tokens=MAX_WORD, output_sequence_length=1000, output_mode='int')\n",
        "data"
      ]
    },
    {
      "cell_type": "code",
      "execution_count": 63,
      "metadata": {
        "id": "r7_tXY0uttbD",
        "colab": {
          "base_uri": "https://localhost:8080/"
        },
        "outputId": "1c06d559-a723-4d5f-a605-c285b589cd27"
      },
      "outputs": [
        {
          "output_type": "execute_result",
          "data": {
            "text/plain": [
              "array(['Algae (Seaweed) Extract', 'Mineral Oil', 'Petrolatum', 'Glycerin',\n",
              "       'Isohexadecane', 'Microcrystalline Wax', 'Lanolin Alcohol',\n",
              "       'Citrus Aurantifolia (Lime) Extract',\n",
              "       'Sesamum Indicum (Sesame) Seed Oil',\n",
              "       'Eucalyptus Globulus (Eucalyptus) Leaf Oil',\n",
              "       'Sesamum Indicum (Sesame) Seed Powder',\n",
              "       'Medicago Sativa (Alfalfa) Seed Powder',\n",
              "       'Helianthus Annuus (Sunflower) Seedcake', 'Sodium Gluconate',\n",
              "       'Copper Gluconate', 'Calcium Gluconate', 'Magnesium Gluconate',\n",
              "       'Zinc Gluconate', 'Magnesium Sulfate', '1,2-Hexanediol',\n",
              "       'Acetyl Glucosamine', 'Acetyl Glutamine', 'Acetyl Heptapeptide-9',\n",
              "       'Acetyl Methionine', 'Acrylates Copolymer', 'Adenosine',\n",
              "       'Alchemilla Vulgaris Leaf Extract', 'Alcohol Denat',\n",
              "       'Algae Extract', 'Allantoin', 'Aloe Barbadensis Flower Extract',\n",
              "       'Aloe Vera', 'Alpha-Glucan Oligosaccharide',\n",
              "       'Althaea Rosea Flower Extract', 'Alumina', 'Aminomethyl Propanol',\n",
              "       'Ammonium Lauryl Sulfate', 'Amodimethicone', 'Anhydroxylitol',\n",
              "       'Anthemis Nobilis Flower Extract', 'Arginine',\n",
              "       'Ascorbyl Glucoside', 'Aspalathus Linearis Extract',\n",
              "       'Aspartic Acid', 'Barley (Hordeum Vulgare) Seed Extract',\n",
              "       'Bentonite', 'Benzalkonium Chloride', 'Benzoic Acid',\n",
              "       'Benzophenone-4', 'Beta-Glucan', 'Betaine Salicylate', 'BHT',\n",
              "       'Bisabolol', 'Borago Officinalis Extract', 'Butylene Glycol',\n",
              "       'Butylphenyl Methylpropional', 'C12-15 Alkyl Benzoate',\n",
              "       'Calcium Chloride', 'Calendula Officinalis Flower Extract',\n",
              "       'Capryloyl Salicylic Acid', 'Caprylyl Glucoside',\n",
              "       'Caprylyl Glycol', 'Caprylyl Methicone', 'Caramel', 'Carbomer',\n",
              "       'Carnosine', 'Carrageenan', 'Centaurea Cyanus Flower Water',\n",
              "       'Centella Asiatica (Gotu Kola) Extract', 'Cetrimonium Bromide',\n",
              "       'Cetyl Alcohol', 'Cetyl Phosphate', 'Charcoal Powder',\n",
              "       'Chlorella Vulgaris Extract', 'Chlorhexidine Digluconate',\n",
              "       'Chlorphenesin', 'Chlorphenesin', 'Cinnamomum Zeylanicum Bark Oil',\n",
              "       'Citral', 'Citric Acid', 'Citronellol',\n",
              "       'Citrus Aurantium Dulcis (Orange) Oil', 'Cocamidopropyl Betaine',\n",
              "       'Cocamidopropyl Hydroxysultaine', 'Coccinia Indica Fruit Extract',\n",
              "       'Coco-Glucoside', 'Colloidal Gold', 'Copper Gluconate',\n",
              "       'Copper Tripeptide-1', 'Cucumis Sativus Fruit Extract', 'Curcumin',\n",
              "       'Cyclodextrin', 'Cyclohexasiloxane', 'Dead Sea Salt',\n",
              "       'Decyl Glucoside', 'Dehydroacetic Acid', 'Dibutyl Adipate',\n",
              "       'Dimethicone Crosspolymer', 'Dimethyl Sulfone',\n",
              "       'Dipotassium Glycyrrhizate', 'Dipotassium Phosphate',\n",
              "       'Dipropylene Glycol', 'Disodium Cocoamphodiacetate',\n",
              "       'Disodium Cocoyl Glutamate', 'Disodium EDTA',\n",
              "       'Disodium Laureth Sulfosuccinate',\n",
              "       'Echinacea Purpurea Root Extract', 'Ectoin', 'Ergothioneine',\n",
              "       'Ethoxydiglycol', 'Ethyl Hexanediol', 'Ethylhexylglycerin',\n",
              "       'Evodia Rutaecarpa Fruit Extract', 'Farnesol', 'Ferulic Acid',\n",
              "       'Fragrance', 'Fructooligosaccharides', 'Galactoarabinan',\n",
              "       'Ginkgo Biloba Nut Extract', 'Gluconolactone', 'Glutamic Acid',\n",
              "       'Glycerin', 'Glycolic Acid', 'Glycosyl Trehalose', 'Guar Gum',\n",
              "       'Hamamelis Virginiana', 'Hexyl Cinnamal', 'Hexylene Glycol',\n",
              "       'Honey Extract', 'Hyaluronic Acid', 'Hydrolyzed Collagen',\n",
              "       'Hydrolyzed Corn Starch', 'Hydrolyzed Hyaluronic Acid',\n",
              "       'Hydrolyzed Quinoa', 'Hydrolyzed Rhodophyceae Extract',\n",
              "       'Hydrolyzed Sodium Hyaluronate', 'Hydroxypropylcellulose',\n",
              "       'Iron Oxides', 'Isatis Tinctoria Leaf Extract', 'Isododecane',\n",
              "       'Isohexadecane', 'Juniperus Virginiana Oil', 'Kaolin',\n",
              "       'Laminaria Digitata Extract', 'Laminaria Saccharina Extract',\n",
              "       'Lauramidopropyl Betaine', 'Laureth-23', 'Lauryl Betaine',\n",
              "       'Lauryl Glucoside', 'Lauryl Hydroxysultaine',\n",
              "       'Lavandula Angustifolia (Lavender) Oil',\n",
              "       'Lavandula Hybrida Abrial Herb Oil', 'Lecithin', 'Levulinic Acid',\n",
              "       'Limonene', 'Limonia Acidissima Extract', 'Linalool', 'Lysine HCL',\n",
              "       'Madecassoside', 'Magnesium Aspartate', 'Maltodextrin',\n",
              "       'Maltooligosyl Glucoside', 'Menthol', 'Methyl Gluceth-20',\n",
              "       'Methyl Methacrylate Crosspolymer', 'Methylisothiazolinone',\n",
              "       'Methylpropanediol', 'Microcitrus Australasica Fruit Extract',\n",
              "       'Microcrystalline Cellulose', 'Morus Alba Fruit Extract',\n",
              "       'Myrciaria Dubia Fruit Extract', 'Myrtrimonium Bromide',\n",
              "       'Naringenin', 'Natto Gum', 'Niacinamide', 'Nylon-12',\n",
              "       'Nymphaea Caerulea Flower Water', 'Ocimum Sanctum Leaf Extract',\n",
              "       'Octocrylene', 'Opuntia Coccinellifera Fruit Extract',\n",
              "       'Origanum Vulgare Leaf Oil', 'Panthenol', 'Panthenyl Triacetate',\n",
              "       'Pantolactone', 'Pearl Powder', 'Pelargonium Graveolens Oil',\n",
              "       'Phellodendron Amurense Bark Extract', 'Phenoxyethanol',\n",
              "       'Phosphatidylcholine', 'Phytic Acid', 'Pogostemon Cablin Leaf Oil',\n",
              "       'Poloxamer 184', 'Polyacrylate-1 Crosspolymer',\n",
              "       'Polyaminopropyl Biguanide', 'Polyethylene Glycol',\n",
              "       'Polyglyceryl-4 Caprate', 'Polyglyceryl-4 Caprate',\n",
              "       'Polymethylsilsesquioxane', 'Polyquaternium-47',\n",
              "       'Polyquaternium-51', 'Polyurethane Crosspolymer-1',\n",
              "       'Portulaca Oleracea Extract', 'Potassium Azeloyl Diglycinate',\n",
              "       'Potassium Cocoyl Glycinate', 'Potassium Hydroxide',\n",
              "       'Potassium Sorbate', 'PPG-10 Methyl Glucose Ether', 'Proline',\n",
              "       'Propanediol', 'Propylene Glycol', 'Propylparaben',\n",
              "       'Punica Granatum (Pomegranate) Extract', 'PVP',\n",
              "       'Pyrus Malus (Apple) Fruit Extract',\n",
              "       'Quillaja Saponaria Bark Extract', 'Rhamnose',\n",
              "       'Rosa Damascena Flower Oil', 'Rosemary Essential Oil',\n",
              "       'Royal Jelly Extract', 'Salicylic Acid', 'Saponins', 'Sea Water',\n",
              "       'Sea Whip Extract', 'Silica', 'Sodium Benzoate',\n",
              "       'Sodium Bicarbonate', 'Sodium Carboxymethyl Hyaluronate',\n",
              "       'Sodium Chloride', 'Sodium Citrate', 'Sodium Cocoamphoacetate',\n",
              "       'Sodium Cocoyl Glycinate', 'Sodium Cocoyl Isethionate',\n",
              "       'Sodium Dehydroacetate', 'Sodium Hyaluronate',\n",
              "       'Sodium Hyaluronate', 'Sodium Hydroxide', 'Sodium Lactate',\n",
              "       'Sodium Laureth Sulfate', 'Sodium Lauroamphoacetate',\n",
              "       'Sodium Lauroyl Lactylate', 'Sodium Levulinate',\n",
              "       'Sodium Metabisulfite', 'Sodium PCA', 'Sorbic Acid', 'Sorbitol',\n",
              "       'Squalane', 'Succinic Acid', 'Sucrose',\n",
              "       'Synthetic Fluorphlogopite',\n",
              "       'Tamarindus Indica Seed Polysaccharide', 'Tea Tree Essential Oil',\n",
              "       'TEA-Cocoyl Glutamate', 'Tephrosia Purpurea Seed Extract',\n",
              "       'Tetrahexyldecyl Ascorbate', 'Tetrasodium EDTA', 'Theanine',\n",
              "       'Titanium Dioxide', 'Tocopherol', 'Tocopheryl Acetate',\n",
              "       'Trehalose', 'Triacetin', 'Triethanolamine', 'Triethyl Citrate',\n",
              "       'Trilaureth-4 Phosphate', 'Trisiloxane',\n",
              "       'Trisodium Ethylenediamine Disuccinate', 'Tromethamine', 'Valine',\n",
              "       'Vanilla Planifolia Fruit Extract', 'Vitis Vinifera (Grape) Juice',\n",
              "       'Water', 'Xanthan Gum', 'Xylitol', 'Zinc Gluconate', 'Zinc PCA',\n",
              "       'Zinc Sulfate', 'Zingiber Officinale (Ginger) Root Oil',\n",
              "       'Alpha-Linolenic Acid', 'Arachidic Acid', 'Arachidonic Acid',\n",
              "       'Behenic Acid', 'Dihomo-Y-Linolenic Acid', 'Docosahexaenoic Acid',\n",
              "       'Docosanoic Acid', 'Docosatetraenoic Acid', 'Dodecanoic Acid',\n",
              "       'Eicosanoic Acid', 'Eicosapentaenoic Acid', 'Elaidic Acid',\n",
              "       'Gondoic Acid', 'Erucic Acid', 'Gamma-Linolenic Acid',\n",
              "       'Heneicosanoic Acid', 'Heneicosylic Acid', 'Heptadecanoic Acid',\n",
              "       'Hexadecanoic Acid', 'Icosenoic Acid', 'Lauric Acid',\n",
              "       'Lignoceric Acid', 'Linoleic Acid', 'Linolelaidic Acid',\n",
              "       'Margaric Acid', 'Mead Acid', 'Myristic Acid', 'Nervonic Acid',\n",
              "       'Nonadecanoic Acid', 'Nonadecylic Acid', 'Octadecanoic Acid',\n",
              "       'Oleic Acid', 'Palmitic Acid', 'Palmitoleic Acid',\n",
              "       'Pentadecanoic Acid', 'Pentadecylic Acid', 'Stearic Acid',\n",
              "       'Stearidonic Acid', 'Tetracosanoic Acid', 'Tetradecanoic Acid',\n",
              "       'Tricosanoic Acid', 'Tricosylic Acid', 'Tridecanoic Acid',\n",
              "       'Tridecylic Acid', 'Undecanoic Acid', 'Vaccenic Acid',\n",
              "       'Undecylenic Acid', 'Acai Oil', 'Andiroba Oil', 'Apple Oil',\n",
              "       'Apricot Oil', 'Argan Oil', 'Avocado Butter', 'Avocado Oil',\n",
              "       'Babassu Oil', 'Badger Oil', 'Baobab Oil', 'Barbary Oil',\n",
              "       'Bear Oil', 'Beefsteak Oil', 'Bees Wax', 'Bitter Cherry Oil',\n",
              "       'Black Cumin Oil', 'Black Currant Oil', 'Black Pepper Oil',\n",
              "       'Black Sea Rod Oil', 'Blackberry Oil', 'Borage Oil',\n",
              "       'Brazil Nut Oil', 'Brazillian Palm Butter', 'Brazillian Palm Oil',\n",
              "       'Broccoli Oil', 'Burdock Oil', 'Buriti Oil', 'Cacay Oil',\n",
              "       'Candelilla Wax', 'Carnauba Wax', 'Carrot Oil', 'Castor Oil',\n",
              "       'Castor Wax', 'Celery Oil', 'Chia Oil', 'Chilean Hazelnut Oil ',\n",
              "       'Chinaberry Oil', 'Cloudberry Oil', 'Cocoa Butter', 'Cocoa Oil',\n",
              "       'Coconut Butter', 'Coconut Oil', 'Coconut Wax', 'Cod Liver Oil',\n",
              "       'Coffee Butter', 'Coffee Wax', 'Coffee Oil', 'Common Plum Oil',\n",
              "       'Copenica Cerifera Wax', 'Corn Oil', 'Cotton Oil', 'Crambe Oil',\n",
              "       'Cranberry Oil', 'Cucumber Oil', 'Cumin Oil', 'Cupuacu Butter',\n",
              "       'Dog Rose Oil', 'East African Shea Butter',\n",
              "       'East African Shea Oil', 'Egg Oil', 'Emu Oil',\n",
              "       'Euphorbia Cerifera Wax', 'European Blueberry Oil',\n",
              "       'Evening Primrose Oil', 'Fish Oil', 'Flower Wax', 'Galip Oil',\n",
              "       'Ginseng Oil', 'Goji Oil', 'Grapeseed Oil', 'Harakeke Oil',\n",
              "       'Hazelnut Oil', 'Hemp Oil', 'Hog Plum Oil', 'Horse Oil',\n",
              "       'Illipe Butter', 'Illipe Oil', 'Japanese Pine Oil', 'Jojoba Oil',\n",
              "       'Jojoba Wax', 'Karanja Oil', 'Kiwi Oil', 'Korean Pine Oil',\n",
              "       'Kukui Oil', 'Lanolin Wax', 'Lard Oil', 'Lingonberry Oil',\n",
              "       'Linseed Oil', 'Macadamia Oil', 'Mango Butter', 'Mango Oil',\n",
              "       'Marula Oil', 'Meadowfoam Oil', 'Mink Oil', 'Mongongo Oil',\n",
              "       'Morel Oil', 'Moringa Oil', 'Mushroom Oil', 'Musk Mallow Oil',\n",
              "       'Musk Rose Oil', 'Mustard Oil', 'Neem Oil', 'Olive Butter',\n",
              "       'Olive Oil', 'Olus Oil', 'Opium Poppy Oil', 'Palm Butter',\n",
              "       'Palm Oil', 'Palm Olein', 'Palm Wax', 'Papaya Oil',\n",
              "       'Passion Flower Oil', 'Passion Fruit Oil', 'Pataua Oil',\n",
              "       'Peach Oil', 'Peanut Oil', 'Pecan Oil', 'Pequi Oil',\n",
              "       'Pistachio Oil', 'Pomegranate Oil', 'Pongamia Oil', 'Poppy Oil',\n",
              "       'Pracaxi Oil', 'Pumpkin Oil', 'Purcellin Oil',\n",
              "       \"Purple Viper's Bugloss Oil\", 'Radish Oil', 'Rapeseed Oil',\n",
              "       'Raspberry Oil', 'Rice Oil', 'Rose Oil', 'Rosehip Oil',\n",
              "       'Safflower Oil', 'Seabuckthorn Oil', 'Sesame Oil', 'Shea Butter',\n",
              "       'Shea Oil', 'Shorea Butter', 'Shorea Oil', 'Siberian Pine Oil',\n",
              "       'Silybum Marianum Seed Oil', 'South American Palm Butter',\n",
              "       'South American Palm Oil', 'Soybean Oil', 'Sponge Gourd Oil',\n",
              "       'Strawberry Oil', 'Sunflower Oil', 'Sweet Almond Oil',\n",
              "       'Sweet Brier Oil', 'Sweet Cherry Oil', 'Tall Oil', 'Tallow Wax',\n",
              "       'Tamanu Oil', 'Tomato Oil', 'Truffle Oil', 'Tsubaki Oil',\n",
              "       'Vegetable Oil', 'Watermelon Oil', 'Wheat Germ Oil', 'Wheat Oil',\n",
              "       'White Lupin Oil', 'Wild Celery Oil', 'Yuzu Oil',\n",
              "       'Acetylated Glycol Stearate', 'Ascorbyl Palmitate',\n",
              "       'Cocoglycerides', 'Decyl Oleate', 'Ethly Macadamiate',\n",
              "       'Ethylhexyl Palmitate', 'Ethylhexyl Stearate', 'Glyceryl Laurate',\n",
              "       'Glyceryl Monostearate', 'Glyceryl Oleate', 'Glyceryl Stearate',\n",
              "       'Glycol Distearate', 'Hexyl Laurate',\n",
              "       'Hydrogenated Coco-Glycerides', 'Jojoba Esters',\n",
              "       'Hydroxystearic Acid', 'Isopropyl Myristate',\n",
              "       'Isopropyl Palmitate', 'PEG-10 Isostearate', 'PEG-100 Stearate',\n",
              "       'PEG-150 Distearate', 'PEG-20 Glyceryl Triisostearate',\n",
              "       'PEG-30 Dipolyhydroxystearate', 'PEG-35 Castor Oil',\n",
              "       'PEG-40 Castor Oil', 'PEG-40 Hydrogenated Castor Oil',\n",
              "       'PEG-40 Stearate', 'PEG-7 Glyceryl Cocoate', 'PEG-75 Lanolin',\n",
              "       'PEG-8 Laurate', 'PEG-Glyceryl Stearate',\n",
              "       'Pentaerythrityl Tetraisostearate', 'Polyglyceryl Isostearate',\n",
              "       'Polyglyceryl-3 Diisostearate', 'Polysorbate 20', 'Polysorbate 40',\n",
              "       'Polysorbate 60', 'Retinyl Palmitate', 'Polysorbate 80',\n",
              "       'Sorbitan Isostearate', 'Sorbitan Laurate', 'Sorbitan Trioleate',\n",
              "       'Sucrose Cocoate', 'Tribehenin', 'Trihydroxystearin',\n",
              "       'Triisostearin', 'Galactomyces ', 'Galactomyces Ferment Filtrate',\n",
              "       'Methylparaben', 'Galactomyces Ferment Filtrate Pitera',\n",
              "       'Cetearyl Olivate', 'Sorbitan Olivate',\n",
              "       'Sclerocarya Birrea (Marula) Seed Oil', 'Glyceryl Distearate',\n",
              "       'Glyceryl Stearate Se', 'Isocetyl Stearoyl Stearate',\n",
              "       'Vegetable Oil', 'Vitellaria Paradoxa (Shea) Nut Butter',\n",
              "       'Paraffin', 'Tocopheryl Succinate', 'Beta-Carotene',\n",
              "       'Aluminum Distearate', 'Octyldodecanol', 'Cyanocobalamin',\n",
              "       'Magnesium Stearate', 'Geraniol', 'Hydroxycitronellal',\n",
              "       'Benzyl Salicylate', ' Sodium Benzoate',\n",
              "       'Galactomyces Ferment Filtrate (Pitera)', 'Pentylene Glycol',\n",
              "       'Dicaprylyl Carbonate', ' Cetearyl Alcohol',\n",
              "       'Bacillus/Soybean/ Folic Acid Ferment Extract',\n",
              "       'Nymphaea Alba Root Extract', 'sh-Oligopeptide-1',\n",
              "       'sh-Oligopeptide-2', 'sh-Polypeptide-1', 'Polypeptide-9',\n",
              "       'Polypeptide-11', 'Copper Palmitoyl Heptapeptide-14',\n",
              "       'Heptapeptide-15 Palmitate', 'Palmitoyl Tetrapeptide-7',\n",
              "       'Palmitoyl Tripeptide-1', 'Alanine', ' Arginine', 'Histidine',\n",
              "       'Aspergillus Ferment', 'Bacillus Ferment',\n",
              "       'Alteromonas Ferment Extract', 'Lactococcus Ferment Lysate',\n",
              "       'Lactococcus Ferment', 'Pseudoalteromonas Exopolysaccharides',\n",
              "       'Pseudoalteromonas Ferment Extract',\n",
              "       'Thermus Thermophillus Ferment',\n",
              "       'Leuconostoc/Radish Root Ferment Filtrate',\n",
              "       'Leuconostoc/Radish Root Fermentfiltrate',\n",
              "       'Rice Ferment Filtrate (Sake)', 'Rice Ferment Filtrate',\n",
              "       'Rice Filtrate Ferment',\n",
              "       'Saccharomyces Xylinum (Kombucha) Black Tea Ferment',\n",
              "       'Saccharomyces/Camellia Sinensis Leaf/Cladosiphon Okamuranus/Rice Ferment Filtrate',\n",
              "       'Saccharomyces/Xylinum/Black Tea Ferment',\n",
              "       'Saccharomyces/Rice Ferment Filtrate Extract',\n",
              "       'Saccharomyces/Rice Ferment Filtrate',\n",
              "       'Aspergillus/Rice Ferment Filtrate',\n",
              "       'Bacillus/Soybean/Folic Acid Ferment',\n",
              "       'Lactobacillus/Eriodictyon Californicum Ferment Extract',\n",
              "       'Lactobacillus/Pumpkin Fruit Ferment Filtrate',\n",
              "       'Lactobacillus/Rice Ferment Filtrate',\n",
              "       'Lactobacillus/Tomato Fruit Ferment Extract',\n",
              "       'Lactobacillus/Wasabia Japonica Root Ferment Extract',\n",
              "       'Lactobacillus/Water Hyacinth Ferment',\n",
              "       'Saccharomyces Cerevisiae Extract', 'Saccharomyces Cerevisiae',\n",
              "       'Saccharomyces', 'Saccharomyces Ferment Filtrate',\n",
              "       'Saccharomyces Ferment',\n",
              "       'Saccharomyces (Lysate, Copper, Zinc) Ferment',\n",
              "       'Saccharomyces (Lysate Copper Zinc) Ferment',\n",
              "       'Saccharomyces/Copper Ferment', 'Saccharomyces/Iron Ferment',\n",
              "       'Saccharomyces/Magnesium Ferment', 'Saccharomyces/Silicon Ferment',\n",
              "       'Saccharomyces/Zinc Ferment', 'Yeast', 'Yeast Extract',\n",
              "       'Faex (Yeast Extract)', 'Hydrolyzed Yeast Extract',\n",
              "       'Yeast Extract/Faex/Extrait De Levure', 'Isoleucine', 'Threonine',\n",
              "       'Valine', 'Acetyl Glutamine', 'Coconut Alkanes', 'Lecithin',\n",
              "       'Butylene Glycol', 'Polyvinyl Alcohol', 'Sodium PCA',\n",
              "       'Cholesterol', 'Prunus Amygdalus Dulcis (Sweet Almond) Seed Meal',\n",
              "       'Butyrospermum Parkii (Shea Butter)', 'Steareth-10',\n",
              "       'Sesamum Indicum (Sesame) Seed Oil',\n",
              "       'Medicago Sativa (Alfalfa) Seed Powder', 'Tocopheryl Succinate',\n",
              "       'Butyloctyl Salicylate', 'Polyglyceryl-4 Isostearate',\n",
              "       'Orbignya Oleifera (Babassu) Seed Oil',\n",
              "       'Vitis Vinifera (Grapeseed) Seed Oil',\n",
              "       'Punica Granatum (Pomegranate) Seed Oil',\n",
              "       'Persea Gratissima (Avocado) Fruit Oil',\n",
              "       'Snail Secretion Filtrate', 'Tetrahexyldecyl Ascorbate',\n",
              "       'Cyclopentasiloxane', 'Citrus Aurantifolia (Lime) Peel Extract',\n",
              "       ' Pentafluoropropane', 'Polyglyceryl-6 Ximenia Americana Seedate',\n",
              "       'Adansonia Digitata (Baobab) Seed Oil',\n",
              "       'Citrullus Lanatus (Watermelon) Seed Oil',\n",
              "       'Passiflora Edulis (Passion Fruit) Seed Oil',\n",
              "       'Schinziophyton Rautenenii (Mongongo) Kernel Oil',\n",
              "       ' Plantago Lanceolata Leaf Extract', 'Peg-8 Stearate',\n",
              "       'Prunus Armeniaca (Apricot) Kernel Oil',\n",
              "       'Olea Europaea (Olive) Fruit Oil', 'Oryza Sativa (Rice) Bran Oil',\n",
              "       'Prunus Amygdalus (Sweet Almond) Kernel Oil', 'Sucrose Stearate',\n",
              "       'Acrylates/C10-30 Alkyl Acrylate Crosspolymer',\n",
              "       'Cucumis Sativus (Cucumber) Fruit Extract',\n",
              "       'Caprylic/Capric Triglyceride', 'Hydrogenated Starch Hydrolysate',\n",
              "       'Mortierella Oil',\n",
              "       'Cantharis Vesicatoria 3x (Treats burns and scalds)',\n",
              "       'Polyglutamic Acid', 'Ascorbyl Tetraisopalmitate',\n",
              "       ' Propylene Glycol Dicaprylate/Dicaprate', 'Cetearyl Glucoside',\n",
              "       'Algae Extract', 'Polymethyl Methacrylate',\n",
              "       'Hibiscus Esculentus Fruit Extract',\n",
              "       'Lepidium Meyenii Root Extract',\n",
              "       'Cucumis Sativus (Cucumber) Seed Oil',\n",
              "       'Simmondsia Chinensis (Jojoba) Seed Oil',\n",
              "       'Helianthus Annuus (Sunflower) Seed Oil',\n",
              "       'Macadamia Ternifolia (Macadamia) Nut Oil',\n",
              "       'Salvia Hispanica (Chia) Seed Oil',\n",
              "       'Limnanthes Alba (Meadowfoam) Seed Oil', ' Potassium Hydroxide',\n",
              "       'Sclerotium Gum', 'Isopropyl Isostearate',\n",
              "       'Raspberry Seed Oil/Tocopheryl Succinate Aminopropanediol Esters',\n",
              "       'Polyhydroxystearic Acid', 'Glycine Soja (Soybean) Seed Oil',\n",
              "       'Isostearyl Isostearate', 'Sodium Peg-7 Olive Oil Carboxylate',\n",
              "       'Methylsilanol Tri-Peg-8 Glyceryl Cocoate', 'Ethylparaben',\n",
              "       'Sorbitan Sesquiisostearate', 'Isostearic Acid', 'Butylparaben',\n",
              "       'Phytosteryl Macadamiate', 'Peg-60 Hydrogenated Castor Oil',\n",
              "       'Beeswax', 'Ethylhexyl Salicylate',\n",
              "       'Butyl Methoxydibenzoylmethane', 'Rosa Canina (Rosehip) Seed Oil',\n",
              "       'Dimethicone', 'Glyceryl Polymethacrylate',\n",
              "       'Palmitoyl Hexapeptide-12', 'Saccharide Isomerate ',\n",
              "       'Magnesium Ascorbyl Phosphate', 'Hydrogenated Lecithin',\n",
              "       'Angelica Keiskei Extract', ' Dimethiconol',\n",
              "       'Hydrolyzed Yeast Protein', ' Beta-Carotene', ' Petrolatum',\n",
              "       ' Aluminum Distearate', ' Cyanocobalamin', 'Lauroyl Lysine',\n",
              "       'Succinoglycan', 'Salicornia Herbacea Extract',\n",
              "       'Disodium Adenosine Triphosphate', 'Sodium Hexametaphosphate',\n",
              "       'Octyl Methoxycinnamate'], dtype=object)"
            ]
          },
          "metadata": {},
          "execution_count": 63
        }
      ],
      "source": [
        "# Adapt the TextVectorization layer to the values of the input dataset or text data\n",
        "data.adapt(a.values)\n",
        "a.values"
      ]
    },
    {
      "cell_type": "code",
      "execution_count": 64,
      "metadata": {
        "colab": {
          "base_uri": "https://localhost:8080/"
        },
        "id": "c9MvfM_euJnI",
        "outputId": "c57fc112-0d89-41a3-f2a2-882da98c5ca1"
      },
      "outputs": [
        {
          "output_type": "execute_result",
          "data": {
            "text/plain": [
              "<tf.Tensor: shape=(2,), dtype=int64, numpy=array([166,   0])>"
            ]
          },
          "metadata": {},
          "execution_count": 64
        }
      ],
      "source": [
        "data('Glycerin')[:2]"
      ]
    },
    {
      "cell_type": "code",
      "execution_count": 65,
      "metadata": {
        "colab": {
          "base_uri": "https://localhost:8080/"
        },
        "id": "ZgXjx7RVuRon",
        "outputId": "7b280b8a-c8a6-4503-b9c8-51cc94371ea9"
      },
      "outputs": [
        {
          "output_type": "execute_result",
          "data": {
            "text/plain": [
              "['',\n",
              " '[UNK]',\n",
              " 'oil',\n",
              " 'acid',\n",
              " 'extract',\n",
              " 'ferment',\n",
              " 'sodium',\n",
              " 'seed',\n",
              " 'fruit',\n",
              " 'butter',\n",
              " 'filtrate',\n",
              " 'wax',\n",
              " 'stearate',\n",
              " 'glycol',\n",
              " 'glyceryl',\n",
              " 'flower',\n",
              " 'saccharomyces',\n",
              " 'palm',\n",
              " 'hydrolyzed',\n",
              " 'root',\n",
              " 'leaf',\n",
              " 'gluconate',\n",
              " 'zinc',\n",
              " 'yeast',\n",
              " 'shea',\n",
              " 'isostearate',\n",
              " 'glucoside',\n",
              " 'copper',\n",
              " 'castor',\n",
              " 'sweet',\n",
              " 'sorbitan',\n",
              " 'rice',\n",
              " 'powder',\n",
              " 'potassium',\n",
              " 'palmitate',\n",
              " 'magnesium',\n",
              " 'hydrogenated',\n",
              " 'distearate',\n",
              " 'disodium',\n",
              " 'black',\n",
              " 'alcohol',\n",
              " 'acetyl',\n",
              " 'water',\n",
              " 'sulfate',\n",
              " 'sesame',\n",
              " 'sea',\n",
              " 'salicylate',\n",
              " 'polysorbate',\n",
              " 'phosphate',\n",
              " 'palmitoyl',\n",
              " 'olive',\n",
              " 'nut',\n",
              " 'lauryl',\n",
              " 'laurate',\n",
              " 'jojoba',\n",
              " 'hyaluronate',\n",
              " 'gum',\n",
              " 'galactomyces',\n",
              " 'crosspolymer',\n",
              " 'cocoyl',\n",
              " 'coconut',\n",
              " 'betaine',\n",
              " 'ascorbyl',\n",
              " 'tocopheryl',\n",
              " 'tea',\n",
              " 'sunflower',\n",
              " 'sucrose',\n",
              " 'succinate',\n",
              " 'sesamum',\n",
              " 'sativus',\n",
              " 'sativa',\n",
              " 'rose',\n",
              " 'prunus',\n",
              " 'pomegranate',\n",
              " 'polyglyceryl4',\n",
              " 'pine',\n",
              " 'peg40',\n",
              " 'pca',\n",
              " 'passion',\n",
              " 'methyl',\n",
              " 'macadamia',\n",
              " 'lysate',\n",
              " 'lecithin',\n",
              " 'lanolin',\n",
              " 'kernel',\n",
              " 'isopropyl',\n",
              " 'indicum',\n",
              " 'hydroxide',\n",
              " 'ethylhexyl',\n",
              " 'cucumis',\n",
              " 'cucumber',\n",
              " 'coffee',\n",
              " 'cocoate',\n",
              " 'citrus',\n",
              " 'chloride',\n",
              " 'cetearyl',\n",
              " 'caprylyl',\n",
              " 'benzoate',\n",
              " 'bark',\n",
              " 'avocado',\n",
              " 'almond',\n",
              " 'algae',\n",
              " 'alba',\n",
              " 'wheat',\n",
              " 'watermelon',\n",
              " 'vulgaris',\n",
              " 'vulgare',\n",
              " 'vitis',\n",
              " 'virginiana',\n",
              " 'vinifera',\n",
              " 'vegetable',\n",
              " 'valine',\n",
              " 'tripeptide1',\n",
              " 'trehalose',\n",
              " 'tetrahexyldecyl',\n",
              " 'starch',\n",
              " 'soybean',\n",
              " 'south',\n",
              " 'shorea',\n",
              " 'salicylic',\n",
              " 'saccharomycesrice',\n",
              " 'rosehip',\n",
              " 'rosa',\n",
              " 'raspberry',\n",
              " 'purpurea',\n",
              " 'punica',\n",
              " 'pseudoalteromonas',\n",
              " 'propylene',\n",
              " 'poppy',\n",
              " 'plum',\n",
              " 'pitera',\n",
              " 'petrolatum',\n",
              " 'peg8',\n",
              " 'peg7',\n",
              " 'olivate',\n",
              " 'oleate',\n",
              " 'officinalis',\n",
              " 'nymphaea',\n",
              " 'musk',\n",
              " 'mongongo',\n",
              " 'microcrystalline',\n",
              " 'methacrylate',\n",
              " 'medicago',\n",
              " 'meadowfoam',\n",
              " 'marula',\n",
              " 'mango',\n",
              " 'macadamiate',\n",
              " 'lysine',\n",
              " 'lime',\n",
              " 'leuconostocradish',\n",
              " 'lavandula',\n",
              " 'lauroyl',\n",
              " 'laureth',\n",
              " 'laminaria',\n",
              " 'lactococcus',\n",
              " 'isohexadecane',\n",
              " 'indica',\n",
              " 'illipe',\n",
              " 'hydroxysultaine',\n",
              " 'hyaluronic',\n",
              " 'hexyl',\n",
              " 'helianthus',\n",
              " 'hazelnut',\n",
              " 'grapeseed',\n",
              " 'granatum',\n",
              " 'glycinate',\n",
              " 'glycerin',\n",
              " 'glutamine',\n",
              " 'glutamate',\n",
              " 'eucalyptus',\n",
              " 'esters',\n",
              " 'essential',\n",
              " 'edta',\n",
              " 'east',\n",
              " 'dulcis',\n",
              " 'dipotassium',\n",
              " 'dimethicone',\n",
              " 'digitata',\n",
              " 'decyl',\n",
              " 'cyanocobalamin',\n",
              " 'cumin',\n",
              " 'corn',\n",
              " 'cocoglycerides',\n",
              " 'cocoa',\n",
              " 'cocamidopropyl',\n",
              " 'citrate',\n",
              " 'chlorphenesin',\n",
              " 'chia',\n",
              " 'cherry',\n",
              " 'cetyl',\n",
              " 'cerifera',\n",
              " 'cerevisiae',\n",
              " 'celery',\n",
              " 'caprate',\n",
              " 'calcium',\n",
              " 'butylene',\n",
              " 'bromide',\n",
              " 'brazillian',\n",
              " 'betacarotene',\n",
              " 'baobab',\n",
              " 'babassu',\n",
              " 'aurantifolia',\n",
              " 'ascorbate',\n",
              " 'arginine',\n",
              " 'apricot',\n",
              " 'apple',\n",
              " 'annuus',\n",
              " 'amygdalus',\n",
              " 'american',\n",
              " 'aluminum',\n",
              " 'aloe',\n",
              " 'alkyl',\n",
              " 'alfalfa',\n",
              " 'african',\n",
              " 'adenosine',\n",
              " 'zingiber',\n",
              " 'zeylanicum',\n",
              " 'yuzu',\n",
              " 'xylitol',\n",
              " 'xylinum',\n",
              " 'ximenia',\n",
              " 'xanthan',\n",
              " 'wild',\n",
              " 'white',\n",
              " 'whip',\n",
              " 'vitellaria',\n",
              " 'vipers',\n",
              " 'vesicatoria',\n",
              " 'vera',\n",
              " 'vanilla',\n",
              " 'vaccenic',\n",
              " 'undecylenic',\n",
              " 'undecanoic',\n",
              " 'tsubaki',\n",
              " 'truffle',\n",
              " 'tromethamine',\n",
              " 'trisodium',\n",
              " 'trisiloxane',\n",
              " 'triphosphate',\n",
              " 'tripeg8',\n",
              " 'trioleate',\n",
              " 'trilaureth4',\n",
              " 'triisostearin',\n",
              " 'triisostearate',\n",
              " 'trihydroxystearin',\n",
              " 'triglyceride',\n",
              " 'triethyl',\n",
              " 'triethanolamine',\n",
              " 'tridecylic',\n",
              " 'tridecanoic',\n",
              " 'tricosylic',\n",
              " 'tricosanoic',\n",
              " 'tribehenin',\n",
              " 'triacetin',\n",
              " 'triacetate',\n",
              " 'tree',\n",
              " 'treats',\n",
              " 'tomato',\n",
              " 'tocopherol',\n",
              " 'titanium',\n",
              " 'tinctoria',\n",
              " 'threonine',\n",
              " 'thermus',\n",
              " 'thermophillus',\n",
              " 'theanine',\n",
              " 'tetrasodium',\n",
              " 'tetrapeptide7',\n",
              " 'tetraisostearate',\n",
              " 'tetraisopalmitate',\n",
              " 'tetradecanoic',\n",
              " 'tetracosanoic',\n",
              " 'ternifolia',\n",
              " 'tephrosia',\n",
              " 'teacocoyl',\n",
              " 'tamarindus',\n",
              " 'tamanu',\n",
              " 'tallow',\n",
              " 'tall',\n",
              " 'synthetic',\n",
              " 'sulfosuccinate',\n",
              " 'sulfone',\n",
              " 'succinoglycan',\n",
              " 'succinic',\n",
              " 'strawberry',\n",
              " 'stearoyl',\n",
              " 'stearidonic',\n",
              " 'stearic',\n",
              " 'steareth10',\n",
              " 'squalane',\n",
              " 'sponge',\n",
              " 'sorbitol',\n",
              " 'sorbic',\n",
              " 'sorbate',\n",
              " 'soja',\n",
              " 'snail',\n",
              " 'sinensis',\n",
              " 'simmondsia',\n",
              " 'silybum',\n",
              " 'silica',\n",
              " 'siberian',\n",
              " 'shpolypeptide1',\n",
              " 'sholigopeptide2',\n",
              " 'sholigopeptide1',\n",
              " 'sesquiisostearate',\n",
              " 'seedcake',\n",
              " 'seedate',\n",
              " 'secretion',\n",
              " 'seaweed',\n",
              " 'seabuckthorn',\n",
              " 'se',\n",
              " 'sclerotium',\n",
              " 'sclerocarya',\n",
              " 'schinziophyton',\n",
              " 'scalds',\n",
              " 'saponins',\n",
              " 'saponaria',\n",
              " 'sanctum',\n",
              " 'salvia',\n",
              " 'salt',\n",
              " 'salicornia',\n",
              " 'sake',\n",
              " 'safflower',\n",
              " 'saccharomyceszinc',\n",
              " 'saccharomycesxylinumblack',\n",
              " 'saccharomycessilicon',\n",
              " 'saccharomycesmagnesium',\n",
              " 'saccharomycesiron',\n",
              " 'saccharomycescopper',\n",
              " 'saccharomycescamellia',\n",
              " 'saccharina',\n",
              " 'saccharide',\n",
              " 'rutaecarpa',\n",
              " 'royal',\n",
              " 'rosemary',\n",
              " 'rosea',\n",
              " 'rod',\n",
              " 'rhodophyceae',\n",
              " 'rhamnose',\n",
              " 'retinyl',\n",
              " 'rautenenii',\n",
              " 'rapeseed',\n",
              " 'radish',\n",
              " 'quinoa',\n",
              " 'quillaja',\n",
              " 'pyrus',\n",
              " 'pvp',\n",
              " 'purple',\n",
              " 'purcellin',\n",
              " 'pumpkin',\n",
              " 'protein',\n",
              " 'propylparaben',\n",
              " 'propanol',\n",
              " 'propanediol',\n",
              " 'proline',\n",
              " 'primrose',\n",
              " 'pracaxi',\n",
              " 'ppg10',\n",
              " 'portulaca',\n",
              " 'pongamia',\n",
              " 'polyvinyl',\n",
              " 'polyurethane',\n",
              " 'polysaccharide',\n",
              " 'polyquaternium51',\n",
              " 'polyquaternium47',\n",
              " 'polypeptide9',\n",
              " 'polypeptide11',\n",
              " 'polymethylsilsesquioxane',\n",
              " 'polymethyl',\n",
              " 'polymethacrylate',\n",
              " 'polyhydroxystearic',\n",
              " 'polyglyceryl6',\n",
              " 'polyglyceryl3',\n",
              " 'polyglyceryl',\n",
              " 'polyglutamic',\n",
              " 'polyethylene',\n",
              " 'polyaminopropyl',\n",
              " 'polyacrylate1',\n",
              " 'poloxamer',\n",
              " 'pogostemon',\n",
              " 'plantago',\n",
              " 'planifolia',\n",
              " 'pistachio',\n",
              " 'phytosteryl',\n",
              " 'phytic',\n",
              " 'phosphatidylcholine',\n",
              " 'phenoxyethanol',\n",
              " 'phellodendron',\n",
              " 'persea',\n",
              " 'pequi',\n",
              " 'pepper',\n",
              " 'pentylene',\n",
              " 'pentafluoropropane',\n",
              " 'pentaerythrityl',\n",
              " 'pentadecylic',\n",
              " 'pentadecanoic',\n",
              " 'pelargonium',\n",
              " 'pegglyceryl',\n",
              " 'peg75',\n",
              " 'peg60',\n",
              " 'peg35',\n",
              " 'peg30',\n",
              " 'peg20',\n",
              " 'peg150',\n",
              " 'peg100',\n",
              " 'peg10',\n",
              " 'peel',\n",
              " 'pecan',\n",
              " 'pearl',\n",
              " 'peanut',\n",
              " 'peach',\n",
              " 'pataua',\n",
              " 'passiflora',\n",
              " 'parkii',\n",
              " 'paraffin',\n",
              " 'paradoxa',\n",
              " 'papaya',\n",
              " 'pantolactone',\n",
              " 'panthenyl',\n",
              " 'panthenol',\n",
              " 'palmitoleic',\n",
              " 'palmitic',\n",
              " 'oxides',\n",
              " 'oryza',\n",
              " 'origanum',\n",
              " 'orbignya',\n",
              " 'orange',\n",
              " 'opuntia',\n",
              " 'opium',\n",
              " 'olus',\n",
              " 'oligosaccharide',\n",
              " 'oleracea',\n",
              " 'olein',\n",
              " 'oleifera',\n",
              " 'oleic',\n",
              " 'olea',\n",
              " 'okamuranusrice',\n",
              " 'oiltocopheryl',\n",
              " 'officinale',\n",
              " 'octyldodecanol',\n",
              " 'octyl',\n",
              " 'octocrylene',\n",
              " 'octadecanoic',\n",
              " 'ocimum',\n",
              " 'nylon12',\n",
              " 'nonadecylic',\n",
              " 'nonadecanoic',\n",
              " 'nobilis',\n",
              " 'niacinamide',\n",
              " 'nervonic',\n",
              " 'neem',\n",
              " 'natto',\n",
              " 'naringenin',\n",
              " 'myrtrimonium',\n",
              " 'myristic',\n",
              " 'myristate',\n",
              " 'myrciaria',\n",
              " 'mustard',\n",
              " 'mushroom',\n",
              " 'morus',\n",
              " 'mortierella',\n",
              " 'moringa',\n",
              " 'morel',\n",
              " 'monostearate',\n",
              " 'mink',\n",
              " 'mineral',\n",
              " 'microcitrus',\n",
              " 'meyenii',\n",
              " 'methylsilanol',\n",
              " 'methylpropional',\n",
              " 'methylpropanediol',\n",
              " 'methylparaben',\n",
              " 'methylisothiazolinone',\n",
              " 'methoxydibenzoylmethane',\n",
              " 'methoxycinnamate',\n",
              " 'methionine',\n",
              " 'methicone',\n",
              " 'metabisulfite',\n",
              " 'menthol',\n",
              " 'meal',\n",
              " 'mead',\n",
              " 'marianum',\n",
              " 'margaric',\n",
              " 'malus',\n",
              " 'maltooligosyl',\n",
              " 'maltodextrin',\n",
              " 'mallow',\n",
              " 'madecassoside',\n",
              " 'lupin',\n",
              " 'liver',\n",
              " 'linseed',\n",
              " 'linolelaidic',\n",
              " 'linoleic',\n",
              " 'lingonberry',\n",
              " 'linearis',\n",
              " 'linalool',\n",
              " 'limonia',\n",
              " 'limonene',\n",
              " 'limnanthes',\n",
              " 'lignoceric',\n",
              " 'levure',\n",
              " 'levulinic',\n",
              " 'levulinate',\n",
              " 'lepidium',\n",
              " 'leafcladosiphon',\n",
              " 'lavender',\n",
              " 'lauroamphoacetate',\n",
              " 'lauric',\n",
              " 'laureth23',\n",
              " 'lauramidopropyl',\n",
              " 'lard',\n",
              " 'lanceolata',\n",
              " 'lanatus',\n",
              " 'lactylate',\n",
              " 'lactobacilluswater',\n",
              " 'lactobacilluswasabia',\n",
              " 'lactobacillustomato',\n",
              " 'lactobacillusrice',\n",
              " 'lactobacilluspumpkin',\n",
              " 'lactobacilluseriodictyon',\n",
              " 'lactate',\n",
              " 'kukui',\n",
              " 'korean',\n",
              " 'kombucha',\n",
              " 'kola',\n",
              " 'kiwi',\n",
              " 'keiskei',\n",
              " 'karanja',\n",
              " 'kaolin',\n",
              " 'juniperus',\n",
              " 'juice',\n",
              " 'jelly',\n",
              " 'japonica',\n",
              " 'japanese',\n",
              " 'isostearyl',\n",
              " 'isostearic',\n",
              " 'isomerate',\n",
              " 'isoleucine',\n",
              " 'isododecane',\n",
              " 'isocetyl',\n",
              " 'isethionate',\n",
              " 'isatis',\n",
              " 'iron',\n",
              " 'icosenoic',\n",
              " 'hydroxystearic',\n",
              " 'hydroxypropylcellulose',\n",
              " 'hydroxycitronellal',\n",
              " 'hydrolysate',\n",
              " 'hybrida',\n",
              " 'hyacinth',\n",
              " 'horse',\n",
              " 'hordeum',\n",
              " 'honey',\n",
              " 'hog',\n",
              " 'histidine',\n",
              " 'hispanica',\n",
              " 'hibiscus',\n",
              " 'hexylene',\n",
              " 'hexapeptide12',\n",
              " 'hexanediol',\n",
              " 'hexametaphosphate',\n",
              " 'hexadecanoic',\n",
              " 'herbacea',\n",
              " 'herb',\n",
              " 'heptapeptide9',\n",
              " 'heptapeptide15',\n",
              " 'heptapeptide14',\n",
              " 'heptadecanoic',\n",
              " 'heneicosylic',\n",
              " 'heneicosanoic',\n",
              " 'hemp',\n",
              " 'hcl',\n",
              " 'harakeke',\n",
              " 'hamamelis',\n",
              " 'guar',\n",
              " 'graveolens',\n",
              " 'gratissima',\n",
              " 'grape',\n",
              " 'gourd',\n",
              " 'gotu',\n",
              " 'gondoic',\n",
              " 'gold',\n",
              " 'goji',\n",
              " 'glycyrrhizate',\n",
              " 'glycosyl',\n",
              " 'glycolic',\n",
              " 'glycine',\n",
              " 'glutamic',\n",
              " 'glucose',\n",
              " 'glucosamine',\n",
              " 'gluconolactone',\n",
              " 'gluceth20',\n",
              " 'globulus',\n",
              " 'ginseng',\n",
              " 'ginkgo',\n",
              " 'ginger',\n",
              " 'germ',\n",
              " 'geraniol',\n",
              " 'gammalinolenic',\n",
              " 'galip',\n",
              " 'galactoarabinan',\n",
              " 'fructooligosaccharides',\n",
              " 'fragrance',\n",
              " 'folic',\n",
              " 'fluorphlogopite',\n",
              " 'fish',\n",
              " 'ferulic',\n",
              " 'fermentfiltrate',\n",
              " 'farnesol',\n",
              " 'faex',\n",
              " 'extractfaexextrait',\n",
              " 'exopolysaccharides',\n",
              " 'evodia',\n",
              " 'evening',\n",
              " 'european',\n",
              " 'europaea',\n",
              " 'euphorbia',\n",
              " 'ethylparaben',\n",
              " 'ethylhexylglycerin',\n",
              " 'ethylenediamine',\n",
              " 'ethyl',\n",
              " 'ethoxydiglycol',\n",
              " 'ethly',\n",
              " 'ether',\n",
              " 'esculentus',\n",
              " 'erucic',\n",
              " 'ergothioneine',\n",
              " 'emu',\n",
              " 'elaidic',\n",
              " 'eicosapentaenoic',\n",
              " 'eicosanoic',\n",
              " 'egg',\n",
              " 'edulis',\n",
              " 'ectoin',\n",
              " 'echinacea',\n",
              " 'dubia',\n",
              " 'dog',\n",
              " 'dodecanoic',\n",
              " 'docosatetraenoic',\n",
              " 'docosanoic',\n",
              " 'docosahexaenoic',\n",
              " 'disuccinate',\n",
              " 'dipropylene',\n",
              " 'dipolyhydroxystearate',\n",
              " 'dioxide',\n",
              " 'dimethyl',\n",
              " 'dimethiconol',\n",
              " 'diisostearate',\n",
              " 'dihomoylinolenic',\n",
              " 'diglycinate',\n",
              " 'digluconate',\n",
              " 'dicaprylyl',\n",
              " 'dicaprylatedicaprate',\n",
              " 'dibutyl',\n",
              " 'denat',\n",
              " 'dehydroacetic',\n",
              " 'dehydroacetate',\n",
              " 'dead',\n",
              " 'de',\n",
              " 'damascena',\n",
              " 'cyclopentasiloxane',\n",
              " 'cyclohexasiloxane',\n",
              " 'cyclodextrin',\n",
              " 'cyanus',\n",
              " 'currant',\n",
              " 'curcumin',\n",
              " 'cupuacu',\n",
              " 'crosspolymer1',\n",
              " 'cranberry',\n",
              " 'crambe',\n",
              " 'cotton',\n",
              " 'copolymer',\n",
              " 'copenica',\n",
              " 'common',\n",
              " 'colloidal',\n",
              " 'collagen',\n",
              " 'cod',\n",
              " 'cocoglucoside',\n",
              " 'cocoamphodiacetate',\n",
              " 'cocoamphoacetate',\n",
              " 'coccinia',\n",
              " 'coccinellifera',\n",
              " 'cloudberry',\n",
              " 'citrullus',\n",
              " 'citronellol',\n",
              " 'citric',\n",
              " 'citral',\n",
              " 'cinnamomum',\n",
              " 'cinnamal',\n",
              " 'cholesterol',\n",
              " 'chlorhexidine',\n",
              " 'chlorella',\n",
              " 'chinensis',\n",
              " 'chinaberry',\n",
              " 'chilean',\n",
              " 'charcoal',\n",
              " 'cetrimonium',\n",
              " 'centella',\n",
              " 'centaurea',\n",
              " 'cellulose',\n",
              " 'carrot',\n",
              " 'carrageenan',\n",
              " 'carnosine',\n",
              " 'carnauba',\n",
              " 'carboxymethyl',\n",
              " 'carboxylate',\n",
              " 'carbonate',\n",
              " 'carbomer',\n",
              " 'caramel',\n",
              " 'capryloyl',\n",
              " 'capryliccapric',\n",
              " 'cantharis',\n",
              " 'canina',\n",
              " 'candelilla',\n",
              " 'californicum',\n",
              " 'calendula',\n",
              " 'caerulea',\n",
              " 'cacay',\n",
              " 'cablin',\n",
              " 'c1215',\n",
              " 'butyrospermum',\n",
              " 'butylphenyl',\n",
              " 'butylparaben',\n",
              " 'butyloctyl',\n",
              " 'butyl',\n",
              " 'burns',\n",
              " 'buriti',\n",
              " 'burdock',\n",
              " 'bugloss',\n",
              " 'broccoli',\n",
              " 'brier',\n",
              " 'brazil',\n",
              " 'bran',\n",
              " 'borago',\n",
              " 'borage',\n",
              " 'blueberry',\n",
              " 'blackberry',\n",
              " 'bitter',\n",
              " 'bisabolol',\n",
              " 'birrea',\n",
              " 'biloba',\n",
              " 'biguanide',\n",
              " 'bicarbonate',\n",
              " 'bht',\n",
              " 'betaglucan',\n",
              " 'benzyl',\n",
              " 'benzophenone4',\n",
              " 'benzoic',\n",
              " 'benzalkonium',\n",
              " 'bentonite',\n",
              " 'behenic',\n",
              " 'beeswax',\n",
              " 'bees',\n",
              " 'beefsteak',\n",
              " 'bear',\n",
              " 'barley',\n",
              " 'barbary',\n",
              " 'barbadensis',\n",
              " 'badger',\n",
              " 'bacillussoybeanfolic',\n",
              " 'bacillussoybean',\n",
              " 'bacillus',\n",
              " 'azeloyl',\n",
              " 'australasica',\n",
              " 'aurantium',\n",
              " 'aspergillusrice',\n",
              " 'aspergillus',\n",
              " 'aspartic',\n",
              " 'aspartate',\n",
              " 'aspalathus',\n",
              " 'asiatica',\n",
              " 'armeniaca',\n",
              " 'argan',\n",
              " 'arachidonic',\n",
              " 'arachidic',\n",
              " 'anthemis',\n",
              " 'anhydroxylitol',\n",
              " 'angustifolia',\n",
              " 'angelica',\n",
              " 'andiroba',\n",
              " 'and',\n",
              " 'amurense',\n",
              " 'amodimethicone',\n",
              " 'ammonium',\n",
              " 'aminopropanediol',\n",
              " 'aminomethyl',\n",
              " 'americana',\n",
              " 'alumina',\n",
              " 'althaea',\n",
              " 'alteromonas',\n",
              " 'alphalinolenic',\n",
              " 'alphaglucan',\n",
              " 'allantoin',\n",
              " 'alkanes',\n",
              " 'alchemilla',\n",
              " 'alanine',\n",
              " 'adipate',\n",
              " 'adansonia',\n",
              " 'acrylatesc1030',\n",
              " 'acrylates',\n",
              " 'acrylate',\n",
              " 'acidissima',\n",
              " 'acetylated',\n",
              " 'acetate',\n",
              " 'acai',\n",
              " 'abrial',\n",
              " '80',\n",
              " '60',\n",
              " '40',\n",
              " '3x',\n",
              " '20',\n",
              " '184',\n",
              " '12hexanediol']"
            ]
          },
          "metadata": {},
          "execution_count": 65
        }
      ],
      "source": [
        "# Retrieve the vocabulary learned by the TextVectorization layer\n",
        "data.get_vocabulary()"
      ]
    },
    {
      "cell_type": "code",
      "source": [
        "vocabulary = data.get_vocabulary()\n",
        "print('Vocabulary length:',len(vocabulary))"
      ],
      "metadata": {
        "colab": {
          "base_uri": "https://localhost:8080/"
        },
        "id": "aRPyB0QzMCyO",
        "outputId": "af1601f7-16c1-4c53-d886-d4ff9bded499"
      },
      "execution_count": 66,
      "outputs": [
        {
          "output_type": "stream",
          "name": "stdout",
          "text": [
            "Vocabulary length: 812\n"
          ]
        }
      ]
    },
    {
      "cell_type": "code",
      "execution_count": 67,
      "metadata": {
        "id": "ZrY_FlyJCqjV"
      },
      "outputs": [],
      "source": [
        "# create txt file for vocabulary\n",
        "import json\n",
        "with open(\"./vocabulary.v0.2.json\", \"w\") as output:\n",
        "    output.write(json.dumps(data.get_vocabulary()))"
      ]
    },
    {
      "cell_type": "code",
      "execution_count": 68,
      "metadata": {
        "id": "rQ7eQ6pfucMX"
      },
      "outputs": [],
      "source": [
        "kalimat_text = data(a.values)"
      ]
    },
    {
      "cell_type": "code",
      "execution_count": 69,
      "metadata": {
        "colab": {
          "base_uri": "https://localhost:8080/"
        },
        "id": "ITAO5P7tvHOk",
        "outputId": "ef67b035-f58d-48b5-f817-a36ad2bd8e90"
      },
      "outputs": [
        {
          "output_type": "execute_result",
          "data": {
            "text/plain": [
              "714"
            ]
          },
          "metadata": {},
          "execution_count": 69
        }
      ],
      "source": [
        "len(a)"
      ]
    },
    {
      "cell_type": "code",
      "execution_count": 70,
      "metadata": {
        "colab": {
          "base_uri": "https://localhost:8080/"
        },
        "id": "ksBXdc9evL8L",
        "outputId": "1009a0eb-c060-476c-8b28-9b5616c8f059"
      },
      "outputs": [
        {
          "output_type": "execute_result",
          "data": {
            "text/plain": [
              "<tf.Tensor: shape=(714, 1000), dtype=int64, numpy=\n",
              "array([[101, 307,   4, ...,   0,   0,   0],\n",
              "       [464,   2,   0, ...,   0,   0,   0],\n",
              "       [131,   0,   0, ...,   0,   0,   0],\n",
              "       ...,\n",
              "       [ 38, 214, 238, ...,   0,   0,   0],\n",
              "       [  6, 559,   0, ...,   0,   0,   0],\n",
              "       [439, 473,   0, ...,   0,   0,   0]])>"
            ]
          },
          "metadata": {},
          "execution_count": 70
        }
      ],
      "source": [
        "kalimat_text"
      ]
    },
    {
      "cell_type": "code",
      "execution_count": 71,
      "metadata": {
        "id": "4ZCGDOWovnFv"
      },
      "outputs": [],
      "source": [
        "dataset = tf.data.Dataset.from_tensor_slices((kalimat_text, b))\n",
        "dataset = dataset.cache()\n",
        "dataset = dataset.shuffle(773)\n",
        "dataset = dataset.batch(20)"
      ]
    },
    {
      "cell_type": "code",
      "execution_count": 72,
      "metadata": {
        "id": "4KKjrabhwHRb"
      },
      "outputs": [],
      "source": [
        "batch_a, batch_b = dataset.as_numpy_iterator().next()"
      ]
    },
    {
      "cell_type": "code",
      "execution_count": 73,
      "metadata": {
        "colab": {
          "base_uri": "https://localhost:8080/"
        },
        "id": "KsXRZDnzwq-0",
        "outputId": "fbb1ea1d-e065-4993-d62f-09799f21b976"
      },
      "outputs": [
        {
          "output_type": "execute_result",
          "data": {
            "text/plain": [
              "(20, 1)"
            ]
          },
          "metadata": {},
          "execution_count": 73
        }
      ],
      "source": [
        "batch_b.shape"
      ]
    },
    {
      "cell_type": "code",
      "execution_count": 74,
      "metadata": {
        "id": "fLwdbvXEyoSd"
      },
      "outputs": [],
      "source": [
        "# Split the dataset into training, validation, and test sets based on the specified proportions\n",
        "train = dataset.take(int(len(dataset)*.8)) # 80% for training\n",
        "validation = dataset.skip(int(len(dataset)*.8)).take(int(len(dataset)*.9)) # 10% for validation\n",
        "test = dataset.skip(int(len(dataset)*.9)).take(int(len(dataset)*.1))# 10% for testing"
      ]
    },
    {
      "cell_type": "code",
      "execution_count": 75,
      "metadata": {
        "colab": {
          "base_uri": "https://localhost:8080/"
        },
        "id": "IkOoOR0Wzypq",
        "outputId": "8c2e870e-bbb9-40e9-cd02-93f4a05c3a49"
      },
      "outputs": [
        {
          "output_type": "execute_result",
          "data": {
            "text/plain": [
              "(array([[184, 158,   0, ...,   0,   0,   0],\n",
              "        [528, 108,   2, ...,   0,   0,   0],\n",
              "        [ 24,   9,   0, ...,   0,   0,   0],\n",
              "        ...,\n",
              "        [161, 206,  65, ...,   0,   0,   0],\n",
              "        [218,   0,   0, ...,   0,   0,   0],\n",
              "        [327,   5,   0, ...,   0,   0,   0]]),\n",
              " array([[0],\n",
              "        [0],\n",
              "        [1],\n",
              "        [1],\n",
              "        [1],\n",
              "        [0],\n",
              "        [1],\n",
              "        [1],\n",
              "        [1],\n",
              "        [0],\n",
              "        [0],\n",
              "        [1],\n",
              "        [1],\n",
              "        [0],\n",
              "        [1],\n",
              "        [0],\n",
              "        [0],\n",
              "        [0],\n",
              "        [0],\n",
              "        [1]]))"
            ]
          },
          "metadata": {},
          "execution_count": 75
        }
      ],
      "source": [
        "# Retrieve a single batch of data from the train dataset\n",
        "train.as_numpy_iterator().next()"
      ]
    },
    {
      "cell_type": "code",
      "execution_count": 76,
      "metadata": {
        "colab": {
          "base_uri": "https://localhost:8080/"
        },
        "id": "YWK879_Cz2Wh",
        "outputId": "7aa209cf-567d-4608-9ed6-5801af1b927d"
      },
      "outputs": [
        {
          "output_type": "execute_result",
          "data": {
            "text/plain": [
              "(array([[  6,  55,   0, ...,   0,   0,   0],\n",
              "        [754, 550, 106, ...,   0,   0,   0],\n",
              "        [145,   2,   0, ...,   0,   0,   0],\n",
              "        ...,\n",
              "        [182,   0,   0, ...,   0,   0,   0],\n",
              "        [ 79, 141,  58, ...,   0,   0,   0],\n",
              "        [ 57,   5,  10, ...,   0,   0,   0]]),\n",
              " array([[0],\n",
              "        [0],\n",
              "        [1],\n",
              "        [1],\n",
              "        [0],\n",
              "        [1],\n",
              "        [0],\n",
              "        [0],\n",
              "        [1],\n",
              "        [1],\n",
              "        [1],\n",
              "        [1],\n",
              "        [0],\n",
              "        [1],\n",
              "        [0],\n",
              "        [0],\n",
              "        [0],\n",
              "        [1],\n",
              "        [0],\n",
              "        [1]]))"
            ]
          },
          "metadata": {},
          "execution_count": 76
        }
      ],
      "source": [
        "# Retrieve a single batch of data from the validation dataset\n",
        "validation.as_numpy_iterator().next()"
      ]
    },
    {
      "cell_type": "code",
      "execution_count": 77,
      "metadata": {
        "colab": {
          "base_uri": "https://localhost:8080/"
        },
        "id": "G9Nie4ZRz88o",
        "outputId": "25c20dee-0b7d-4cd4-f6cf-d9974682e92b"
      },
      "outputs": [
        {
          "output_type": "execute_result",
          "data": {
            "text/plain": [
              "(array([[ 40, 653,   0, ...,   0,   0,   0],\n",
              "        [ 16,   5,   0, ...,   0,   0,   0],\n",
              "        [396,  12,   0, ...,   0,   0,   0],\n",
              "        ...,\n",
              "        [ 17,  11,   0, ...,   0,   0,   0],\n",
              "        [360, 666,   0, ...,   0,   0,   0],\n",
              "        [369,   3,   0, ...,   0,   0,   0]]),\n",
              " array([[0],\n",
              "        [1],\n",
              "        [1],\n",
              "        [1],\n",
              "        [0],\n",
              "        [1],\n",
              "        [1],\n",
              "        [1],\n",
              "        [1],\n",
              "        [0],\n",
              "        [1],\n",
              "        [0],\n",
              "        [0],\n",
              "        [0],\n",
              "        [0],\n",
              "        [0],\n",
              "        [1],\n",
              "        [1],\n",
              "        [0],\n",
              "        [1]]))"
            ]
          },
          "metadata": {},
          "execution_count": 77
        }
      ],
      "source": [
        "# Retrieve a single batch of data from the test dataset\n",
        "test.as_numpy_iterator().next()"
      ]
    },
    {
      "cell_type": "code",
      "execution_count": 78,
      "metadata": {
        "colab": {
          "base_uri": "https://localhost:8080/"
        },
        "id": "__9NdwQR40ze",
        "outputId": "fb32ff04-da13-446c-df38-f8c0bc49e326"
      },
      "outputs": [
        {
          "output_type": "execute_result",
          "data": {
            "text/plain": [
              "array([0])"
            ]
          },
          "metadata": {},
          "execution_count": 78
        }
      ],
      "source": [
        "b[0]"
      ]
    },
    {
      "cell_type": "code",
      "source": [
        "from keras.models import Sequential\n",
        "from tensorflow.keras.layers import Input, Dense, Embedding, LSTM, GlobalMaxPooling1D"
      ],
      "metadata": {
        "id": "Qy4ktPFKTDEu"
      },
      "execution_count": 79,
      "outputs": []
    },
    {
      "cell_type": "code",
      "execution_count": 80,
      "metadata": {
        "colab": {
          "base_uri": "https://localhost:8080/"
        },
        "id": "OfJVSZMS0BDd",
        "outputId": "1b3843ea-7afd-468c-db9e-6fba0baeee36"
      },
      "outputs": [
        {
          "output_type": "stream",
          "name": "stdout",
          "text": [
            "Model: \"sequential_7\"\n",
            "_________________________________________________________________\n",
            " Layer (type)                Output Shape              Param #   \n",
            "=================================================================\n",
            " embedding_7 (Embedding)     (None, None, 20)          400020    \n",
            "                                                                 \n",
            " lstm_7 (LSTM)               (None, None, 15)          2160      \n",
            "                                                                 \n",
            " global_max_pooling1d_6 (Glo  (None, 15)               0         \n",
            " balMaxPooling1D)                                                \n",
            "                                                                 \n",
            " dense_16 (Dense)            (None, 32)                512       \n",
            "                                                                 \n",
            " dense_17 (Dense)            (None, 1)                 33        \n",
            "                                                                 \n",
            "=================================================================\n",
            "Total params: 402,725\n",
            "Trainable params: 402,725\n",
            "Non-trainable params: 0\n",
            "_________________________________________________________________\n"
          ]
        }
      ],
      "source": [
        "#Build Model\n",
        "\n",
        "# Define the sequential model for text classification\n",
        "model = Sequential()\n",
        "model.add(Embedding(MAX_WORD+1, 20))\n",
        "model.add(LSTM(15, return_sequences=True))\n",
        "model.add(GlobalMaxPooling1D())\n",
        "model.add(Dense(32, activation='relu'))\n",
        "model.add(Dense(1, activation='sigmoid'))\n",
        "\n",
        "model.compile(loss='binary_crossentropy', optimizer='adam', metrics=['accuracy'])\n",
        "\n",
        "model.summary()"
      ]
    },
    {
      "cell_type": "code",
      "execution_count": 81,
      "metadata": {
        "colab": {
          "base_uri": "https://localhost:8080/"
        },
        "id": "eRf30-I50TUD",
        "outputId": "f7a0639e-9d83-4888-9a41-78373f06899a"
      },
      "outputs": [
        {
          "output_type": "stream",
          "name": "stdout",
          "text": [
            "Epoch 1/10\n",
            "28/28 [==============================] - 17s 506ms/step - loss: 0.6922 - accuracy: 0.6000 - val_loss: 0.6883 - val_accuracy: 0.8117\n",
            "Epoch 2/10\n",
            "28/28 [==============================] - 14s 486ms/step - loss: 0.6800 - accuracy: 0.8589 - val_loss: 0.6658 - val_accuracy: 0.8636\n",
            "Epoch 3/10\n",
            "28/28 [==============================] - 15s 528ms/step - loss: 0.6338 - accuracy: 0.9018 - val_loss: 0.5776 - val_accuracy: 0.9221\n",
            "Epoch 4/10\n",
            "28/28 [==============================] - 14s 502ms/step - loss: 0.4830 - accuracy: 0.9054 - val_loss: 0.3227 - val_accuracy: 0.9221\n",
            "Epoch 5/10\n",
            "28/28 [==============================] - 14s 518ms/step - loss: 0.2759 - accuracy: 0.8875 - val_loss: 0.2137 - val_accuracy: 0.9091\n",
            "Epoch 6/10\n",
            "28/28 [==============================] - 15s 549ms/step - loss: 0.3563 - accuracy: 0.8786 - val_loss: 0.2335 - val_accuracy: 0.8961\n",
            "Epoch 7/10\n",
            "28/28 [==============================] - 14s 482ms/step - loss: 0.2237 - accuracy: 0.9000 - val_loss: 0.1798 - val_accuracy: 0.9221\n",
            "Epoch 8/10\n",
            "28/28 [==============================] - 14s 490ms/step - loss: 0.1246 - accuracy: 0.9607 - val_loss: 0.1043 - val_accuracy: 0.9610\n",
            "Epoch 9/10\n",
            "28/28 [==============================] - 14s 487ms/step - loss: 0.0864 - accuracy: 0.9732 - val_loss: 0.0577 - val_accuracy: 0.9870\n",
            "Epoch 10/10\n",
            "28/28 [==============================] - 14s 492ms/step - loss: 0.0538 - accuracy: 0.9875 - val_loss: 0.0319 - val_accuracy: 0.9935\n"
          ]
        }
      ],
      "source": [
        "EPOCHS = 10\n",
        "history = model.fit(train,validation_data=validation,epochs=EPOCHS)"
      ]
    },
    {
      "cell_type": "code",
      "execution_count": 82,
      "metadata": {
        "id": "8cdkFI7Q6OIa",
        "colab": {
          "base_uri": "https://localhost:8080/"
        },
        "outputId": "18e4f4fc-4fc2-4ce9-94f5-31f293e74398"
      },
      "outputs": [
        {
          "output_type": "execute_result",
          "data": {
            "text/plain": [
              "{'loss': [0.692188560962677,\n",
              "  0.6800413727760315,\n",
              "  0.6337790489196777,\n",
              "  0.4829830825328827,\n",
              "  0.27594009041786194,\n",
              "  0.35628557205200195,\n",
              "  0.22366243600845337,\n",
              "  0.12463784962892532,\n",
              "  0.08636261522769928,\n",
              "  0.053760673850774765],\n",
              " 'accuracy': [0.6000000238418579,\n",
              "  0.8589285612106323,\n",
              "  0.9017857313156128,\n",
              "  0.9053571224212646,\n",
              "  0.887499988079071,\n",
              "  0.8785714507102966,\n",
              "  0.8999999761581421,\n",
              "  0.9607142806053162,\n",
              "  0.9732142686843872,\n",
              "  0.987500011920929],\n",
              " 'val_loss': [0.6883077025413513,\n",
              "  0.6657879948616028,\n",
              "  0.5776048302650452,\n",
              "  0.3227178156375885,\n",
              "  0.21365498006343842,\n",
              "  0.23351429402828217,\n",
              "  0.1797923743724823,\n",
              "  0.10427144169807434,\n",
              "  0.05770116671919823,\n",
              "  0.03191433846950531],\n",
              " 'val_accuracy': [0.8116883039474487,\n",
              "  0.8636363744735718,\n",
              "  0.9220778942108154,\n",
              "  0.9220778942108154,\n",
              "  0.9090909361839294,\n",
              "  0.8961039185523987,\n",
              "  0.9220778942108154,\n",
              "  0.9610389471054077,\n",
              "  0.9870129823684692,\n",
              "  0.9935064911842346]}"
            ]
          },
          "metadata": {},
          "execution_count": 82
        }
      ],
      "source": [
        "history.history"
      ]
    },
    {
      "cell_type": "code",
      "execution_count": 83,
      "metadata": {
        "id": "4QZzbJTk6U6M",
        "colab": {
          "base_uri": "https://localhost:8080/",
          "height": 927
        },
        "outputId": "5aa14f89-8868-46f9-cf0d-0807cfdb1497"
      },
      "outputs": [
        {
          "output_type": "display_data",
          "data": {
            "text/plain": [
              "<Figure size 640x480 with 1 Axes>"
            ],
            "image/png": "[encoded data removed]"
          },
          "metadata": {}
        },
        {
          "output_type": "display_data",
          "data": {
            "text/plain": [
              "<Figure size 640x480 with 1 Axes>"
            ],
            "image/png": "[encoded data removed]"
          },
          "metadata": {}
        }
      ],
      "source": [
        "from matplotlib import pyplot as plt\n",
        "\n",
        "plt.plot(history.history['accuracy'])\n",
        "plt.plot(history.history['val_accuracy'])\n",
        "plt.title('model accuracy')\n",
        "plt.ylabel('accuracy')\n",
        "plt.xlabel('epoch')\n",
        "plt.legend(['train', 'test'], loc='upper left')\n",
        "plt.show()\n",
        "\n",
        "plt.plot(history.history['loss'])\n",
        "plt.plot(history.history['val_loss'])\n",
        "plt.title('model loss')\n",
        "plt.ylabel('loss')\n",
        "plt.xlabel('epoch')\n",
        "plt.legend(['train', 'test'], loc='upper left')\n",
        "plt.show()"
      ]
    },
    {
      "cell_type": "code",
      "execution_count": 84,
      "metadata": {
        "id": "FIMKHlbNBb4n"
      },
      "outputs": [],
      "source": [
        "batch_c = test.as_numpy_iterator().next()"
      ]
    },
    {
      "cell_type": "code",
      "execution_count": 97,
      "metadata": {
        "id": "CcFfXpCfCeTW"
      },
      "outputs": [],
      "source": [
        "masukan_text = data('Water (Eau), Propanedoil, PPG-3, Isostearyl Methyl Ether, Niacinamide, Glyceryl Polyacrylate, Phenoxyethanol, Ammonium Acryloyldimethyltaurate/VP Copoylymer, Ammonium Acryloyldimethyltaurate/Beheneth-25 Methacrylate Crosspolymer, Acrylates/C10-30 Alkyl Acrylate Crosspolymer, Caprylyl Glycol, Cellulose Gum, Tromethamine, Tocopheryl Acetate, Fragrance (Parfum), Citrullus Lanatus (Watermelon) Fruit Extract, Sodium Hyaluronate, Cyanocobalamin, Benzyl Alcohol, Hexyl Cinnamal, Limonene, Linalool')"
      ]
    },
    {
      "cell_type": "code",
      "execution_count": 98,
      "metadata": {
        "id": "OFx-RgtWC1MP",
        "colab": {
          "base_uri": "https://localhost:8080/"
        },
        "outputId": "19c6549f-676b-40fc-a1af-e9fcd138caa2"
      },
      "outputs": [
        {
          "output_type": "stream",
          "name": "stdout",
          "text": [
            "1/1 [==============================] - 0s 239ms/step\n"
          ]
        },
        {
          "output_type": "execute_result",
          "data": {
            "text/plain": [
              "array([[0.00036381]], dtype=float32)"
            ]
          },
          "metadata": {},
          "execution_count": 98
        }
      ],
      "source": [
        "model.predict(np.expand_dims(masukan_text,0))"
      ]
    },
    {
      "cell_type": "code",
      "source": [
        "model.save('funne_sentiment_analysis.v.03')"
      ],
      "metadata": {
        "colab": {
          "base_uri": "https://localhost:8080/"
        },
        "id": "QQ3T8rwqTXJF",
        "outputId": "a93cfa98-8ee8-4cbe-8ed1-9793b6a34572"
      },
      "execution_count": 99,
      "outputs": [
        {
          "output_type": "stream",
          "name": "stderr",
          "text": [
            "WARNING:absl:Found untraced functions such as _update_step_xla, lstm_cell_9_layer_call_fn, lstm_cell_9_layer_call_and_return_conditional_losses while saving (showing 3 of 3). These functions will not be directly callable after loading.\n"
          ]
        }
      ]
    },
    {
      "cell_type": "code",
      "source": [
        "model.save('funne_sentiment_analysis.v.03.h5')   "
      ],
      "metadata": {
        "id": "F2VT5IhATqGV"
      },
      "execution_count": 101,
      "outputs": []
    },
    {
      "cell_type": "code",
      "source": [
        "import csv\n",
        "\n",
        "data = []\n",
        "with open('/content/Dataset Sentiment Analysis.csv', 'r') as csvfile:\n",
        "    reader = csv.reader(csvfile, skipinitialspace=True)\n",
        "    data.append(tuple(next(reader)))\n",
        "    for num, val in reader:\n",
        "        data.append((int(num), val))\n",
        "\n",
        "print(data)\n"
      ],
      "metadata": {
        "colab": {
          "base_uri": "https://localhost:8080/"
        },
        "id": "HOgzgv0OUXEk",
        "outputId": "987b40d5-82e6-4ed4-b607-8ff9f0512130"
      },
      "execution_count": 103,
      "outputs": [
        {
          "output_type": "stream",
          "name": "stdout",
          "text": [
            "[('Label', 'Ingredients'), (0, 'Algae (Seaweed) Extract'), (0, 'Mineral Oil'), (0, 'Petrolatum'), (0, 'Glycerin'), (0, 'Isohexadecane'), (0, 'Microcrystalline Wax'), (0, 'Lanolin Alcohol'), (0, 'Citrus Aurantifolia (Lime) Extract'), (1, 'Sesamum Indicum (Sesame) Seed Oil'), (0, 'Eucalyptus Globulus (Eucalyptus) Leaf Oil'), (0, 'Sesamum Indicum (Sesame) Seed Powder'), (0, 'Medicago Sativa (Alfalfa) Seed Powder'), (0, 'Helianthus Annuus (Sunflower) Seedcake'), (0, 'Sodium Gluconate'), (0, 'Copper Gluconate'), (0, 'Calcium Gluconate'), (0, 'Magnesium Gluconate'), (0, 'Zinc Gluconate'), (0, 'Magnesium Sulfate'), (0, '1,2-Hexanediol'), (0, 'Acetyl Glucosamine'), (0, 'Acetyl Glutamine'), (0, 'Acetyl Heptapeptide-9'), (0, 'Acetyl Methionine'), (0, 'Acrylates Copolymer'), (0, 'Adenosine'), (0, 'Alchemilla Vulgaris Leaf Extract'), (0, 'Alcohol Denat'), (0, 'Algae Extract'), (0, 'Allantoin'), (0, 'Aloe Barbadensis Flower Extract'), (0, 'Aloe Vera'), (0, 'Alpha-Glucan Oligosaccharide'), (0, 'Althaea Rosea Flower Extract'), (0, 'Alumina'), (0, 'Aminomethyl Propanol'), (0, 'Ammonium Lauryl Sulfate'), (0, 'Amodimethicone'), (0, 'Anhydroxylitol'), (0, 'Anthemis Nobilis Flower Extract'), (0, 'Arginine'), (0, 'Ascorbyl Glucoside'), (0, 'Aspalathus Linearis Extract'), (0, 'Aspartic Acid'), (0, 'Barley (Hordeum Vulgare) Seed Extract'), (0, 'Bentonite'), (0, 'Benzalkonium Chloride'), (0, 'Benzoic Acid'), (0, 'Benzophenone-4'), (0, 'Beta-Glucan'), (0, 'Betaine Salicylate'), (0, 'BHT'), (0, 'Bisabolol'), (0, 'Borago Officinalis Extract'), (0, 'Butylene Glycol'), (0, 'Butylphenyl Methylpropional'), (0, 'C12-15 Alkyl Benzoate'), (0, 'Calcium Chloride'), (0, 'Calendula Officinalis Flower Extract'), (0, 'Capryloyl Salicylic Acid'), (0, 'Caprylyl Glucoside'), (0, 'Caprylyl Glycol'), (0, 'Caprylyl Methicone'), (0, 'Caramel'), (0, 'Carbomer'), (0, 'Carnosine'), (0, 'Carrageenan'), (0, 'Centaurea Cyanus Flower Water'), (0, 'Centella Asiatica (Gotu Kola) Extract'), (0, 'Cetrimonium Bromide'), (0, 'Cetyl Alcohol'), (0, 'Cetyl Phosphate'), (0, 'Charcoal Powder'), (0, 'Chlorella Vulgaris Extract'), (0, 'Chlorhexidine Digluconate'), (0, 'Chlorphenesin'), (0, 'Chlorphenesin'), (0, 'Cinnamomum Zeylanicum Bark Oil'), (0, 'Citral'), (0, 'Citric Acid'), (0, 'Citronellol'), (0, 'Citrus Aurantium Dulcis (Orange) Oil'), (0, 'Cocamidopropyl Betaine'), (0, 'Cocamidopropyl Hydroxysultaine'), (0, 'Coccinia Indica Fruit Extract'), (0, 'Coco-Glucoside'), (0, 'Colloidal Gold'), (0, 'Copper Gluconate'), (0, 'Copper Tripeptide-1'), (0, 'Cucumis Sativus Fruit Extract'), (0, 'Curcumin'), (0, 'Cyclodextrin'), (0, 'Cyclohexasiloxane'), (0, 'Dead Sea Salt'), (0, 'Decyl Glucoside'), (0, 'Dehydroacetic Acid'), (0, 'Dibutyl Adipate'), (0, 'Dimethicone Crosspolymer'), (0, 'Dimethyl Sulfone'), (0, 'Dipotassium Glycyrrhizate'), (0, 'Dipotassium Phosphate'), (0, 'Dipropylene Glycol'), (0, 'Disodium Cocoamphodiacetate'), (0, 'Disodium Cocoyl Glutamate'), (0, 'Disodium EDTA'), (0, 'Disodium Laureth Sulfosuccinate'), (0, 'Echinacea Purpurea Root Extract'), (0, 'Ectoin'), (0, 'Ergothioneine'), (0, 'Ethoxydiglycol'), (0, 'Ethyl Hexanediol'), (0, 'Ethylhexylglycerin'), (0, 'Evodia Rutaecarpa Fruit Extract'), (0, 'Farnesol'), (0, 'Ferulic Acid'), (0, 'Fragrance'), (0, 'Fructooligosaccharides'), (0, 'Galactoarabinan'), (0, 'Ginkgo Biloba Nut Extract'), (0, 'Gluconolactone'), (0, 'Glutamic Acid'), (0, 'Glycerin'), (0, 'Glycolic Acid'), (0, 'Glycosyl Trehalose'), (0, 'Guar Gum'), (0, 'Hamamelis Virginiana'), (0, 'Hexyl Cinnamal'), (0, 'Hexylene Glycol'), (0, 'Honey Extract'), (0, 'Hyaluronic Acid'), (0, 'Hydrolyzed Collagen'), (0, 'Hydrolyzed Corn Starch'), (0, 'Hydrolyzed Hyaluronic Acid'), (0, 'Hydrolyzed Quinoa'), (0, 'Hydrolyzed Rhodophyceae Extract'), (0, 'Hydrolyzed Sodium Hyaluronate'), (0, 'Hydroxypropylcellulose'), (0, 'Iron Oxides'), (0, 'Isatis Tinctoria Leaf Extract'), (0, 'Isododecane'), (0, 'Isohexadecane'), (0, 'Juniperus Virginiana Oil'), (0, 'Kaolin'), (0, 'Laminaria Digitata Extract'), (0, 'Laminaria Saccharina Extract'), (0, 'Lauramidopropyl Betaine'), (0, 'Laureth-23'), (0, 'Lauryl Betaine'), (0, 'Lauryl Glucoside'), (0, 'Lauryl Hydroxysultaine'), (0, 'Lavandula Angustifolia (Lavender) Oil'), (0, 'Lavandula Hybrida Abrial Herb Oil'), (0, 'Lecithin'), (0, 'Levulinic Acid'), (0, 'Limonene'), (0, 'Limonia Acidissima Extract'), (0, 'Linalool'), (0, 'Lysine HCL'), (0, 'Madecassoside'), (0, 'Magnesium Aspartate'), (0, 'Maltodextrin'), (0, 'Maltooligosyl Glucoside'), (0, 'Menthol'), (0, 'Methyl Gluceth-20'), (0, 'Methyl Methacrylate Crosspolymer'), (0, 'Methylisothiazolinone'), (0, 'Methylpropanediol'), (0, 'Microcitrus Australasica Fruit Extract'), (0, 'Microcrystalline Cellulose'), (0, 'Morus Alba Fruit Extract'), (0, 'Myrciaria Dubia Fruit Extract'), (0, 'Myrtrimonium Bromide'), (0, 'Naringenin'), (0, 'Natto Gum'), (0, 'Niacinamide'), (0, 'Nylon-12'), (0, 'Nymphaea Caerulea Flower Water'), (0, 'Ocimum Sanctum Leaf Extract'), (0, 'Octocrylene'), (0, 'Opuntia Coccinellifera Fruit Extract'), (0, 'Origanum Vulgare Leaf Oil'), (0, 'Panthenol'), (0, 'Panthenyl Triacetate'), (0, 'Pantolactone'), (0, 'Pearl Powder'), (0, 'Pelargonium Graveolens Oil'), (0, 'Phellodendron Amurense Bark Extract'), (0, 'Phenoxyethanol'), (0, 'Phosphatidylcholine'), (0, 'Phytic Acid'), (0, 'Pogostemon Cablin Leaf Oil'), (0, 'Poloxamer 184'), (0, 'Polyacrylate-1 Crosspolymer'), (0, 'Polyaminopropyl Biguanide'), (0, 'Polyethylene Glycol'), (0, 'Polyglyceryl-4 Caprate'), (0, 'Polyglyceryl-4 Caprate'), (0, 'Polymethylsilsesquioxane'), (0, 'Polyquaternium-47'), (0, 'Polyquaternium-51'), (0, 'Polyurethane Crosspolymer-1'), (0, 'Portulaca Oleracea Extract'), (0, 'Potassium Azeloyl Diglycinate'), (0, 'Potassium Cocoyl Glycinate'), (0, 'Potassium Hydroxide'), (0, 'Potassium Sorbate'), (0, 'PPG-10 Methyl Glucose Ether'), (0, 'Proline'), (0, 'Propanediol'), (0, 'Propylene Glycol'), (0, 'Propylparaben'), (0, 'Punica Granatum (Pomegranate) Extract'), (0, 'PVP'), (0, 'Pyrus Malus (Apple) Fruit Extract'), (0, 'Quillaja Saponaria Bark Extract'), (0, 'Rhamnose'), (0, 'Rosa Damascena Flower Oil'), (0, 'Rosemary Essential Oil'), (0, 'Royal Jelly Extract'), (0, 'Salicylic Acid'), (0, 'Saponins'), (0, 'Sea Water'), (0, 'Sea Whip Extract'), (0, 'Silica'), (0, 'Sodium Benzoate'), (0, 'Sodium Bicarbonate'), (0, 'Sodium Carboxymethyl Hyaluronate'), (0, 'Sodium Chloride'), (0, 'Sodium Citrate'), (0, 'Sodium Cocoamphoacetate'), (0, 'Sodium Cocoyl Glycinate'), (0, 'Sodium Cocoyl Isethionate'), (0, 'Sodium Dehydroacetate'), (0, 'Sodium Hyaluronate'), (0, 'Sodium Hyaluronate'), (0, 'Sodium Hydroxide'), (0, 'Sodium Lactate'), (0, 'Sodium Laureth Sulfate'), (0, 'Sodium Lauroamphoacetate'), (0, 'Sodium Lauroyl Lactylate'), (0, 'Sodium Levulinate'), (0, 'Sodium Metabisulfite'), (0, 'Sodium PCA'), (0, 'Sorbic Acid'), (0, 'Sorbitol'), (0, 'Squalane'), (0, 'Succinic Acid'), (0, 'Sucrose'), (0, 'Synthetic Fluorphlogopite'), (0, 'Tamarindus Indica Seed Polysaccharide'), (0, 'Tea Tree Essential Oil'), (0, 'TEA-Cocoyl Glutamate'), (0, 'Tephrosia Purpurea Seed Extract'), (0, 'Tetrahexyldecyl Ascorbate'), (0, 'Tetrasodium EDTA'), (0, 'Theanine'), (0, 'Titanium Dioxide'), (0, 'Tocopherol'), (0, 'Tocopheryl Acetate'), (0, 'Trehalose'), (0, 'Triacetin'), (0, 'Triethanolamine'), (0, 'Triethyl Citrate'), (0, 'Trilaureth-4 Phosphate'), (0, 'Trisiloxane'), (0, 'Trisodium Ethylenediamine Disuccinate'), (0, 'Tromethamine'), (0, 'Valine'), (0, 'Vanilla Planifolia Fruit Extract'), (0, 'Vitis Vinifera (Grape) Juice'), (0, 'Water'), (0, 'Xanthan Gum'), (0, 'Xylitol'), (0, 'Zinc Gluconate'), (0, 'Zinc PCA'), (0, 'Zinc Sulfate'), (0, 'Zingiber Officinale (Ginger) Root Oil'), (1, 'Alpha-Linolenic Acid'), (1, 'Arachidic Acid'), (1, 'Arachidonic Acid'), (1, 'Behenic Acid'), (1, 'Dihomo-Y-Linolenic Acid'), (1, 'Docosahexaenoic Acid'), (1, 'Docosanoic Acid'), (1, 'Docosatetraenoic Acid'), (1, 'Dodecanoic Acid'), (1, 'Eicosanoic Acid'), (1, 'Eicosapentaenoic Acid'), (1, 'Elaidic Acid'), (1, 'Gondoic Acid'), (1, 'Erucic Acid'), (1, 'Gamma-Linolenic Acid'), (1, 'Heneicosanoic Acid'), (1, 'Heneicosylic Acid'), (1, 'Heptadecanoic Acid'), (1, 'Hexadecanoic Acid'), (0, 'Icosenoic Acid'), (1, 'Lauric Acid'), (1, 'Lignoceric Acid'), (1, 'Linoleic Acid'), (1, 'Linolelaidic Acid'), (1, 'Margaric Acid'), (1, 'Mead Acid'), (1, 'Myristic Acid'), (1, 'Nervonic Acid'), (1, 'Nonadecanoic Acid'), (1, 'Nonadecylic Acid'), (1, 'Octadecanoic Acid'), (1, 'Oleic Acid'), (1, 'Palmitic Acid'), (1, 'Palmitoleic Acid'), (1, 'Pentadecanoic Acid'), (1, 'Pentadecylic Acid'), (1, 'Stearic Acid'), (1, 'Stearidonic Acid'), (1, 'Tetracosanoic Acid'), (1, 'Tetradecanoic Acid'), (1, 'Tricosanoic Acid'), (1, 'Tricosylic Acid'), (1, 'Tridecanoic Acid'), (1, 'Tridecylic Acid'), (1, 'Undecanoic Acid'), (1, 'Vaccenic Acid'), (1, 'Undecylenic Acid'), (1, 'Acai Oil'), (1, 'Andiroba Oil'), (1, 'Apple Oil'), (1, 'Apricot Oil'), (1, 'Argan Oil'), (1, 'Avocado Butter'), (1, 'Avocado Oil'), (1, 'Babassu Oil'), (1, 'Badger Oil'), (1, 'Baobab Oil'), (1, 'Barbary Oil'), (1, 'Bear Oil'), (1, 'Beefsteak Oil'), (1, 'Bees Wax'), (1, 'Bitter Cherry Oil'), (1, 'Black Cumin Oil'), (1, 'Black Currant Oil'), (1, 'Black Pepper Oil'), (1, 'Black Sea Rod Oil'), (1, 'Blackberry Oil'), (1, 'Borage Oil'), (1, 'Brazil Nut Oil'), (1, 'Brazillian Palm Butter'), (1, 'Brazillian Palm Oil'), (1, 'Broccoli Oil'), (1, 'Burdock Oil'), (1, 'Buriti Oil'), (1, 'Cacay Oil'), (1, 'Candelilla Wax'), (1, 'Carnauba Wax'), (1, 'Carrot Oil'), (1, 'Castor Oil'), (1, 'Castor Wax'), (1, 'Celery Oil'), (1, 'Chia Oil'), (1, 'Chilean Hazelnut Oil '), (1, 'Chinaberry Oil'), (1, 'Cloudberry Oil'), (1, 'Cocoa Butter'), (1, 'Cocoa Oil'), (1, 'Coconut Butter'), (1, 'Coconut Oil'), (1, 'Coconut Wax'), (1, 'Cod Liver Oil'), (1, 'Coffee Butter'), (1, 'Coffee Wax'), (1, 'Coffee Oil'), (1, 'Common Plum Oil'), (1, 'Copenica Cerifera Wax'), (1, 'Corn Oil'), (1, 'Cotton Oil'), (1, 'Crambe Oil'), (1, 'Cranberry Oil'), (1, 'Cucumber Oil'), (1, 'Cumin Oil'), (1, 'Cupuacu Butter'), (1, 'Dog Rose Oil'), (1, 'East African Shea Butter'), (1, 'East African Shea Oil'), (1, 'Egg Oil'), (1, 'Emu Oil'), (1, 'Euphorbia Cerifera Wax'), (1, 'European Blueberry Oil'), (1, 'Evening Primrose Oil'), (1, 'Fish Oil'), (1, 'Flower Wax'), (1, 'Galip Oil'), (1, 'Ginseng Oil'), (1, 'Goji Oil'), (1, 'Grapeseed Oil'), (1, 'Harakeke Oil'), (1, 'Hazelnut Oil'), (1, 'Hemp Oil'), (1, 'Hog Plum Oil'), (1, 'Horse Oil'), (1, 'Illipe Butter'), (1, 'Illipe Oil'), (1, 'Japanese Pine Oil'), (1, 'Jojoba Oil'), (1, 'Jojoba Wax'), (1, 'Karanja Oil'), (1, 'Kiwi Oil'), (1, 'Korean Pine Oil'), (1, 'Kukui Oil'), (1, 'Lanolin Wax'), (1, 'Lard Oil'), (1, 'Lingonberry Oil'), (1, 'Linseed Oil'), (1, 'Macadamia Oil'), (1, 'Mango Butter'), (1, 'Mango Oil'), (1, 'Marula Oil'), (1, 'Meadowfoam Oil'), (1, 'Mink Oil'), (1, 'Mongongo Oil'), (1, 'Morel Oil'), (1, 'Moringa Oil'), (1, 'Mushroom Oil'), (1, 'Musk Mallow Oil'), (1, 'Musk Rose Oil'), (1, 'Mustard Oil'), (1, 'Neem Oil'), (1, 'Olive Butter'), (1, 'Olive Oil'), (1, 'Olus Oil'), (1, 'Opium Poppy Oil'), (1, 'Palm Butter'), (1, 'Palm Oil'), (1, 'Palm Olein'), (1, 'Palm Wax'), (1, 'Papaya Oil'), (1, 'Passion Flower Oil'), (1, 'Passion Fruit Oil'), (1, 'Pataua Oil'), (1, 'Peach Oil'), (1, 'Peanut Oil'), (1, 'Pecan Oil'), (1, 'Pequi Oil'), (1, 'Pistachio Oil'), (1, 'Pomegranate Oil'), (1, 'Pongamia Oil'), (1, 'Poppy Oil'), (1, 'Pracaxi Oil'), (1, 'Pumpkin Oil'), (1, 'Purcellin Oil'), (1, \"Purple Viper's Bugloss Oil\"), (1, 'Radish Oil'), (1, 'Rapeseed Oil'), (1, 'Raspberry Oil'), (1, 'Rice Oil'), (1, 'Rose Oil'), (1, 'Rosehip Oil'), (1, 'Safflower Oil'), (1, 'Seabuckthorn Oil'), (1, 'Sesame Oil'), (1, 'Shea Butter'), (1, 'Shea Oil'), (1, 'Shorea Butter'), (1, 'Shorea Oil'), (1, 'Siberian Pine Oil'), (1, 'Silybum Marianum Seed Oil'), (1, 'South American Palm Butter'), (1, 'South American Palm Oil'), (1, 'Soybean Oil'), (1, 'Sponge Gourd Oil'), (1, 'Strawberry Oil'), (1, 'Sunflower Oil'), (1, 'Sweet Almond Oil'), (1, 'Sweet Brier Oil'), (1, 'Sweet Cherry Oil'), (1, 'Tall Oil'), (1, 'Tallow Wax'), (1, 'Tamanu Oil'), (1, 'Tomato Oil'), (1, 'Truffle Oil'), (1, 'Tsubaki Oil'), (1, 'Vegetable Oil'), (1, 'Watermelon Oil'), (1, 'Wheat Germ Oil'), (1, 'Wheat Oil'), (1, 'White Lupin Oil'), (1, 'Wild Celery Oil'), (1, 'Yuzu Oil'), (1, 'Acetylated Glycol Stearate'), (1, 'Ascorbyl Palmitate'), (1, 'Cocoglycerides'), (1, 'Decyl Oleate'), (1, 'Ethly Macadamiate'), (1, 'Ethylhexyl Palmitate'), (1, 'Ethylhexyl Stearate'), (1, 'Glyceryl Laurate'), (1, 'Glyceryl Monostearate'), (1, 'Glyceryl Oleate'), (1, 'Glyceryl Stearate'), (1, 'Glycol Distearate'), (1, 'Hexyl Laurate'), (1, 'Hydrogenated Coco-Glycerides'), (1, 'Jojoba Esters'), (1, 'Hydroxystearic Acid'), (1, 'Isopropyl Myristate'), (1, 'Isopropyl Palmitate'), (1, 'PEG-10 Isostearate'), (1, 'PEG-100 Stearate'), (1, 'PEG-150 Distearate'), (1, 'PEG-20 Glyceryl Triisostearate'), (1, 'PEG-30 Dipolyhydroxystearate'), (1, 'PEG-35 Castor Oil'), (1, 'PEG-40 Castor Oil'), (1, 'PEG-40 Hydrogenated Castor Oil'), (1, 'PEG-40 Stearate'), (1, 'PEG-7 Glyceryl Cocoate'), (1, 'PEG-75 Lanolin'), (1, 'PEG-8 Laurate'), (1, 'PEG-Glyceryl Stearate'), (1, 'Pentaerythrityl Tetraisostearate'), (1, 'Polyglyceryl Isostearate'), (1, 'Polyglyceryl-3 Diisostearate'), (1, 'Polysorbate 20'), (1, 'Polysorbate 40'), (1, 'Polysorbate 60'), (1, 'Retinyl Palmitate'), (1, 'Polysorbate 80'), (1, 'Sorbitan Isostearate'), (1, 'Sorbitan Laurate'), (1, 'Sorbitan Trioleate'), (1, 'Sucrose Cocoate'), (1, 'Tribehenin'), (1, 'Trihydroxystearin'), (1, 'Triisostearin'), (1, 'Galactomyces '), (1, 'Galactomyces Ferment Filtrate'), (1, 'Methylparaben'), (1, 'Galactomyces Ferment Filtrate Pitera'), (1, 'Cetearyl Olivate'), (1, 'Sorbitan Olivate'), (1, 'Sclerocarya Birrea (Marula) Seed Oil'), (1, 'Glyceryl Distearate'), (1, 'Glyceryl Stearate Se'), (1, 'Isocetyl Stearoyl Stearate'), (1, 'Vegetable Oil'), (1, 'Vitellaria Paradoxa (Shea) Nut Butter'), (0, 'Paraffin'), (0, 'Tocopheryl Succinate'), (0, 'Beta-Carotene'), (0, 'Aluminum Distearate'), (0, 'Octyldodecanol'), (0, 'Cyanocobalamin'), (0, 'Magnesium Stearate'), (0, 'Geraniol'), (0, 'Hydroxycitronellal'), (1, 'Benzyl Salicylate'), (0, ' Sodium Benzoate'), (1, 'Galactomyces Ferment Filtrate (Pitera)'), (0, 'Pentylene Glycol'), (0, 'Dicaprylyl Carbonate'), (0, ' Cetearyl Alcohol'), (1, 'Bacillus/Soybean/ Folic Acid Ferment Extract'), (0, 'Nymphaea Alba Root Extract'), (0, 'sh-Oligopeptide-1'), (0, 'sh-Oligopeptide-2'), (0, 'sh-Polypeptide-1'), (0, 'Polypeptide-9'), (0, 'Polypeptide-11'), (0, 'Copper Palmitoyl Heptapeptide-14'), (0, 'Heptapeptide-15 Palmitate'), (0, 'Palmitoyl Tetrapeptide-7'), (0, 'Palmitoyl Tripeptide-1'), (0, 'Alanine'), (0, ' Arginine'), (0, 'Histidine'), (1, 'Aspergillus Ferment'), (1, 'Bacillus Ferment'), (1, 'Alteromonas Ferment Extract'), (1, 'Lactococcus Ferment Lysate'), (1, 'Lactococcus Ferment'), (1, 'Pseudoalteromonas Exopolysaccharides'), (1, 'Pseudoalteromonas Ferment Extract'), (1, 'Thermus Thermophillus Ferment'), (1, 'Leuconostoc/Radish Root Ferment Filtrate'), (1, 'Leuconostoc/Radish Root Fermentfiltrate'), (1, 'Rice Ferment Filtrate (Sake)'), (1, 'Rice Ferment Filtrate'), (1, 'Rice Filtrate Ferment'), (1, 'Saccharomyces Xylinum (Kombucha) Black Tea Ferment'), (1, 'Saccharomyces/Camellia Sinensis Leaf/Cladosiphon Okamuranus/Rice Ferment Filtrate'), (1, 'Saccharomyces/Xylinum/Black Tea Ferment'), (1, 'Saccharomyces/Rice Ferment Filtrate Extract'), (1, 'Saccharomyces/Rice Ferment Filtrate'), (1, 'Aspergillus/Rice Ferment Filtrate'), (1, 'Bacillus/Soybean/Folic Acid Ferment'), (1, 'Lactobacillus/Eriodictyon Californicum Ferment Extract'), (1, 'Lactobacillus/Pumpkin Fruit Ferment Filtrate'), (1, 'Lactobacillus/Rice Ferment Filtrate'), (1, 'Lactobacillus/Tomato Fruit Ferment Extract'), (1, 'Lactobacillus/Wasabia Japonica Root Ferment Extract'), (1, 'Lactobacillus/Water Hyacinth Ferment'), (1, 'Saccharomyces Cerevisiae Extract'), (1, 'Saccharomyces Cerevisiae'), (1, 'Saccharomyces'), (1, 'Saccharomyces Ferment Filtrate'), (1, 'Saccharomyces Ferment'), (1, 'Saccharomyces (Lysate, Copper, Zinc) Ferment'), (1, 'Saccharomyces (Lysate Copper Zinc) Ferment'), (1, 'Saccharomyces/Copper Ferment'), (1, 'Saccharomyces/Iron Ferment'), (1, 'Saccharomyces/Magnesium Ferment'), (1, 'Saccharomyces/Silicon Ferment'), (1, 'Saccharomyces/Zinc Ferment'), (1, 'Yeast'), (1, 'Yeast Extract'), (1, 'Faex (Yeast Extract)'), (1, 'Hydrolyzed Yeast Extract'), (1, 'Yeast Extract/Faex/Extrait De Levure'), (0, 'Isoleucine'), (0, 'Threonine'), (0, 'Valine'), (0, 'Acetyl Glutamine'), (0, 'Coconut Alkanes'), (0, 'Lecithin'), (0, 'Butylene Glycol'), (0, 'Polyvinyl Alcohol'), (0, 'Sodium PCA'), (0, 'Cholesterol'), (0, 'Prunus Amygdalus Dulcis (Sweet Almond) Seed Meal'), (1, 'Butyrospermum Parkii (Shea Butter)'), (0, 'Steareth-10'), (1, 'Sesamum Indicum (Sesame) Seed Oil'), (0, 'Medicago Sativa (Alfalfa) Seed Powder'), (0, 'Tocopheryl Succinate'), (1, 'Butyloctyl Salicylate'), (1, 'Polyglyceryl-4 Isostearate'), (1, 'Orbignya Oleifera (Babassu) Seed Oil'), (1, 'Vitis Vinifera (Grapeseed) Seed Oil'), (1, 'Punica Granatum (Pomegranate) Seed Oil'), (1, 'Persea Gratissima (Avocado) Fruit Oil'), (0, 'Snail Secretion Filtrate'), (0, 'Tetrahexyldecyl Ascorbate'), (0, 'Cyclopentasiloxane'), (0, 'Citrus Aurantifolia (Lime) Peel Extract'), (0, ' Pentafluoropropane'), (1, 'Polyglyceryl-6 Ximenia Americana Seedate'), (1, 'Adansonia Digitata (Baobab) Seed Oil'), (1, 'Citrullus Lanatus (Watermelon) Seed Oil'), (1, 'Passiflora Edulis (Passion Fruit) Seed Oil'), (1, 'Schinziophyton Rautenenii (Mongongo) Kernel Oil'), (0, ' Plantago Lanceolata Leaf Extract'), (1, 'Peg-8 Stearate'), (1, 'Prunus Armeniaca (Apricot) Kernel Oil'), (1, 'Olea Europaea (Olive) Fruit Oil'), (1, 'Oryza Sativa (Rice) Bran Oil'), (1, 'Prunus Amygdalus (Sweet Almond) Kernel Oil'), (0, 'Sucrose Stearate'), (0, 'Acrylates/C10-30 Alkyl Acrylate Crosspolymer'), (0, 'Cucumis Sativus (Cucumber) Fruit Extract'), (0, 'Caprylic/Capric Triglyceride'), (0, 'Hydrogenated Starch Hydrolysate'), (0, 'Mortierella Oil'), (0, 'Cantharis Vesicatoria 3x (Treats burns and scalds)'), (0, 'Polyglutamic Acid'), (1, 'Ascorbyl Tetraisopalmitate'), (0, ' Propylene Glycol Dicaprylate/Dicaprate'), (0, 'Cetearyl Glucoside'), (0, 'Algae Extract'), (0, 'Polymethyl Methacrylate'), (0, 'Hibiscus Esculentus Fruit Extract'), (0, 'Lepidium Meyenii Root Extract'), (1, 'Cucumis Sativus (Cucumber) Seed Oil'), (1, 'Simmondsia Chinensis (Jojoba) Seed Oil'), (1, 'Helianthus Annuus (Sunflower) Seed Oil'), (1, 'Macadamia Ternifolia (Macadamia) Nut Oil'), (1, 'Salvia Hispanica (Chia) Seed Oil'), (1, 'Limnanthes Alba (Meadowfoam) Seed Oil'), (0, ' Potassium Hydroxide'), (0, 'Sclerotium Gum'), (1, 'Isopropyl Isostearate'), (1, 'Raspberry Seed Oil/Tocopheryl Succinate Aminopropanediol Esters'), (1, 'Polyhydroxystearic Acid'), (1, 'Glycine Soja (Soybean) Seed Oil'), (1, 'Isostearyl Isostearate'), (1, 'Sodium Peg-7 Olive Oil Carboxylate'), (1, 'Methylsilanol Tri-Peg-8 Glyceryl Cocoate'), (1, 'Ethylparaben'), (1, 'Sorbitan Sesquiisostearate'), (1, 'Isostearic Acid'), (1, 'Butylparaben'), (1, 'Phytosteryl Macadamiate'), (1, 'Peg-60 Hydrogenated Castor Oil'), (1, 'Beeswax'), (1, 'Ethylhexyl Salicylate'), (1, 'Butyl Methoxydibenzoylmethane'), (1, 'Rosa Canina (Rosehip) Seed Oil'), (0, 'Dimethicone'), (0, 'Glyceryl Polymethacrylate'), (0, 'Palmitoyl Hexapeptide-12'), (0, 'Saccharide Isomerate '), (0, 'Magnesium Ascorbyl Phosphate'), (0, 'Hydrogenated Lecithin'), (0, 'Angelica Keiskei Extract'), (0, ' Dimethiconol'), (1, 'Hydrolyzed Yeast Protein'), (0, ' Beta-Carotene'), (0, ' Petrolatum'), (0, ' Aluminum Distearate'), (0, ' Cyanocobalamin'), (0, 'Lauroyl Lysine'), (0, 'Succinoglycan'), (0, 'Salicornia Herbacea Extract'), (0, 'Disodium Adenosine Triphosphate'), (0, 'Sodium Hexametaphosphate'), (0, 'Octyl Methoxycinnamate')]\n"
          ]
        }
      ]
    },
    {
      "cell_type": "code",
      "source": [
        "import json\n",
        "with open(\"./data.json\", \"w\") as output:\n",
        "    output.write(json.dumps(data))"
      ],
      "metadata": {
        "id": "814ivRSrU89l"
      },
      "execution_count": 104,
      "outputs": []
    }
  ]
}